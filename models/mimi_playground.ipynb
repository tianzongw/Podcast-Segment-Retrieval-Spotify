{
 "cells": [
  {
   "cell_type": "code",
   "execution_count": 44,
   "metadata": {},
   "outputs": [],
   "source": [
    "import json\n",
    "import os\n",
    "from sklearn.feature_extraction.text import TfidfVectorizer\n",
    "import rank_bm25 as bm25\n",
    "import pandas as pd\n",
    "import numpy as np\n",
    "import re\n",
    "import string\n",
    "from gensim.parsing.preprocessing import remove_stopwords"
   ]
  },
  {
   "cell_type": "code",
   "execution_count": 22,
   "metadata": {},
   "outputs": [],
   "source": [
    "wd = '/media/sf_year2/DD2430-Project/Podcast-Segment-Retrieval-Spotify/'\n",
    "os.chdir(wd)\n",
    "files = os.listdir('./data/training_episodes')\n",
    "files = [f for f in files if f != 'place_holder']\n",
    "#files"
   ]
  },
  {
   "cell_type": "code",
   "execution_count": 10,
   "metadata": {},
   "outputs": [],
   "source": [
    "with open(os.path.join('./data', 'training_sub.json'), 'rb') as f:\n",
    "    training_data = json.load(f)\n",
    "\n",
    "training_docs = training_data.keys()\n"
   ]
  },
  {
   "cell_type": "code",
   "execution_count": 68,
   "metadata": {},
   "outputs": [],
   "source": [
    "def strip_punctuation(text):\n",
    "    return text.translate(text.maketrans(\"\", \"\", string.punctuation))\n",
    "\n",
    "\n",
    "def clean_text(text):\n",
    "    t = text.lower()\n",
    "    t = strip_punctuation(t)\n",
    "    t = remove_stopwords(t)\n",
    "    return t\n",
    "    \n",
    "# Simon's  extraction function\n",
    "def extract_segments(path):\n",
    "    \"\"\"Given path to json file containing an episode extracts all segments of that episode, \n",
    "    including start and end time of each segment.\"\"\"\n",
    "    with open(path, \"r\") as read_file:\n",
    "        episode = json.load(read_file)\n",
    "    segments=[]\n",
    "    segment_transcripts = []\n",
    "    #had to do \"manual\" iteration due to irregularities in data\n",
    "    iter=0\n",
    "    for segment in episode[\"results\"]:\n",
    "        seg_result={}\n",
    "        \n",
    "        #make sure there is only one dict in this list (should be true according to dataset description)\n",
    "        assert len(segment[\"alternatives\"])==1\n",
    "        segment_dict=segment[\"alternatives\"][0]\n",
    "        #sometimes \"alternatives\" dict is empty...\n",
    "        if \"words\" and \"transcript\"  in segment_dict:\n",
    "            #add segment number\n",
    "            seg_result[\"segNum\"]=iter\n",
    "            #add timestamp of the first word in this segment\n",
    "            seg_result[\"startTime\"]=segment_dict[\"words\"][0][\"startTime\"]\n",
    "            #add timestamp of the last word in this segment\n",
    "            seg_result[\"endTime\"]=segment_dict[\"words\"][-1][\"endTime\"]\n",
    "            #add transcript of this segment \n",
    "            tr = segment_dict[\"transcript\"]\n",
    "            seg_result[\"transcript\"]=tr\n",
    "            segment_transcripts.append(tr)\n",
    "            segments.append(seg_result)\n",
    "            iter+=1\n",
    "            \n",
    "    return {'segments': segments, \"full_text\": \"\".join(segment_transcripts)}\n"
   ]
  },
  {
   "cell_type": "code",
   "execution_count": 69,
   "metadata": {},
   "outputs": [],
   "source": [
    "training_sub = {}\n",
    "\n",
    "for filename in files:\n",
    "#     with open(os.path.join(\"./data/training_episodes\", filename), 'rb') as f:\n",
    "#         dat = json.load(f)\n",
    "    \n",
    "    training_sub[os.path.splitext(filename)[0]] = extract_segments(os.path.join(\"./data/training_episodes\", filename))\n",
    "\n",
    "# training_sub"
   ]
  },
  {
   "cell_type": "code",
   "execution_count": 71,
   "metadata": {},
   "outputs": [
    {
     "data": {
      "text/plain": [
       "'hi im tanya thompson creator executive producer nightlight horror podcast featuring creepy tales black writers world week special treat want thank newest patrons sarah brianna merit jonathan byron tish kanani hope said right im sorry didnt thank patrons helping support podcast podcast patrons join nightlight legion patreon going patreoncom slash nightlight pot onetime donation paypal dot slash nightlight podcast weeks story author ebony dunbar percivals universe month aired bennett benefit week airing london calling story meet werewolves discover actually happened alexander percival sid turn lights enjoy percivals london calling ebony dunbar damn damn damn elena cursed ran alleyway darling language anna maria said taking tight left turn lifting voluminous skirt trip eleanor followed close making turn sending circle going fast truth maria hear creature catching turned right waiting arms vampire damn anna maria came stop eleanor smirk moved stand anna marias rolling shoulders ready fight ready die percivals vampire anna maria slurred hidden true face beauty handsome young woman bright pink cheeks long glossy blond hair monsters hideousness mistaken red eyes glowed cheeks marred wrinkles flesh stretched contorted elongated fangs glossy hair gone replaced dry stringy remnants sneered best mouth anna maria holy water monsters face lunged caterwaul doorbell vampire tossed aside building nearest annamaria struggle stand creatures stalked forward forced straighten ran hand dress smooth let milotic shriek sound causing monster close hands ears forced stake creatures ribs piercing heart usually taken time watch second death hold vampire eleanor think worry eleanor scratched face creature sheep fighting slumped wall breathing heavily pulled steak looked anna maria hate docks vermin eleanor said reaching pulling maria arms anna maria smiled eleanors face im certain beasts looking vampires wait moon nest behavior odd im sure thats point hunting brain moment isnt lovely dark corner world endure anna maria said enjoy eleanor lean anna maria lifted toes pressing lips arm waist quickly curling hair sweat good press shall burn bodies love anna maria said breathlessly eleanor released pleasure heart illinois said released pulling bodies lighting stood glow holding hands making sure didnt control huntress took time walking engagement stopping briefly chimney boys place spitalfields let know shouldnt issue creatures taken days sniff beasts finally ready evening whelming handball james favorite event air opportunity anna maria time passing able continuing tradition course james charm wit left feeling place room old white titled fools wished bodily time rest hours party dress repress hair hopefully rid coal selling chest head deterred attending jamess sake hear deep voice praised listen id like listen james anna maria eleanor rounds speaking whomever deign speak searched host neville whelming dear friend james alexander james joke second brother followed pair closely school seeing reminded evenings eleanor join parties theater time wondered join despite views impossibility vampires happened treated anna maria like english gentlemens wife like exotic treat gladly bite anna maria said holding hand reached anna maria said kissing head pulling clothes look need rest arent charmer said cheeky smile wouldnt miss ball ill james forgive neville smile weak took eleanor hand gave friendly squeeze im shocked let house oh considered eleanor pulled hug anna maria rolled eyes im glad came let know youre feeling singing im sure boutrous cole static asked neville said anna maria scrunched nose wasnt didnt like beatrice voice laughed lowered voice selections near interesting know shell insufferable ana maria hit chuckle think ill fine ill tea eleanor bad slightly neville walked crowd sight retreating felt like reminder anna maria truly turned follow eleanor neville grabbed hand hello elsa man want meet lady neville said anna maria turned shocked handsomeness man tall dark haired light eyes reminded james wore warm smile slight surprise took smiled warmly stepped closer introduced sir suppose pleasure introducing mrs james percival neville said anna maria smiled offering sir bors hand kiss younger elder pressed soft warm lips tear flesh gave wry smile younger holy grail handbag mrs percival know batted eyelashes boys laughed rich fight warm feeling suffused tried know people mention london beginning rebuild round table didnt know meant said im pleased acquaintance anna maria said dont sensitive little goodnatured laughter course pleasure meeting husband mrs percival anna maria smile faltered tried chair tone spoke im afraid mr percival longer boys hand sought pulled close slight squeeze im sorry hello guests said anna maria nearly forgotten leave excellent hands winked ana maria disappeared crowd annamaria smiled shyly sir bors smile grew let lead chairs set outer edge room listened told origin began feel little world clear throat annamarie raised face looked eleanors carefully blank anna maria confusion written slightly clenched jaw way cup hand shook slightly annamaria stood taking cup eleanor eleanor thank introduce sir arthur boars sir bors sisterinlaw companion mrs alexander percival anna maria said sabor stood shook illinois hand grabbed fingers firmly strictly necessary boy smiled pleasure meet mrs percival percivals abound actually aside motherinlaw illinois remain line anna maria said sir bors nodded face taking concerned look im sorry anna maria looked eleanor woman offered soft smile yes certainly im sorry pull away eleanor said neville ready start entertainment annamaria nodded uh course excuse sir bors gentleman nodded anna maria placed hand curve eleanors arm eleanor led crowd room partying easily wanted required speak absolutely necessary feeling better illinois said anna maria felt face heat suppose feel little ill thats meant eleanor said anna maria raised eyebrow havent looked man like james anna maria hid face eleanors arm exited ballroom came stand hallway near performance place eleanor wasnt wrong shed loved alexander losing james distant james died elinor sole source love pleasure hadnt bothered right moment lost alexander cherished loved better wouldnt happier leaned alexander thought come plans anna maria fidgeted comfortably elinor looked hall pressed anna maria small alcove pressed hand annamaries cheek running thumb soft skin im bothered love happiness means absalom hunting means picking social life annamaria frowned social life thank maybe need maybe ellen frown lifted annamaries chin searched eyes moment kissed gently lets discuss later alright anna marie didnt like way eleanor wasnt meaning rise slip hallway neville stepping concert area waved anna maria went despite cold anna maria element assembled group sipped tea sang old new favorites applause crowd stop speak certainly mind enjoying entertainment willing provide indulge moment time year brings mind darling husband like sing favorite song anna maria thought jamess face crowd alexander whispering forth lucky said worlds storys changed heart love loved love simply begin worlds love matter says played interlude took moment survey room eleanor stood doorway end room face stoic annamaria continued sir bors smiled warmly didnt linger long taking rest room man end doorway tall broad clothes filthy shredded clarf angered instrument white blond hair wet stringy chest rising falling quickly eyes longing anguish seize bolt lightning chest hands faulted piano stood taking step corner mistaking eyes neville stood stepped nightline anna maria followed gaze dont right anna maria looked door dont think elinor moved room came stand neville blocking remaining view room eleanor asked ive seen alexander civil flesh anna maria said neville elinors eyes bulged shiver crawled anna maria spine seen thought mean return home anna maria went books spent entire evening buried book library searching way alexander alive didnt end lover vampire ignored eleanors protests protests rest household charlie person resident medium vehicle dead tried eat victor paul hunter lived house tried carry bed bodily quickly reminded ill anna maria fighter place woke mornings sofa study neck aching cold significantly worse litter mom alexanders soul defiled true james stomach knotted thought morning ball woke charlie parsons face anna maria punched charlie manage narrowly avoid hit heart raced sat trying bearings feel blood pumping furiously veins took deep steady breaths trying slow heart closed eyes began filling chest air anna maria feel settling opened eyes charlie kneeling floor sofa eyes wide sighed im sorry darling frightened apologized said charlies voice barely whisper extremely sensitive moods having suffered abuse youth feeling better little im bit hungry anna maria said ill charlie said moving leave room reached door stopped tends moment eyes scrunching thought james says look bag youve got use pretty head voice looked anxiety face smiled trying reassure james chosen speak charlie knew tried sound nonchalant spoke book darling alexanders nodded head charlie left room leaving additional questions wake book library alexanders loved husband scholar brother eleanor return shortly tray soup buttered biscuit sitting floor said placed napkin anna marias lap eleanor carefully spoon hot soup mouth annamaria swallowing ive bit difficult eleanor raised eyebrow im sorry love eleanor soup spoon james died grateful came alexander thought passed annamaria waited letting illinois needed illinois dont want lose reason im cure voice broke anna maria pushed floor pulling lover arms eleanor solved shoulder anna maria closed eyes trying crying known elinor felt way hadnt considered thought eleanor strong anna maria whispered im sorry love dont need worry dont worry ill better promise eleanor raised head kissed annamaria possessively come bed anna maria noddin let eleanor stand pull feet love study went upstairs eleanors arms wrapped tightly anna marias waste crawled bed anna maria wrapped eleanor dreamed night shed met alexander night truly changed life james met weeks prior love grown passing day decided needed know business brought pub singing decided needed meet brother james invited annamaria grow sooner square meet mother brother shed spent hours trying dress acceptable family wealthy generations derived shed known shed error butlers raised eyebrows tell anna maria james said rushed stairs hands adoration eyes thing kept running right door im happy youre come meet alex pulled eddie alexander sit desk writing diary stark contrast james dark hair light eyes alexanders hair ice white eyes piercing brown looked long assessing moment james finally spoke anna maria mr alexander percival brother business partner alex meet anna maria love life james said voice going gooey loving shed smiled warmed dreams hear expected alexander said tone land alex james said way warning expected strong beauty weak woman playing dress year old silk think working whorehouse evening meeting lovers family james alexander said face gone hot shed grasp james firmly told brother youre jealous anna maria said true wasnt later realized jealous having james james having met hed wanted run brothers alexanders eyes widened lips pursed hed look poised pass pounce smiled bit wit times awakened cold sweat given wrong answer cried run room pain suffered life having known james alexander alive wanted live woke eleanor bed breathing steadily annamaria reached ran hand illinois cheek leaned elbow kiss shake slipped bed deft hands pulled robe went downstairs focus desk drawers roll smoothly anna maria pulled open searched diary stepped surveying went knees running fingers edge searching sort latch hidden compartment felt latch deep beneath desk heart stopped pressed tiny drawer floor left snapped open pulled drawer open pulling diary alexander writing years ago book leather bound leather string anna marias hands shook opened tears welled eyes sight alexanders careful script james careful edition younger brother wrote clear complete account creature faced elder added notes people thought inconsequential striking long descriptions face like vampire skim like fish incorrect based alexanders description quicker turned pages looking knew took book eleanor waking kisses good morning eleanor said sleepy voice looking dont think know whos killings london saw alexander night anna maria said elinor pressed elbows yes anna maria said kissed elinor lets bath wait victor eleanors green lopsided looked anna maria leaned kiss right victor eleanor sat sofa anna maria paced floor fireplace waited patiently anna maria composed victor years helping hunt manage household best victor brought charlie wanting delegate lover stability victor excellent hunter eager skilled blessing anna maria grateful anna marias know weve concerned potential new nest nest behaved way sense hunted moon area months happened certainly puzzle victor said folding arms chest vampire behaves way eleanor teased know sod ana maria trying redirect weve looking wrong way particular kind monster hunts moon wouldnt need hunt time thought vampires knew wrong shifter anna maria said showing drawing alexander diary drawing life like creature depicted mans legs wolfs torso head snout lifted sky moon alexanders notes werewolf victor said looking thought myth percival brothers left ignorant potential dangers land focused vampires book discusses hundreds creatures kill given chance anna maria said alexander eleanor asked looking body assumed died burned didnt die saved creatures control time save making anna maria said eleanor trying think wouldnt come victorious tell wasnt dead kind wanted think werewolves myth think let come home know took alexander decided easier believed dead exposed dont know anna marie said dropping sofa family victor ignoring tension room glad accepted word moon chase moon pattern tax moon different area think cover potential ground anna maria said elinor looked uncertain victor looks ready jump fray eleanor minute said looking book anna maria waited patiently yeah right im willing try thank gives days research werewolves idea look anna marie said victor took book studied didnt leave trying hide things eleanor said anna maria smiled sadly start victor said know looking im sure books subject look victor eleanor nodded standing anna maria decide hoped wrong right ana maria stood street lamp park lane corner pulled shawl little tighter shoulders fighting shiver searched street activity geared hilt bit silver moon glowed power anna maria felt certain feel drawing night creatures decided split eleanor sugar taking likely spot research anna maria fairly certain assigned likely spot chosen sighed closed eyes trying steady entirely shed said eyes closed feel pain ache joints closed eyes hand went right blade dont alexander said voice rough eyes glittering unnaturally gold dont wake wolf dont want alexander said eyes welled tears creature lover leaned closer steering face looked wild blondhaired scraggly face unshaven eyes darting beautiful said clever knew youd figure hes alexander growled turned thought meant leave saw elder wolfman snouts lifted sniffed wondered knew men leave alexander styled wolfman held long loud hair stand anna marias neck warned mans voice said anna maria looked recognize man struggling human speak claws ripping flesh need change know beloved negress die stopped trying maintain humanity leaping forward alexander shifted meeting man challenge jaws open trying tear anna maria didnt hesitate throwing blade moved like animals faster snarling running hit blade staggered whining silvertip steel began burn flesh fell ground luckier taking blades extremities tossing aside ease anna maria pulled blade slammed nearest wolf knocking air lungs plunged blade heart wolf jerked stilled body dead weight wolf left jaws snapping attempted past fellow mall anna maria tried work hands body wolves pull blade gown wolf appeared second shoved aside pulling dead come gnarled bearing team standing menacingly anna maria pulled blade free pushed backwards trying space wolf howl air alexander smashed wolves standing jump bright gold eyes went dead gray reached anna maria look mrs percival expecting acting sir bors said freeing sword wolves chest held hand took letting pull suppose person expecting anna maria said snarl interrupted word said turned attention alexander wolf attacked supine transformed human form didnt recognize man begged hand scrambling alexanders shoulders neck sir bors raised blade anna maria stepped madam work sabor said censure intern anna maria said looked shoulder lover finished wolf alexander wolf raised head eyes feral glittering able change difficulty pull moon alexander attempt failed run darling anna maria said sabor step forward meant push past anna maria raised blade neck dont alexander held long loud like heart breaking tiny pieces snarled sir boys direction ran longer anna maria step putting blade holster serb stared looked direction xander gone braced stop chasing lover think mrs percival need honest conversation happened sabor said agree accompany home boys held arm answer anna maria slipped hand crook arm strolled simply taking air catching breath battling werewolves anna maria hope alexander gone safe eleanor pacing year anna maria sir bors entered percival house pointedly ignored man pull maria arms hugging tightly held arms length look im perfectly fine anna maria said bruised ribs thankfully alexander sir bors help saw eleanor said surprise evident tone face hides boars watch interaction yes feared anna maria said old alex werewolf victor said stepping parlour strange gentleman victor paul boars serrata boris victor paul welcome percival family vampire hunters anna maria said sir bors raised eyebrow introductions anna maria director study fetch tea lat charlie way room sitting desk observe draw attention huayra butler joined annamaria poured tea took place eleanor sborz studied turn werewolves particular specialty sborz anna maria asked sipping t sir bors said related exactly truth wolf taken wolf husbands brother illinoiss husband anna maria considered lover boys frozen place come believe understood dont believe started hunting vampires husband alexander believe werewolf shortly avenged brothers death hadnt seen believe werewolf attacks months ago believe victor asked youve chasing pack time havent anna maria said sir bors nodded sitting tea yes chasing city highlands right care london behavior erotic im wolves like territories movement alexander eager boris said allowed live able aware kill fellows tonight instead miracle true kill tonight believe anna maria said saw saw werewolves consumed animal alexander fighting win moon win beast win imagine vampires changing killing time hes right mind vampires impacted soullessness werewolves men charlie said spot desk like interject anna maria looked spoke pale cheeks going red word men devoured beast moon worry nights wax isnt nights waynes dangerous explaining stick vampires bors said looking maria eyes turned look clearly handle lenore jerked forward ready fight anna maria raised hand stopping stood letting tower sir bors moment smiled fakeass smile concern noted sborz neglected realize control house percivals depauls parson newton im said bors deciders fate work gladly recommendation care act choose hunt choose believe tell negro diva huntress love given person sorely mistaken maura sir bors pleasure madam maura said smile moving forward gesturing sir bors proceed man gone bright red word spoken stood indignation respectfully strode room anna maria let sink sofa headache returning eleanor moved sofa lifting anna marias legs lap told lately youre stunning youre angry said taking anna marias hand kissing today anna maria said personally terrified victor said hes gone dont stick pattern dead alexander wind itll dangerous time walk streets london victor said charlie stood joining sofa victor kiss charlies forehead man settled think need know prey better maybe check pack think given opportunity alexander anna maria said eleanor said giving favorite things anna maria said pulled free eleanors lap went desk sending quick missive whelming wouldnt like proposed sure needed rest bait night diva extraordinary marketing worked gathering elite london room charlie posted door list note absences use opportunity available checked mirror laid silver cross neck carefully chest soft throat clearing outside curtain took deep calming breath went meet audience crowd clapped politely anna maria kirksey studied crowd looking familiar faces caught victors moment removed room ladies gentlemen thank joining special performance know unable finish evening roaming handball allow let stand tonight ive prepared special songs inspired moon assembled ladies gentlemen clapped anna maria sat piano began play trying impart slowly song knew different holds sway right silver filling night called come play basking glory come holds sway moon come away away sol blast beat bed holds silver grave holds night let touched light come felt room went silent look right song work fault shifter asleep continued play sang words stopped pulling hands keys turning room men stood eyes glow magic moon final night power shifted near thing anna maria smiled gentlemen want grief want alexander anna maria said men knew lord albert cocked head rarely deign speak nose thought know youd waited thought performance said letting words trail walls jumped heads guess faces contorting shifting wolfish form anna maria pulled silver blade free whistled victor eleanor entered room brandishing silver blades lord albert let face change long anger wolf split attacking victor attacking eleanor attacking anna maria short work wolf anna maria thought young foolish clearly thought woman meant advantage took blade heart anna marie didnt stop striving lord albert attack stood way neville held hand eyes aglow filled tears annamaria stopped frozen place wanted help anna neville said hello ham useful lord albert said nevel changed anna maria said closer nest came begged fetch knew wouldnt survive law pack word alpha brother wolf albert said moving guest slowly making way anna maria hear eleanor victor fighting wolves dont understand anna maria said know neville shook head eyes glittering tears magic lord albert moved id shoving level anna maria younger man stopped short im sorry anna maria dont want hurt pack alpha angry neville said transformation quick beautiful beautiful sadness neville step wolf t howl read loud long dangerous maria step backwards keeping eyes neville clawed hand pressed looked alexander focused neville lord albert elinor killed wolf way studying alexander looked neville victor slower coming scratched cut wolf fighting limping bit think gentlemen tonight anna maria said lord albert shook head alpha blood alpha intends survive month boris voice came room startling hed leave percivals lord alberts eyes bulged looked sir bors alexander growled whispered companions neville changed face human cheeks flushed wont notice dont care lord albert shouted led remaining wolf neville room anna maria longing face looked sir bors hadnt moved stood doorway anna maria seen alexander time months smiled owe apology sabor said taking frozen guess underestimated underestimated allow come home tomorrow thorough accounting faults yes think allow anna maria said looking alexander face wolfish sense man beneath looked werewolf hunter sir bors nodded bowed slipping room eleanor let victor lean led alexander hallway anna maria took place piano eager finish performance rush home family anna maria walked home body tenses waited wolves attack admit certainly better gentleman vampires arrived home maura met door took coat face blotchy red eyes matched said vampire hunters checked victor charlie excellent job caring lovers wounds kissed head way finally bedroom alexander lay bed eleanor head resting chest fingers running hair anna marie painter wanted canvas light dark god goddess night looked closed door locked wished james wrapping arms helping dress preparing let tear running cheek ready bed said stepping beginning untie gown eleanor moved stand anna maria raised hand consequences tomorrow changes words actions address let gown fall feet felt hunger lovers gazes lets enjoy night thanks patrons supporting podcast nightlight legion podcast exist month away year anniversary possibly thankful love support remember join nightlight legion going patreoncom slash nightlight pot onetime donation paypal dot slash nightlight podcast arent able support financially remember shout twitter leave review facebook share friends help word immensely helpful appreciate celebrate oneyear anniversary posting new story week month june week story thank listening end creepy fact heard term saved bell theres popular misconception actually time history believe people strings attached bells went coffins appeared dead live ring bell come rescue sadly thats truth actually boxing saved bell knocked wawa kind disappointing fact week'"
      ]
     },
     "execution_count": 71,
     "metadata": {},
     "output_type": "execute_result"
    }
   ],
   "source": [
    "t = training_sub[list(training_sub.keys())[0]]['full_text']\n",
    "# print(t)\n",
    "clean_text(t)"
   ]
  },
  {
   "cell_type": "code",
   "execution_count": 12,
   "metadata": {},
   "outputs": [],
   "source": [
    "all_segments = []\n",
    "all_starts = []\n",
    "all_ends = []\n",
    "corpus = []\n",
    "for filename in files:\n",
    "    with open(os.path.join('./data', filename), 'rb') as f:\n",
    "        dat = json.load(f)\n",
    "\n",
    "    segments = []\n",
    "    starts = []\n",
    "    ends = []\n",
    "    for alt in dat['results']:\n",
    "        if 'transcript' in alt['alternatives'][0].keys():\n",
    "            seg = alt['alternatives'][0]['transcript']\n",
    "            segments.append(seg)\n",
    "            s = alt['alternatives'][0]['words'][0]['startTime']\n",
    "            starts.append(s)\n",
    "            e = alt['alternatives'][0]['words'][-1]['endTime']\n",
    "            ends.append(e)\n",
    "\n",
    "    text = \"\".join(segments)\n",
    "    all_segments.append(segments)\n",
    "    all_starts.append(starts)\n",
    "    all_ends.append(ends)\n",
    "    corpus.append(text)"
   ]
  },
  {
   "cell_type": "code",
   "execution_count": 5,
   "metadata": {},
   "outputs": [
    {
     "name": "stdout",
     "output_type": "stream",
     "text": [
      "christmas\n",
      "0.0\n",
      "0.012982360840821777\n"
     ]
    }
   ],
   "source": [
    "vectorizer = TfidfVectorizer(ngram_range=(1, 2), max_df=0.9, stop_words={'english'})\n",
    "X = vectorizer.fit_transform(corpus)\n",
    "w = 1998\n",
    "print(vectorizer.get_feature_names()[w])\n",
    "print(X[0, w])\n",
    "print(X[1, w])"
   ]
  },
  {
   "cell_type": "code",
   "execution_count": 22,
   "metadata": {},
   "outputs": [],
   "source": [
    "flatten = lambda l: [item for sublist in l for item in sublist]\n",
    "flat_segments = flatten(all_segments)\n",
    "tokenized_segments = [x.split(\" \") for x in flat_segments]\n",
    "# tokenized_segments"
   ]
  },
  {
   "cell_type": "code",
   "execution_count": 25,
   "metadata": {},
   "outputs": [
    {
     "data": {
      "text/plain": [
       "[\" I don't like that strike the fuck up. What is Donkey Kong, you know bang, you know, when you hit them off of over the head, I'll give you got a Donkey Kong. Laughs well, oh my Heavens, I'm almost gonna beat the Rams your will, you know, when they're you had to lose feeling in her eye. That was almost me. Uh, see, you know, I feel like if you go down hey,\",\n",
       " \" Well rounded Queen shout-out and well Rodney King's as well. Yes, baby. I'm telling you call switching like a mug sometimes better than what's up. What you do got to work voice not because I don't got it on the phone like that and you go but when I did I get on the phone you had to work boys. I changed my posture and if you change your posture, yeah because you got to get some air right in here.\"]"
      ]
     },
     "execution_count": 25,
     "metadata": {},
     "output_type": "execute_result"
    }
   ],
   "source": [
    "bm25 = BM25Okapi(tokenized_segments)\n",
    "\n",
    "query = \"climate change strike\"\n",
    "tokenized_query = query.split(\" \")\n",
    "\n",
    "bm25.get_top_n(tokenized_query, flat_segments, n=2)"
   ]
  },
  {
   "cell_type": "code",
   "execution_count": null,
   "metadata": {},
   "outputs": [],
   "source": []
  }
 ],
 "metadata": {
  "kernelspec": {
   "display_name": "Python 3",
   "language": "python",
   "name": "python3"
  },
  "language_info": {
   "codemirror_mode": {
    "name": "ipython",
    "version": 3
   },
   "file_extension": ".py",
   "mimetype": "text/x-python",
   "name": "python",
   "nbconvert_exporter": "python",
   "pygments_lexer": "ipython3",
   "version": "3.8.2"
  }
 },
 "nbformat": 4,
 "nbformat_minor": 4
}
