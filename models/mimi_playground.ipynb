{
 "cells": [
  {
   "cell_type": "code",
   "execution_count": 18,
   "metadata": {},
   "outputs": [],
   "source": [
    "import json\n",
    "import os\n",
    "from sklearn.feature_extraction.text import TfidfVectorizer"
   ]
  },
  {
   "cell_type": "code",
   "execution_count": 2,
   "metadata": {},
   "outputs": [
    {
     "data": {
      "text/plain": [
       "['6VKk8uVLTJV4BUARHyf1uG.json', '7sHyO8wLeEd1LuxfS8AIls.json']"
      ]
     },
     "execution_count": 2,
     "metadata": {},
     "output_type": "execute_result"
    }
   ],
   "source": [
    "wd = '/media/sf_year2/DD2430-Project/Podcast-Segment-Retrieval-Spotify/'\n",
    "os.chdir(wd)\n",
    "files = os.listdir('./data')\n",
    "files = [f for f in files if f != 'place_holder']\n",
    "files"
   ]
  },
  {
   "cell_type": "code",
   "execution_count": 3,
   "metadata": {},
   "outputs": [],
   "source": [
    "f1 = files[0]\n",
    "with open(os.path.join('./data', f1), 'rb') as f:\n",
    "    f1_data = json.load(f)\n"
   ]
  },
  {
   "cell_type": "code",
   "execution_count": 15,
   "metadata": {},
   "outputs": [],
   "source": [
    "all_segments = []\n",
    "all_starts = []\n",
    "all_ends = []\n",
    "corpus = []\n",
    "for filename in files:\n",
    "    with open(os.path.join('./data', filename), 'rb') as f:\n",
    "        dat = json.load(f)\n",
    "\n",
    "    segments = []\n",
    "    starts = []\n",
    "    ends = []\n",
    "    for alt in dat['results']:\n",
    "        if 'transcript' in alt['alternatives'][0].keys():\n",
    "            seg = alt['alternatives'][0]['transcript']\n",
    "            segments.append(seg)\n",
    "            s = alt['alternatives'][0]['words'][0]['startTime']\n",
    "            starts.append(s)\n",
    "            e = alt['alternatives'][0]['words'][-1]['endTime']\n",
    "            ends.append(e)\n",
    "\n",
    "    text = \"\".join(segments)\n",
    "    all_segments.append(segments)\n",
    "    all_starts.append(starts)\n",
    "    all_ends.append(ends)\n",
    "    corpus.append(text)"
   ]
  },
  {
   "cell_type": "code",
   "execution_count": 37,
   "metadata": {},
   "outputs": [
    {
     "name": "stdout",
     "output_type": "stream",
     "text": [
      "christmas\n",
      "0.0\n",
      "0.012982360840821777\n"
     ]
    }
   ],
   "source": [
    "vectorizer = TfidfVectorizer(ngram_range=(1, 2), max_df=0.9, stop_words={'english'})\n",
    "X = vectorizer.fit_transform(corpus)\n",
    "w = 1998\n",
    "print(vectorizer.get_feature_names()[w])\n",
    "print(X[0, w])\n",
    "print(X[1, w])"
   ]
  },
  {
   "cell_type": "code",
   "execution_count": null,
   "metadata": {},
   "outputs": [],
   "source": []
  },
  {
   "cell_type": "code",
   "execution_count": null,
   "metadata": {},
   "outputs": [],
   "source": []
  }
 ],
 "metadata": {
  "kernelspec": {
   "display_name": "Python 3",
   "language": "python",
   "name": "python3"
  },
  "language_info": {
   "codemirror_mode": {
    "name": "ipython",
    "version": 3
   },
   "file_extension": ".py",
   "mimetype": "text/x-python",
   "name": "python",
   "nbconvert_exporter": "python",
   "pygments_lexer": "ipython3",
   "version": "3.8.2"
  }
 },
 "nbformat": 4,
 "nbformat_minor": 4
}
