{
 "cells": [
  {
   "cell_type": "code",
   "execution_count": null,
   "metadata": {
    "colab": {
     "base_uri": "https://localhost:8080/",
     "height": 357
    },
    "id": "vJiWObK1l_iv",
    "outputId": "4f9baaf5-3467-48ac-f785-23efa71fb7c4"
   },
   "outputs": [
    {
     "name": "stdout",
     "output_type": "stream",
     "text": [
      "  % Total    % Received % Xferd  Average Speed   Time    Time     Time  Current\n",
      "                                 Dload  Upload   Total   Spent    Left  Speed\n",
      "100   653  100   653    0     0  25115      0 --:--:-- --:--:-- --:--:-- 25115\n",
      "OK\n",
      "23 packages can be upgraded. Run 'apt list --upgradable' to see them.\n",
      "The following NEW packages will be installed:\n",
      "  gcsfuse\n",
      "0 upgraded, 1 newly installed, 0 to remove and 23 not upgraded.\n",
      "Need to get 4,278 kB of archives.\n",
      "After this operation, 12.8 MB of additional disk space will be used.\n",
      "Selecting previously unselected package gcsfuse.\n",
      "(Reading database ... 144618 files and directories currently installed.)\n",
      "Preparing to unpack .../gcsfuse_0.30.0_amd64.deb ...\n",
      "Unpacking gcsfuse (0.30.0) ...\n",
      "Setting up gcsfuse (0.30.0) ...\n",
      "Using mount point: /content/c-spotpods\n",
      "Opening GCS connection...\n",
      "Opening bucket...\n",
      "Mounting file system...\n",
      "File system has been successfully mounted.\n"
     ]
    }
   ],
   "source": [
    "from google.colab import auth\n",
    "auth.authenticate_user()\n",
    "!echo \"deb http://packages.cloud.google.com/apt gcsfuse-bionic main\" > /etc/apt/sources.list.d/gcsfuse.list\n",
    "!curl https://packages.cloud.google.com/apt/doc/apt-key.gpg | apt-key add -\n",
    "!apt -qq update\n",
    "!apt -qq install gcsfuse\n",
    "!mkdir c-spotpods\n",
    "#!gcsfuse spotpods /content/c-spotpods\n",
    "!gcsfuse --implicit-dirs spotpods /content/c-spotpods"
   ]
  },
  {
   "cell_type": "code",
   "execution_count": null,
   "metadata": {
    "colab": {
     "base_uri": "https://localhost:8080/",
     "height": 129
    },
    "id": "9ytSk3jOszjp",
    "outputId": "026be982-7fdf-4189-fbd4-89404f42e668"
   },
   "outputs": [
    {
     "ename": "IndentationError",
     "evalue": "ignored",
     "output_type": "error",
     "traceback": [
      "\u001b[0;36m  File \u001b[0;32m\"<ipython-input-1-e17556397274>\"\u001b[0;36m, line \u001b[0;32m31\u001b[0m\n\u001b[0;31m    a = extract_segments('c-spotpods')\u001b[0m\n\u001b[0m                                      ^\u001b[0m\n\u001b[0;31mIndentationError\u001b[0m\u001b[0;31m:\u001b[0m unindent does not match any outer indentation level\n"
     ]
    }
   ],
   "source": [
    "#Preprocessing\n",
    "import json\n",
    "def extract_segments(path):\n",
    "    \"\"\"Given path to json file containing an episode extracts all segments of that episode, \n",
    "    including start and end time of each segment.\"\"\"\n",
    "    with open(path, \"r\") as read_file:\n",
    "        episode = json.load(read_file)\n",
    "    segments=[]\n",
    "    #had to do \"manual\" iteration due to irregularities in data\n",
    "    iter=0\n",
    "    for segment in episode[\"results\"]:\n",
    "        seg_result={}\n",
    "        #make sure there is only one dict in this list (should be true according to dataset description)\n",
    "        assert len(segment[\"alternatives\"])==1\n",
    "        segment_dict=segment[\"alternatives\"][0]\n",
    "        #sometimes \"alternatives\" dict is empty...\n",
    "        if \"words\" and \"transcript\"  in segment_dict:\n",
    "            #add segment number\n",
    "            seg_result[\"segNum\"]=iter\n",
    "            #add timestamp of the first word in this segment\n",
    "            seg_result[\"startTime\"]=segment_dict[\"words\"][0][\"startTime\"]\n",
    "            #add timestamp of the last word in this segment\n",
    "            seg_result[\"endTime\"]=segment_dict[\"words\"][-1][\"endTime\"]\n",
    "            #add transcript of this segment \n",
    "            seg_result[\"transcript\"]=segment_dict[\"transcript\"]\n",
    "            segments.append(seg_result)\n",
    "            iter+=1\n",
    "\n",
    "    return segments\n",
    "\n",
    "a = extract_segments('c-spotpods')\n",
    "print(a)"
   ]
  },
  {
   "cell_type": "code",
   "execution_count": null,
   "metadata": {
    "colab": {
     "base_uri": "https://localhost:8080/",
     "height": 139
    },
    "id": "MuXBVnGlvkVf",
    "outputId": "bc2aa09d-3b83-4f13-853a-2872624b30e2"
   },
   "outputs": [
    {
     "name": "stdout",
     "output_type": "stream",
     "text": [
      "Collecting rank_bm25\n",
      "  Downloading https://files.pythonhosted.org/packages/16/5a/23ed3132063a0684ea66fb410260c71c4ffda3b99f8f1c021d1e245401b5/rank_bm25-0.2.1-py3-none-any.whl\n",
      "Requirement already satisfied: numpy in /usr/local/lib/python3.6/dist-packages (from rank_bm25) (1.18.5)\n",
      "Installing collected packages: rank-bm25\n",
      "Successfully installed rank-bm25-0.2.1\n",
      "[\"Hello, welcome again to our interactive new episode. Hope you learned a lot from our last previous listenership. Today. We are going to talk about how to lose weight faster. But safely lose 5 pounds in 1 week. It's a Trope. We see everywhere and while is possible that someone can lose that much if not more in that time period it really depends on your metabolism and loads of of other factors including physical activity and body composition all of which are entirely unique to you weight loss ultimately comes back to the concept of calories in calories out eat less than you burn and you'll lose weight and while is possible to lose water weight quickly on a low-carb diet. I certainly wouldn't advocate for it. The diet itself can trick you into thinking that this eating style is working when really you might gain back what you lost as soon as you eat. Carbs again that can feel incredibly dispiriting if you want results that last longer than a week based on my experience in nutrition counseling most of us tend to snack on foods that are nutrient dense, but are high in calories. For example, skipping sugary beverages is often the easiest way to lose weight faster. You don't feel full from drinks, even the ones that do contain calories. So swapping those out for sparkling water or unsweetened tea and coffee. Is the best place to start other major culprits often come in refined grains, like cereals chips crackers and cookies. If you're looking to speed up weight loss. I'd also encourage you to be mindful of the foods you eat that you don't choose for yourself think food pushers at work or your kids leftovers noticing where your extra calories actually come from is another step to making better choices in the short and long term in my experience there. A few other tips that hold true for almost all of us across the board and their Concepts that we can put into practice beginning right now. So here's where to start one point eat more vegetables all of the time. It's that simple. I promise if you think about making any meal mostly veggies at least 50% of anything that you're having you're on the right track to Better Health and weight loss to build a better breakfast. I'll Meals are important but breakfast is what helps you start your day on the right track. The best heartiest breakfasts are ones that will fill you up. Keep you satisfied and Stave off Cravings later in the day aim to eat anywhere between 400 and 500 calories for your morning meal and make sure you're including a source of lean protein plus feeling fat for example eggs, unsweetened Greek yogurt nuts or nut Butters and fiber veggies fruit or % whole grains starting your day with a blood sugar stabilizing blend of nutrients will help you slim down without sacrifice three-point know your limits was salt since salt is a preservative packaged and processed foods are often highest in sodium something to keep in mind when planning your meals when it comes by buying snacks a low-sodium product has to be 140 milligrams or less per serving. So if you're really in a bind you Can follow that guideline for what to put in your cart for Point drink more coffee start your day with a cup of joe caffeine is a national diuretic and an excellent source of antioxidants, which protect your cells from damage. You can have up to 400 milligrams about a venti Starbucks Coffee daily, according to the dietary guidelines for Americans. Not much of a coffee drinker tea is also a natural diuretic and types of herbal tea such Dandelion or fennel root can also land a hand. In fact, when a recent study compared the Metabolic Effect of green tea in extract with that of a placebo researchers found that the green tea drinkers burned about 70 additional calories in a 24-hour period five-point. Skip sugary beverages. We just don't feel full by liquid calories in quite the same way as we do real food drinking a juice or caramel coffee. Drink just isn't as Sighing as eating a bowl of veggie and protein-packed stir-fry. So monitor your intake of juice soda, sweetened coffee and tea and alcoholic beverages. If you consume each of those beverages during the day, you'll have taken in at least 800 extra calories by nighttime and you'll still be hungry. Incidentally alcohol may suppress the metabolism of fat making it tougher for you to burn those calories 6 by a set of 5-pound weight. It's a one time investment. You'll never regret. Here's why strength training builds lean muscle tissue, which burns more calories at work or at rest 24 hours a day 7 days a week the more lean muscle. You have the faster. You'll slim down. How do you start strength training? Try some push-ups or a few squats or lunges use your free weights to perform simple bicep curls or tricep polls right in your home or office duty. These exercises three to four times per week and you'll soon see a rapid Improvement seven-point eat spicy foods. Seriously. It can actually help you cut back on calories. That's because capsaicin a compound found in jalapeno and cayenne peppers May slightly increase your body's release of stress hormones such as adrenaline, which can speed up your ability to burn calories. What's more eating hot peppers may help slow. Down you're less likely to Wolf down that plate of spicy spaghetti and therefore stay more mindful of when you're full. Some great ads besides hot peppers Ginger and turmeric eight-point go to bed. There's tons of research that demonstrates getting less than the desired amount about seven hours of sleep per night can slow down your metabolism plus when you're awake for longer your nationally more likely to snack on midnight Munchies, so don't don't skimp on your zzzzz zzzz and you'll be rewarded with an extra Edge when it comes to losing weight nine-point. Keep a food journal loads of research demonstrates people who log everything they eat, especially those who log while they're eating are more likely to lose weight and keep it off for the Long Haul The Habit also takes less than 15 minutes per day on average when you do it regularly according to a 2009 study published in obesity start tracking on and Like my fitness pal or use a regular notebook. It'll help you stay accountable for what you've eaten plus you can easily Identify some other areas of your daily eats that could use a little Improvement when it's written out in front of you 10-point take a walk. Don't get me wrong exercising at any time is good for you, but evening activity may be particularly beneficial because many people's metabolism slows down toward the end of the day 30 minutes of aerobic. Like activity before dinner increases your metabolic rate and may keep it elevated for another two or three hours even after you've stopped moving plus it'll help you relax post-meal so you won't be tempted by stress-induced grazing that can rack up calories 11 resist the urge to skip a meal skipping meals will not make you lose weight faster. If a hectic day makes us sit down meal impossible stash a piece of fruit in pack of nut butter in your car or purse and Keep snacks in your office desk drawer anything that will keep you from going hungry going long periods of time without food does double duty harm on our healthy eating efforts by both slowing down your metabolism and priming you for another bench later in the day think you skipped breakfast and lunch. So you're ready to take down a whole turkey by dinner make it your mission to eat three meals and two snacks every day and don't wait longer than three to four hours without eating set a snare. Jack alarm on your phone if needed. Thanks for listening.\"]\n"
     ]
    }
   ],
   "source": [
    "!pip install rank_bm25\n",
    "import json\n",
    "import rank_bm25 as bm25\n",
    "import os\n",
    "\n",
    "podcasts=[]\n",
    "i=1\n",
    "for file in os.listdir('c-spotpods'):\n",
    "  i+=1\n",
    "  if i == 1000:\n",
    "    break\n",
    "  pod=\"\"\n",
    "  if file == '.ipynb_checkpoints':\n",
    "    continue\n",
    "  with open('c-spotpods/' + file) as json_file:\n",
    "    data=json.load(json_file)\n",
    "    for lines in data['results']:\n",
    "      if 'transcript' in lines['alternatives'][0]:\n",
    "        pod += lines['alternatives'][0]['transcript']\n",
    "  podcasts.append(pod)\n",
    "\n",
    "tokenized_podcasts = [pod.split(\" \") for pod in podcasts]\n",
    "bm25model = bm25.BM25Okapi(tokenized_podcasts)\n",
    "\n",
    "#Here we make a query and then get the best result\n",
    "query = \"joe rogan\"\n",
    "tokenized_query = query.split(\" \")\n",
    "\n",
    "doc_scores = bm25model.get_scores(tokenized_query)\n",
    "print(bm25model.get_top_n(tokenized_query, podcasts, n=1))"
   ]
  }
 ],
 "metadata": {
  "colab": {
   "collapsed_sections": [],
   "name": "DD2430-1.ipynb",
   "provenance": [],
   "toc_visible": true
  },
  "kernelspec": {
   "display_name": "Python 3",
   "language": "python",
   "name": "python3"
  },
  "language_info": {
   "codemirror_mode": {
    "name": "ipython",
    "version": 3
   },
   "file_extension": ".py",
   "mimetype": "text/x-python",
   "name": "python",
   "nbconvert_exporter": "python",
   "pygments_lexer": "ipython3",
   "version": "3.8.2"
  }
 },
 "nbformat": 4,
 "nbformat_minor": 4
}
