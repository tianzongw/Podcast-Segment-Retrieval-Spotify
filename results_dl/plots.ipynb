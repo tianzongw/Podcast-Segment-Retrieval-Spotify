{
 "cells": [
  {
   "cell_type": "code",
   "execution_count": 2,
   "metadata": {},
   "outputs": [],
   "source": [
    "import pandas as pd\n",
    "import numpy as np\n",
    "import matplotlib.pyplot as plt"
   ]
  },
  {
   "cell_type": "code",
   "execution_count": 38,
   "metadata": {},
   "outputs": [
    {
     "data": {
      "text/html": [
       "<div>\n",
       "<style scoped>\n",
       "    .dataframe tbody tr th:only-of-type {\n",
       "        vertical-align: middle;\n",
       "    }\n",
       "\n",
       "    .dataframe tbody tr th {\n",
       "        vertical-align: top;\n",
       "    }\n",
       "\n",
       "    .dataframe thead th {\n",
       "        text-align: right;\n",
       "    }\n",
       "</style>\n",
       "<table border=\"1\" class=\"dataframe\">\n",
       "  <thead>\n",
       "    <tr style=\"text-align: right;\">\n",
       "      <th></th>\n",
       "      <th>show_id</th>\n",
       "      <th>episode_id</th>\n",
       "      <th>seg_num</th>\n",
       "      <th>words</th>\n",
       "      <th>score</th>\n",
       "      <th>Grader: Svante</th>\n",
       "    </tr>\n",
       "  </thead>\n",
       "  <tbody>\n",
       "  </tbody>\n",
       "</table>\n",
       "</div>"
      ],
      "text/plain": [
       "Empty DataFrame\n",
       "Columns: [show_id, episode_id, seg_num, words, score, Grader: Svante]\n",
       "Index: []"
      ]
     },
     "execution_count": 38,
     "metadata": {},
     "output_type": "execute_result"
    }
   ],
   "source": [
    "score_df1 = pd.read_csv(\"test_results_sentence_transformers_grader1.csv\")\n",
    "score_df2 = pd.read_csv(\"test_results_sentence_transformers_grader2.csv\")\n",
    "score_df3 = pd.read_csv(\"test_results_stats_grader2.csv\")\n",
    "score_df3.dropna()"
   ]
  },
  {
   "cell_type": "code",
   "execution_count": 40,
   "metadata": {},
   "outputs": [
    {
     "data": {
      "text/html": [
       "<div>\n",
       "<style scoped>\n",
       "    .dataframe tbody tr th:only-of-type {\n",
       "        vertical-align: middle;\n",
       "    }\n",
       "\n",
       "    .dataframe tbody tr th {\n",
       "        vertical-align: top;\n",
       "    }\n",
       "\n",
       "    .dataframe thead th {\n",
       "        text-align: right;\n",
       "    }\n",
       "</style>\n",
       "<table border=\"1\" class=\"dataframe\">\n",
       "  <thead>\n",
       "    <tr style=\"text-align: right;\">\n",
       "      <th></th>\n",
       "      <th>show_id</th>\n",
       "      <th>episode_id</th>\n",
       "      <th>seg_num</th>\n",
       "      <th>words</th>\n",
       "      <th>score</th>\n",
       "      <th>Grader: Svante</th>\n",
       "    </tr>\n",
       "  </thead>\n",
       "  <tbody>\n",
       "    <tr>\n",
       "      <th>0</th>\n",
       "      <td>Topic 9</td>\n",
       "      <td>NaN</td>\n",
       "      <td>query: trump call ukrainian president</td>\n",
       "      <td>query: The White House released a rough transc...</td>\n",
       "      <td>NaN</td>\n",
       "      <td>NaN</td>\n",
       "    </tr>\n",
       "    <tr>\n",
       "      <th>1</th>\n",
       "      <td>show_61fn05IS5R9ugt5ECJanSb</td>\n",
       "      <td>6O8djf3RL94yNfaoWqvk3r</td>\n",
       "      <td>30</td>\n",
       "      <td>See, however Morales can resolve the situatio...</td>\n",
       "      <td>2.0</td>\n",
       "      <td>NaN</td>\n",
       "    </tr>\n",
       "    <tr>\n",
       "      <th>2</th>\n",
       "      <td>show_61fn05IS5R9ugt5ECJanSb</td>\n",
       "      <td>6O8djf3RL94yNfaoWqvk3r</td>\n",
       "      <td>31</td>\n",
       "      <td>He said there had never been a president who h...</td>\n",
       "      <td>3.0</td>\n",
       "      <td>NaN</td>\n",
       "    </tr>\n",
       "    <tr>\n",
       "      <th>3</th>\n",
       "      <td>show_2k5u94g2BHSQFQeHkIBXtR</td>\n",
       "      <td>1nu9RsgfYsbNb7CDmHlvKx</td>\n",
       "      <td>58</td>\n",
       "      <td>I don't like those guys. Those guys are my bo...</td>\n",
       "      <td>3.0</td>\n",
       "      <td>NaN</td>\n",
       "    </tr>\n",
       "    <tr>\n",
       "      <th>4</th>\n",
       "      <td>show_2k5u94g2BHSQFQeHkIBXtR</td>\n",
       "      <td>1nu9RsgfYsbNb7CDmHlvKx</td>\n",
       "      <td>61</td>\n",
       "      <td>so he's going after Biden. So he's basically ...</td>\n",
       "      <td>2.0</td>\n",
       "      <td>NaN</td>\n",
       "    </tr>\n",
       "    <tr>\n",
       "      <th>5</th>\n",
       "      <td>show_00iaP2GhJUWHAovx41BN5N</td>\n",
       "      <td>2VVBXyGRGd2cydXPxHJme6</td>\n",
       "      <td>7</td>\n",
       "      <td>Underway, some say is conversation with Ukrai...</td>\n",
       "      <td>1.0</td>\n",
       "      <td>NaN</td>\n",
       "    </tr>\n",
       "    <tr>\n",
       "      <th>6</th>\n",
       "      <td>NaN</td>\n",
       "      <td>NaN</td>\n",
       "      <td>NaN</td>\n",
       "      <td>NaN</td>\n",
       "      <td>NaN</td>\n",
       "      <td>NaN</td>\n",
       "    </tr>\n",
       "    <tr>\n",
       "      <th>7</th>\n",
       "      <td>Topic 10</td>\n",
       "      <td>NaN</td>\n",
       "      <td>query: boeing 737 crash causes</td>\n",
       "      <td>query: The Boeing 737 MAX passenger airliner w...</td>\n",
       "      <td>NaN</td>\n",
       "      <td>NaN</td>\n",
       "    </tr>\n",
       "  </tbody>\n",
       "</table>\n",
       "</div>"
      ],
      "text/plain": [
       "                       show_id              episode_id  \\\n",
       "0                      Topic 9                     NaN   \n",
       "1  show_61fn05IS5R9ugt5ECJanSb  6O8djf3RL94yNfaoWqvk3r   \n",
       "2  show_61fn05IS5R9ugt5ECJanSb  6O8djf3RL94yNfaoWqvk3r   \n",
       "3  show_2k5u94g2BHSQFQeHkIBXtR  1nu9RsgfYsbNb7CDmHlvKx   \n",
       "4  show_2k5u94g2BHSQFQeHkIBXtR  1nu9RsgfYsbNb7CDmHlvKx   \n",
       "5  show_00iaP2GhJUWHAovx41BN5N  2VVBXyGRGd2cydXPxHJme6   \n",
       "6                          NaN                     NaN   \n",
       "7                     Topic 10                     NaN   \n",
       "\n",
       "                                 seg_num  \\\n",
       "0  query: trump call ukrainian president   \n",
       "1                                     30   \n",
       "2                                     31   \n",
       "3                                     58   \n",
       "4                                     61   \n",
       "5                                      7   \n",
       "6                                    NaN   \n",
       "7         query: boeing 737 crash causes   \n",
       "\n",
       "                                               words  score  Grader: Svante  \n",
       "0  query: The White House released a rough transc...    NaN             NaN  \n",
       "1   See, however Morales can resolve the situatio...    2.0             NaN  \n",
       "2  He said there had never been a president who h...    3.0             NaN  \n",
       "3   I don't like those guys. Those guys are my bo...    3.0             NaN  \n",
       "4   so he's going after Biden. So he's basically ...    2.0             NaN  \n",
       "5   Underway, some say is conversation with Ukrai...    1.0             NaN  \n",
       "6                                                NaN    NaN             NaN  \n",
       "7  query: The Boeing 737 MAX passenger airliner w...    NaN             NaN  "
      ]
     },
     "execution_count": 40,
     "metadata": {},
     "output_type": "execute_result"
    }
   ],
   "source": [
    "score_df3.head(8)"
   ]
  },
  {
   "cell_type": "code",
   "execution_count": 20,
   "metadata": {},
   "outputs": [],
   "source": [
    "def downgrade(x):\n",
    "    if x > 3:\n",
    "        return 3\n",
    "    else:\n",
    "        return x\n",
    "score_df1['score'] = score_df1['score'].apply(downgrade)"
   ]
  },
  {
   "cell_type": "code",
   "execution_count": 50,
   "metadata": {},
   "outputs": [],
   "source": [
    "topic_id = score_df1['topic_ID'].tolist()\n",
    "score_1 = score_df1['score'].tolist()\n",
    "score_2 = score_df2['score'].tolist()\n",
    "score_3 = score_df3['score'].tolist()\n",
    "score_3 = [int(i) for i in score_3 if i <=3] + [0]\n",
    "\n",
    "topics = list(set(topic_id))"
   ]
  },
  {
   "cell_type": "code",
   "execution_count": 51,
   "metadata": {},
   "outputs": [],
   "source": [
    "rslt1 = {}\n",
    "rslt2 = {}\n",
    "rslt3 = {}\n",
    "\n",
    "for topic in topics:\n",
    "    rslt1[topic] = []\n",
    "    rslt2[topic] = []\n",
    "    rslt3[topic] = []\n",
    "    \n",
    "    for idx, tp in enumerate(topic_id):\n",
    "        if tp == topic:\n",
    "            rslt1[topic].append(score_1[idx])\n",
    "            rslt2[topic].append(int(score_2[idx])) \n",
    "            rslt3[topic].append(int(score_3[idx]))              "
   ]
  },
  {
   "cell_type": "code",
   "execution_count": 52,
   "metadata": {},
   "outputs": [],
   "source": [
    "rslt1_cnt = {}\n",
    "for k, v in rslt1.items():\n",
    "    rslt1_cnt[k] = []\n",
    "    rslt1_cnt[k].append(v.count(0))\n",
    "    rslt1_cnt[k].append(v.count(1))\n",
    "    rslt1_cnt[k].append(v.count(2))\n",
    "    rslt1_cnt[k].append(v.count(3))\n",
    "    \n",
    "\n",
    "rslt2_cnt = {}\n",
    "for k, v in rslt2.items():\n",
    "    rslt2_cnt[k] = []\n",
    "    rslt2_cnt[k].append(v.count(0))\n",
    "    rslt2_cnt[k].append(v.count(1))\n",
    "    rslt2_cnt[k].append(v.count(2))\n",
    "    rslt2_cnt[k].append(v.count(3))\n",
    "    \n",
    "rslt3_cnt = {}\n",
    "for k, v in rslt3.items():\n",
    "    rslt3_cnt[k] = []\n",
    "    rslt3_cnt[k].append(v.count(0))\n",
    "    rslt3_cnt[k].append(v.count(1))\n",
    "    rslt3_cnt[k].append(v.count(2))\n",
    "    rslt3_cnt[k].append(v.count(3))"
   ]
  },
  {
   "cell_type": "markdown",
   "metadata": {},
   "source": [
    "### rslt1"
   ]
  },
  {
   "cell_type": "code",
   "execution_count": 17,
   "metadata": {
    "scrolled": false
   },
   "outputs": [
    {
     "data": {
      "image/png": "[encoded data removed]",
      "text/plain": [
       "<Figure size 864x1800 with 1 Axes>"
      ]
     },
     "metadata": {
      "needs_background": "light"
     },
     "output_type": "display_data"
    }
   ],
   "source": [
    "labels = list(rslt2_cnt.keys())\n",
    "\n",
    "category_names = ['Poor', 'Revelant',\n",
    "                  'Good', 'Perfect']\n",
    "\n",
    "data = np.array(list(rslt1_cnt.values()))\n",
    "data_cum = data.cumsum(axis=1)\n",
    "category_colors = plt.get_cmap('RdYlGn')(np.linspace(0.15, 0.85, data.shape[1]))\n",
    "\n",
    "\n",
    "fig, ax = plt.subplots(figsize=(12, 25))\n",
    "\n",
    "ax.invert_yaxis()\n",
    "ax.set_xlim(0, np.sum(data, axis=1).max()+0.1)\n",
    "ax.set_ylim(0.5+58,9-0.5)\n",
    "ax.set_xlabel('Count')\n",
    "ax.set_ylabel('topic_id')\n",
    "\n",
    "for i, (colname, color) in enumerate(zip(category_names, category_colors)):\n",
    "    widths = data[:, i]\n",
    "    starts = data_cum[:, i] - widths\n",
    "    ax.barh(labels, widths, left=starts, height=0.6,\n",
    "            label=colname, color=color)\n",
    "    xcenters = starts + widths / 2\n",
    "\n",
    "    r, g, b, _ = color\n",
    "\n",
    "\n",
    "    ax.legend(ncol=len(category_names), bbox_to_anchor=(0, 1),\n",
    "          loc='lower left', fontsize='medium')\n",
    "\n"
   ]
  },
  {
   "cell_type": "code",
   "execution_count": 55,
   "metadata": {},
   "outputs": [
    {
     "data": {
      "image/png": "[encoded data removed]",
      "text/plain": [
       "<Figure size 864x1800 with 1 Axes>"
      ]
     },
     "metadata": {
      "needs_background": "light"
     },
     "output_type": "display_data"
    }
   ],
   "source": [
    "labels = list(rslt1_cnt.keys())\n",
    "\n",
    "category_names = ['Poor', 'Revelant',\n",
    "                  'Good', 'Perfect']\n",
    "\n",
    "data = np.array(list(rslt2_cnt.values()))\n",
    "data_cum = data.cumsum(axis=1)\n",
    "category_colors = plt.get_cmap('RdYlGn')(np.linspace(0.15, 0.85, data.shape[1]))\n",
    "\n",
    "\n",
    "fig, ax = plt.subplots(figsize=(12, 25))\n",
    "ax.set_yticks(np.arange(len(labels))+10)\n",
    "\n",
    "ax.invert_yaxis()\n",
    "ax.set_xlim(0, np.sum(data, axis=1).max()+0.1)\n",
    "ax.set_ylim(0.5+58,9-0.5)\n",
    "ax.set_xlabel('Count')\n",
    "ax.set_ylabel('topic_id')\n",
    "\n",
    "for i, (colname, color) in enumerate(zip(category_names, category_colors)):\n",
    "    widths = data[:, i]\n",
    "    starts = data_cum[:, i] - widths\n",
    "    ax.barh(labels, widths, left=starts, height=0.6,\n",
    "            label=colname, color=color)\n",
    "    xcenters = starts + widths / 2\n",
    "\n",
    "    r, g, b, _ = color\n",
    "\n",
    "\n",
    "    ax.legend(ncol=len(category_names), bbox_to_anchor=(0, 1),\n",
    "          loc='lower left', fontsize='medium')\n",
    "\n"
   ]
  },
  {
   "cell_type": "code",
   "execution_count": 56,
   "metadata": {},
   "outputs": [
    {
     "data": {
      "image/png": "[encoded data removed]",
      "text/plain": [
       "<Figure size 864x1800 with 1 Axes>"
      ]
     },
     "metadata": {
      "needs_background": "light"
     },
     "output_type": "display_data"
    }
   ],
   "source": [
    "labels = list(rslt1_cnt.keys())\n",
    "\n",
    "category_names = ['Poor', 'Revelant',\n",
    "                  'Good', 'Perfect']\n",
    "\n",
    "data = np.array(list(rslt3_cnt.values()))\n",
    "data_cum = data.cumsum(axis=1)\n",
    "category_colors = plt.get_cmap('RdYlGn')(np.linspace(0.15, 0.85, data.shape[1]))\n",
    "\n",
    "\n",
    "fig, ax = plt.subplots(figsize=(12, 25))\n",
    "ax.set_yticks(np.arange(len(labels))+10)\n",
    "\n",
    "ax.invert_yaxis()\n",
    "ax.set_xlim(0, np.sum(data, axis=1).max()+0.1)\n",
    "ax.set_ylim(0.5+58,9-0.5)\n",
    "ax.set_xlabel('Count')\n",
    "ax.set_ylabel('topic_id')\n",
    "\n",
    "for i, (colname, color) in enumerate(zip(category_names, category_colors)):\n",
    "    widths = data[:, i]\n",
    "    starts = data_cum[:, i] - widths\n",
    "    ax.barh(labels, widths, left=starts, height=0.6,\n",
    "            label=colname, color=color)\n",
    "    xcenters = starts + widths / 2\n",
    "\n",
    "    r, g, b, _ = color\n",
    "\n",
    "\n",
    "    ax.legend(ncol=len(category_names), bbox_to_anchor=(0, 1),\n",
    "          loc='lower left', fontsize='medium')\n",
    "\n"
   ]
  },
  {
   "cell_type": "code",
   "execution_count": null,
   "metadata": {},
   "outputs": [],
   "source": []
  },
  {
   "cell_type": "code",
   "execution_count": null,
   "metadata": {},
   "outputs": [],
   "source": []
  },
  {
   "cell_type": "code",
   "execution_count": null,
   "metadata": {},
   "outputs": [],
   "source": []
  },
  {
   "cell_type": "code",
   "execution_count": null,
   "metadata": {},
   "outputs": [],
   "source": []
  },
  {
   "cell_type": "code",
   "execution_count": null,
   "metadata": {},
   "outputs": [],
   "source": []
  },
  {
   "cell_type": "code",
   "execution_count": null,
   "metadata": {},
   "outputs": [],
   "source": []
  }
 ],
 "metadata": {
  "kernelspec": {
   "display_name": "Python 3",
   "language": "python",
   "name": "python3"
  },
  "language_info": {
   "codemirror_mode": {
    "name": "ipython",
    "version": 3
   },
   "file_extension": ".py",
   "mimetype": "text/x-python",
   "name": "python",
   "nbconvert_exporter": "python",
   "pygments_lexer": "ipython3",
   "version": "3.8.3"
  }
 },
 "nbformat": 4,
 "nbformat_minor": 4
}
