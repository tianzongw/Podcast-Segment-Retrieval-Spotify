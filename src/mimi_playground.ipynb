{
 "cells": [
  {
   "cell_type": "code",
   "execution_count": 90,
   "metadata": {},
   "outputs": [
    {
     "name": "stderr",
     "output_type": "stream",
     "text": [
      "[nltk_data] Downloading package wordnet to /home/mimig/nltk_data...\n",
      "[nltk_data]   Package wordnet is already up-to-date!\n"
     ]
    }
   ],
   "source": [
    "import json\n",
    "import os\n",
    "from sklearn.feature_extraction.text import TfidfVectorizer\n",
    "import rank_bm25 as bm25\n",
    "import pandas as pd\n",
    "import numpy as np\n",
    "import re\n",
    "import string\n",
    "from gensim.parsing.preprocessing import remove_stopwords\n",
    "from nltk.stem import WordNetLemmatizer\n",
    "from nltk.stem.porter import PorterStemmer\n",
    "import nltk\n",
    "nltk.download('wordnet')\n",
    "import xmltodict"
   ]
  },
  {
   "cell_type": "code",
   "execution_count": 91,
   "metadata": {},
   "outputs": [],
   "source": [
    "# from rank_bm25 import BM25Okapi"
   ]
  },
  {
   "cell_type": "code",
   "execution_count": 92,
   "metadata": {},
   "outputs": [],
   "source": [
    "wd = '/media/sf_year2/DD2430-Project/Podcast-Segment-Retrieval-Spotify/'\n",
    "os.chdir(wd)\n",
    "files = os.listdir('./data/training_episodes')\n",
    "files = [f for f in files if f != 'place_holder']\n",
    "# files"
   ]
  },
  {
   "cell_type": "code",
   "execution_count": 93,
   "metadata": {},
   "outputs": [],
   "source": [
    "from utils_stats import *"
   ]
  },
  {
   "cell_type": "code",
   "execution_count": 94,
   "metadata": {},
   "outputs": [],
   "source": [
    "metadata_file = \"./data/metadata.tsv\"\n",
    "metadata = pd.read_csv(metadata_file, sep=\"\\t\")\n",
    "metadata['show_id'] = metadata.apply(lambda x: x['show_uri'].split(\":\")[2], axis=1)\n",
    "metadata['episode_id'] = metadata.apply(lambda x: x['episode_uri'].split(\":\")[2], axis=1)\n",
    "metadata.set_index('episode_id', inplace=True)\n",
    "# metadata.head()"
   ]
  },
  {
   "cell_type": "code",
   "execution_count": 95,
   "metadata": {},
   "outputs": [
    {
     "data": {
      "text/html": [
       "<div>\n",
       "<style scoped>\n",
       "    .dataframe tbody tr th:only-of-type {\n",
       "        vertical-align: middle;\n",
       "    }\n",
       "\n",
       "    .dataframe tbody tr th {\n",
       "        vertical-align: top;\n",
       "    }\n",
       "\n",
       "    .dataframe thead th {\n",
       "        text-align: right;\n",
       "    }\n",
       "</style>\n",
       "<table border=\"1\" class=\"dataframe\">\n",
       "  <thead>\n",
       "    <tr style=\"text-align: right;\">\n",
       "      <th></th>\n",
       "      <th>topic</th>\n",
       "      <th>1</th>\n",
       "      <th>episode_start</th>\n",
       "      <th>score</th>\n",
       "      <th>episode</th>\n",
       "      <th>start</th>\n",
       "      <th>end</th>\n",
       "      <th>interval</th>\n",
       "    </tr>\n",
       "  </thead>\n",
       "  <tbody>\n",
       "    <tr>\n",
       "      <th>0</th>\n",
       "      <td>1</td>\n",
       "      <td>0</td>\n",
       "      <td>spotify:episode:0E2nqCXMkS218SE72APmNr_240.0</td>\n",
       "      <td>2</td>\n",
       "      <td>0E2nqCXMkS218SE72APmNr</td>\n",
       "      <td>240</td>\n",
       "      <td>360</td>\n",
       "      <td>(240, 360)</td>\n",
       "    </tr>\n",
       "    <tr>\n",
       "      <th>1</th>\n",
       "      <td>1</td>\n",
       "      <td>0</td>\n",
       "      <td>spotify:episode:0E2nqCXMkS218SE72APmNr_300.0</td>\n",
       "      <td>2</td>\n",
       "      <td>0E2nqCXMkS218SE72APmNr</td>\n",
       "      <td>300</td>\n",
       "      <td>420</td>\n",
       "      <td>(300, 420)</td>\n",
       "    </tr>\n",
       "    <tr>\n",
       "      <th>2</th>\n",
       "      <td>1</td>\n",
       "      <td>0</td>\n",
       "      <td>spotify:episode:0E2nqCXMkS218SE72APmNr_360.0</td>\n",
       "      <td>2</td>\n",
       "      <td>0E2nqCXMkS218SE72APmNr</td>\n",
       "      <td>360</td>\n",
       "      <td>480</td>\n",
       "      <td>(360, 480)</td>\n",
       "    </tr>\n",
       "    <tr>\n",
       "      <th>3</th>\n",
       "      <td>1</td>\n",
       "      <td>0</td>\n",
       "      <td>spotify:episode:0Th494DvnO5dU8vTi3QHm2_120.0</td>\n",
       "      <td>1</td>\n",
       "      <td>0Th494DvnO5dU8vTi3QHm2</td>\n",
       "      <td>120</td>\n",
       "      <td>240</td>\n",
       "      <td>(120, 240)</td>\n",
       "    </tr>\n",
       "    <tr>\n",
       "      <th>4</th>\n",
       "      <td>1</td>\n",
       "      <td>0</td>\n",
       "      <td>spotify:episode:199bOiXL0l4YsRaSNDNXvP_1200.0</td>\n",
       "      <td>2</td>\n",
       "      <td>199bOiXL0l4YsRaSNDNXvP</td>\n",
       "      <td>1200</td>\n",
       "      <td>1320</td>\n",
       "      <td>(1200, 1320)</td>\n",
       "    </tr>\n",
       "    <tr>\n",
       "      <th>...</th>\n",
       "      <td>...</td>\n",
       "      <td>...</td>\n",
       "      <td>...</td>\n",
       "      <td>...</td>\n",
       "      <td>...</td>\n",
       "      <td>...</td>\n",
       "      <td>...</td>\n",
       "      <td>...</td>\n",
       "    </tr>\n",
       "    <tr>\n",
       "      <th>604</th>\n",
       "      <td>8</td>\n",
       "      <td>0</td>\n",
       "      <td>spotify:episode:7MnlmF9PV3WUOPI8IjGd0y_720.0</td>\n",
       "      <td>0</td>\n",
       "      <td>7MnlmF9PV3WUOPI8IjGd0y</td>\n",
       "      <td>720</td>\n",
       "      <td>840</td>\n",
       "      <td>(720, 840)</td>\n",
       "    </tr>\n",
       "    <tr>\n",
       "      <th>605</th>\n",
       "      <td>8</td>\n",
       "      <td>0</td>\n",
       "      <td>spotify:episode:7MnlmF9PV3WUOPI8IjGd0y_780.0</td>\n",
       "      <td>0</td>\n",
       "      <td>7MnlmF9PV3WUOPI8IjGd0y</td>\n",
       "      <td>780</td>\n",
       "      <td>900</td>\n",
       "      <td>(780, 900)</td>\n",
       "    </tr>\n",
       "    <tr>\n",
       "      <th>606</th>\n",
       "      <td>8</td>\n",
       "      <td>0</td>\n",
       "      <td>spotify:episode:7wJUUYWcHm7YwEoCmTGFoD_240.0</td>\n",
       "      <td>1</td>\n",
       "      <td>7wJUUYWcHm7YwEoCmTGFoD</td>\n",
       "      <td>240</td>\n",
       "      <td>360</td>\n",
       "      <td>(240, 360)</td>\n",
       "    </tr>\n",
       "    <tr>\n",
       "      <th>607</th>\n",
       "      <td>8</td>\n",
       "      <td>0</td>\n",
       "      <td>spotify:episode:7wJUUYWcHm7YwEoCmTGFoD_300.0</td>\n",
       "      <td>1</td>\n",
       "      <td>7wJUUYWcHm7YwEoCmTGFoD</td>\n",
       "      <td>300</td>\n",
       "      <td>420</td>\n",
       "      <td>(300, 420)</td>\n",
       "    </tr>\n",
       "    <tr>\n",
       "      <th>608</th>\n",
       "      <td>8</td>\n",
       "      <td>0</td>\n",
       "      <td>spotify:episode:7yzpqVjoQqFh5k9W7esm29_360.0</td>\n",
       "      <td>0</td>\n",
       "      <td>7yzpqVjoQqFh5k9W7esm29</td>\n",
       "      <td>360</td>\n",
       "      <td>480</td>\n",
       "      <td>(360, 480)</td>\n",
       "    </tr>\n",
       "  </tbody>\n",
       "</table>\n",
       "<p>609 rows × 8 columns</p>\n",
       "</div>"
      ],
      "text/plain": [
       "     topic  1                                  episode_start  score  \\\n",
       "0        1  0   spotify:episode:0E2nqCXMkS218SE72APmNr_240.0      2   \n",
       "1        1  0   spotify:episode:0E2nqCXMkS218SE72APmNr_300.0      2   \n",
       "2        1  0   spotify:episode:0E2nqCXMkS218SE72APmNr_360.0      2   \n",
       "3        1  0   spotify:episode:0Th494DvnO5dU8vTi3QHm2_120.0      1   \n",
       "4        1  0  spotify:episode:199bOiXL0l4YsRaSNDNXvP_1200.0      2   \n",
       "..     ... ..                                            ...    ...   \n",
       "604      8  0   spotify:episode:7MnlmF9PV3WUOPI8IjGd0y_720.0      0   \n",
       "605      8  0   spotify:episode:7MnlmF9PV3WUOPI8IjGd0y_780.0      0   \n",
       "606      8  0   spotify:episode:7wJUUYWcHm7YwEoCmTGFoD_240.0      1   \n",
       "607      8  0   spotify:episode:7wJUUYWcHm7YwEoCmTGFoD_300.0      1   \n",
       "608      8  0   spotify:episode:7yzpqVjoQqFh5k9W7esm29_360.0      0   \n",
       "\n",
       "                    episode  start   end      interval  \n",
       "0    0E2nqCXMkS218SE72APmNr    240   360    (240, 360)  \n",
       "1    0E2nqCXMkS218SE72APmNr    300   420    (300, 420)  \n",
       "2    0E2nqCXMkS218SE72APmNr    360   480    (360, 480)  \n",
       "3    0Th494DvnO5dU8vTi3QHm2    120   240    (120, 240)  \n",
       "4    199bOiXL0l4YsRaSNDNXvP   1200  1320  (1200, 1320)  \n",
       "..                      ...    ...   ...           ...  \n",
       "604  7MnlmF9PV3WUOPI8IjGd0y    720   840    (720, 840)  \n",
       "605  7MnlmF9PV3WUOPI8IjGd0y    780   900    (780, 900)  \n",
       "606  7wJUUYWcHm7YwEoCmTGFoD    240   360    (240, 360)  \n",
       "607  7wJUUYWcHm7YwEoCmTGFoD    300   420    (300, 420)  \n",
       "608  7yzpqVjoQqFh5k9W7esm29    360   480    (360, 480)  \n",
       "\n",
       "[609 rows x 8 columns]"
      ]
     },
     "execution_count": 95,
     "metadata": {},
     "output_type": "execute_result"
    }
   ],
   "source": [
    "qrels_file = \"./data/podcasts_2020_train.1-8.qrels.txt\"\n",
    "qrels = pd.read_csv(qrels_file, sep=\"\\t\", header=None)#\n",
    "qrels.set_axis(['topic', '1', 'episode_start', 'score'], axis=1, inplace=True)\n",
    "qrels['episode'] = qrels.apply(lambda x: x['episode_start'].split(\":\")[2].split(\"_\")[0], axis=1)\n",
    "qrels['start'] = qrels.apply(lambda x: int(x['episode_start'].split(\"_\")[1].split(\".\")[0]), axis=1)\n",
    "qrels['end'] = qrels.apply(lambda x: int(x['start'] + 120), axis=1)\n",
    "qrels['interval'] = qrels.apply(lambda x: (x['start'], x['end']), axis=1)\n",
    "# qrels = qrels[qrels.score>0]\n",
    "qrels"
   ]
  },
  {
   "cell_type": "code",
   "execution_count": 113,
   "metadata": {},
   "outputs": [],
   "source": [
    "with open(\"./data/training_sub_episode_loc.out\", \"r\") as f:\n",
    "    files = f.readlines()\n",
    "    \n",
    "files = [f.replace(\"\\n\", \"\") for f in files]\n",
    "# files"
   ]
  },
  {
   "cell_type": "code",
   "execution_count": 97,
   "metadata": {},
   "outputs": [],
   "source": [
    "def is_overlapping(x, y):\n",
    "    return x[0] <= y[1] and y[0] <= x[1]"
   ]
  },
  {
   "cell_type": "code",
   "execution_count": 98,
   "metadata": {},
   "outputs": [],
   "source": [
    "# training_sub = {}\n",
    "\n",
    "# for filename in files: \n",
    "#     training_sub[os.path.splitext(filename)[0]] = extract_segments(filename)\n",
    "\n",
    "# with open(\"./data/training_sub_cleaned.json\", \"w\") as f:\n",
    "#     json.dump(training_sub, f)\n",
    "\n",
    "with open(\"./data/training_sub_cleaned.json\", \"r\") as f:\n",
    "    training_sub = json.load(f)"
   ]
  },
  {
   "cell_type": "code",
   "execution_count": 99,
   "metadata": {},
   "outputs": [],
   "source": [
    "tf_idf, ix2episode, full_texts = get_tf_idf(training_sub)\n",
    "topics = extract_topics(\"./data/podcasts_2020_topics_train.xml\")"
   ]
  },
  {
   "cell_type": "code",
   "execution_count": 100,
   "metadata": {},
   "outputs": [
    {
     "name": "stdout",
     "output_type": "stream",
     "text": [
      "Topic 8 facebook stock prediction: After Facebook’s Q4 2018 earnings call, what were experts’ predictions and expectations for its stock price in 2019?  How did these predictions fare over time?  Relevant material would include predictions immediately following the Jan 29, 2019, earnings call, and later actual stock performance that could be used to evaluate predictions.\n"
     ]
    }
   ],
   "source": [
    "# for ti, topic_dict in topics.items():\n",
    "#     print(\"Topic {} {}: {}\".format(ti, topic_dict['query'], topic_dict['description']))\n",
    "# #     print(\"The topic is: {}\".format(topic))\n",
    "#     top_episodes = get_topic_episodes(topics, ti, tf_idf, ix2episode)\n",
    "#     for ei, e in enumerate(top_episodes):\n",
    "        \n",
    "#         print(\"Result {}: \\n{}: {}\".format(ei, metadata.episode_name[e], metadata.episode_description[e]))\n",
    "#     print(\"\\n\")\n",
    "ti = 8\n",
    "topic_dict = topics[ti]\n",
    "print(\"Topic {} {}: {}\".format(ti, topic_dict['query'], topic_dict['description']))\n",
    "#     print(\"The topic is: {}\".format(topic))\n",
    "top_episodes = get_topic_episodes(topics, ti, tf_idf, ix2episode, n_episodes=60)\n",
    "# for ei, e in enumerate(top_episodes):\n",
    "\n",
    "#     print(\"Result {}: \\n{}: {}\".format(ei, metadata.episode_name[e], metadata.episode_description[e]))\n",
    "# print(\"\\n\")"
   ]
  },
  {
   "cell_type": "code",
   "execution_count": 101,
   "metadata": {},
   "outputs": [],
   "source": [
    "# flatten = lambda l: [item for sublist in l for item in sublist]\n",
    "# flat_segments = flatten(all_segments)\n",
    "# tokenized_segments = [x.split(\" \") for x in flat_segments]\n",
    "# tokenized_segments"
   ]
  },
  {
   "cell_type": "code",
   "execution_count": 102,
   "metadata": {},
   "outputs": [
    {
     "name": "stdout",
     "output_type": "stream",
     "text": [
      "5382 5382 5382 5382 5382\n"
     ]
    }
   ],
   "source": [
    "i2episode = [t for t in top_episodes for sd in training_sub[t]['segments']]\n",
    "i2segnum = [sd['segNum'] for t in top_episodes for sd in training_sub[t]['segments']]\n",
    "i2transcript = [sd['transcript'] for t in top_episodes for sd in training_sub[t]['segments']]\n",
    "i2transcript_clean = [sd['transcript_clean'] for t in top_episodes for sd in training_sub[t]['segments']]\n",
    "i2tokens = [tokenize(x) for x in i2transcript_clean]\n",
    "ix = list(range(len(i2segnum)))\n",
    "\n",
    "print(len(i2episode), len(i2segnum), len(i2transcript), len(i2transcript_clean), len(i2tokens))"
   ]
  },
  {
   "cell_type": "code",
   "execution_count": 103,
   "metadata": {},
   "outputs": [],
   "source": [
    "# bm25 = BM25Okapi(tokenized_segments)\n",
    "\n",
    "# query = \"climate change strike\"\n",
    "# tokenized_query = query.split(\" \")\n",
    "\n",
    "# bm25.get_top_n(tokenized_query, flat_segments, n=2)"
   ]
  },
  {
   "cell_type": "code",
   "execution_count": 104,
   "metadata": {},
   "outputs": [],
   "source": [
    "model = bm25.BM25Okapi(i2tokens)\n",
    "\n",
    "tokenized_query = tokenize(topic_dict['query'])\n",
    "tokenized_query.extend(tokenize(clean_text(topic_dict['description'])))\n",
    "choices = model.get_top_n(tokenized_query, ix, 10)"
   ]
  },
  {
   "cell_type": "code",
   "execution_count": 105,
   "metadata": {},
   "outputs": [],
   "source": [
    "def get_segment_details(choices, i2segnum, i2episode, i2transcript):\n",
    "    result = {}\n",
    "    for ix, i in enumerate(choices):\n",
    "        result[\"spotify:episode:{}_{}.0\".format(i2episode[i], 30*i2segnum[i])] = {\n",
    "            \"episode\": i2episode[i],\n",
    "            \"start\": 30*i2segnum[i],\n",
    "            \"end\": 30*i2segnum[i] + 120,\n",
    "            \"interval\": (30*i2segnum[i], 30*i2segnum[i] + 120),\n",
    "            \"transcript\": i2transcript[i],\n",
    "            \"rank\": ix\n",
    "        }\n",
    "        \n",
    "    return result\n",
    "        "
   ]
  },
  {
   "cell_type": "code",
   "execution_count": 106,
   "metadata": {},
   "outputs": [],
   "source": [
    "top10 = get_segment_details(choices, i2segnum, i2episode, i2transcript)"
   ]
  },
  {
   "cell_type": "code",
   "execution_count": 107,
   "metadata": {},
   "outputs": [
    {
     "data": {
      "text/plain": [
       "['spotify:episode:/media/sf_year2/DD2430-Project/Podcast-Segment-Retrieval-Spotify/data/training_episodes/5UGPiylWqD8IXIRflWXJEg_1620.0',\n",
       " 'spotify:episode:/media/sf_year2/DD2430-Project/Podcast-Segment-Retrieval-Spotify/data/training_episodes/5UGPiylWqD8IXIRflWXJEg_1650.0',\n",
       " 'spotify:episode:/media/sf_year2/DD2430-Project/Podcast-Segment-Retrieval-Spotify/data/training_episodes/55VfynKK09foFInjoBjldC_150.0',\n",
       " 'spotify:episode:/media/sf_year2/DD2430-Project/Podcast-Segment-Retrieval-Spotify/data/training_episodes/0rBkvc7wrAf5sLXbMuk0QO_2760.0',\n",
       " 'spotify:episode:/media/sf_year2/DD2430-Project/Podcast-Segment-Retrieval-Spotify/data/training_episodes/5EJg9dgAMD1HhlRSN99ttX_1350.0',\n",
       " 'spotify:episode:/media/sf_year2/DD2430-Project/Podcast-Segment-Retrieval-Spotify/data/training_episodes/5UGPiylWqD8IXIRflWXJEg_780.0',\n",
       " 'spotify:episode:/media/sf_year2/DD2430-Project/Podcast-Segment-Retrieval-Spotify/data/training_episodes/0GKJT6gpps3nvLZpJ6yvou_4410.0',\n",
       " 'spotify:episode:/media/sf_year2/DD2430-Project/Podcast-Segment-Retrieval-Spotify/data/training_episodes/55VfynKK09foFInjoBjldC_120.0',\n",
       " 'spotify:episode:/media/sf_year2/DD2430-Project/Podcast-Segment-Retrieval-Spotify/data/training_episodes/1xKhK3czSfBiKgnSPfzskv_600.0',\n",
       " 'spotify:episode:/media/sf_year2/DD2430-Project/Podcast-Segment-Retrieval-Spotify/data/training_episodes/7E2zOJ4ADY2NkgODLwO7fe_3240.0']"
      ]
     },
     "execution_count": 107,
     "metadata": {},
     "output_type": "execute_result"
    }
   ],
   "source": [
    "list(top10.keys())"
   ]
  },
  {
   "cell_type": "code",
   "execution_count": 108,
   "metadata": {},
   "outputs": [
    {
     "data": {
      "text/plain": [
       "{1: {'query': 'coronavirus spread',\n",
       "  'type': 'topical',\n",
       "  'description': 'What were people saying about the spread of the novel coronavirus NCOV-19 in Wuhan at the end of 2019?',\n",
       "  'description_clean': 'people saying spread novel coronavirus ncov wuhan end '},\n",
       " 2: {'query': 'greta thunberg cross atlantic',\n",
       "  'type': 'topical',\n",
       "  'description': 'What were people saying about Greta Thunberg’s sailing trip across the Atlantic Ocean in the fall of 2019 and its relationship to global climate change?',\n",
       "  'description_clean': 'people saying greta thunberg’s sailing trip atlantic ocean fall  relationship global climate change'},\n",
       " 3: {'query': 'black hole image',\n",
       "  'type': 'topical',\n",
       "  'description': 'In May 2019 astronomers released the first-ever picture of a black hole.  I would like to hear some conversations and educational discussion about the science of astronomy, black holes, and of the picture itself.',\n",
       "  'description_clean': ' astronomer released firstever picture black hole like hear conversation educational discussion science astronomy black hole picture'},\n",
       " 4: {'query': 'story about riding a bird',\n",
       "  'type': 'refinding',\n",
       "  'description': 'I remember hearing a podcast that had a story about a kid riding some kind of bird.  I want to find it again.',\n",
       "  'description_clean': 'remember hearing podcast story kid riding kind bird want'},\n",
       " 5: {'query': 'daniel ek interview',\n",
       "  'type': 'known item',\n",
       "  'description': 'Someone told me about a podcast interview with Daniel Ek, CEO of Spotify, about the founding and early days of Spotify.  I would like to find the show and episode that contains that interview.  Other interviews with Ek are relevant as well.',\n",
       "  'description_clean': 'told podcast interview daniel ek ceo spotify founding early day spotify like episode contains interview interview ek relevant'},\n",
       " 6: {'query': 'michelle obama becoming',\n",
       "  'type': 'topical',\n",
       "  'description': 'Former First Lady Michelle Obama’s memoir Becoming was published in early 2019.  What were people saying about it?',\n",
       "  'description_clean': 'lady michelle obama’s memoir published early  people saying'},\n",
       " 7: {'query': 'anna delvey',\n",
       "  'type': 'topical',\n",
       "  'description': 'Anna Sorokina moved to New York City in 2013 and posed as wealthy German heiress Anna Delvey.  In 2019 she was convicted of grand larceny, theft, and fraud.  What were people saying about her, the charges, her trial, and New York socialite society in general?',\n",
       "  'description_clean': 'anna sorokina moved new york city  posed wealthy german heiress anna delvey  convicted grand larceny theft fraud people saying charge trial new york socialite society general'},\n",
       " 8: {'query': 'facebook stock prediction',\n",
       "  'type': 'topical',\n",
       "  'description': 'After Facebook’s Q4 2018 earnings call, what were experts’ predictions and expectations for its stock price in 2019?  How did these predictions fare over time?  Relevant material would include predictions immediately following the Jan 29, 2019, earnings call, and later actual stock performance that could be used to evaluate predictions.',\n",
       "  'description_clean': 'facebook’s q  earnings experts’ prediction expectation stock price  prediction fare time relevant material include prediction immediately following jan   earnings later actual stock performance evaluate prediction'}}"
      ]
     },
     "execution_count": 108,
     "metadata": {},
     "output_type": "execute_result"
    }
   ],
   "source": [
    "topics"
   ]
  },
  {
   "cell_type": "code",
   "execution_count": 109,
   "metadata": {},
   "outputs": [],
   "source": [
    "def compare_with_qrels(results, qrels, topic):\n",
    "    df = qrels[qrels.topic == topic]\n",
    "    for k, v in results.items():\n",
    "        e = v['episode']\n",
    "        i = v['interval']\n",
    "#         print(np.sum(df.episode==e))\n",
    "        if np.sum(df.episode==e)>0:\n",
    "            ixs = df.episode == e\n",
    "            for episode, interval, score in zip(df.episode_start[ixs], df.interval[ixs], df.score[ixs]):\n",
    "                if is_overlapping(i, interval):\n",
    "                    print(\"{} is overlapping with choice in qrels with score {}\".format(k, score))"
   ]
  },
  {
   "cell_type": "code",
   "execution_count": 110,
   "metadata": {},
   "outputs": [],
   "source": [
    "compare_with_qrels(top10, qrels, ti)"
   ]
  },
  {
   "cell_type": "code",
   "execution_count": 111,
   "metadata": {},
   "outputs": [
    {
     "name": "stdout",
     "output_type": "stream",
     "text": [
      "Topic 1 coronavirus spread: What were people saying about the spread of the novel coronavirus NCOV-19 in Wuhan at the end of 2019?\n",
      " \n",
      "Topic 2 greta thunberg cross atlantic: What were people saying about Greta Thunberg’s sailing trip across the Atlantic Ocean in the fall of 2019 and its relationship to global climate change?\n",
      " \n",
      "Topic 3 black hole image: In May 2019 astronomers released the first-ever picture of a black hole.  I would like to hear some conversations and educational discussion about the science of astronomy, black holes, and of the picture itself.\n",
      " \n",
      "Topic 4 story about riding a bird: I remember hearing a podcast that had a story about a kid riding some kind of bird.  I want to find it again.\n",
      " \n",
      "Topic 5 daniel ek interview: Someone told me about a podcast interview with Daniel Ek, CEO of Spotify, about the founding and early days of Spotify.  I would like to find the show and episode that contains that interview.  Other interviews with Ek are relevant as well.\n",
      " \n",
      "Topic 6 michelle obama becoming: Former First Lady Michelle Obama’s memoir Becoming was published in early 2019.  What were people saying about it?\n",
      " \n",
      "Topic 7 anna delvey: Anna Sorokina moved to New York City in 2013 and posed as wealthy German heiress Anna Delvey.  In 2019 she was convicted of grand larceny, theft, and fraud.  What were people saying about her, the charges, her trial, and New York socialite society in general?\n",
      " \n",
      "Topic 8 facebook stock prediction: After Facebook’s Q4 2018 earnings call, what were experts’ predictions and expectations for its stock price in 2019?  How did these predictions fare over time?  Relevant material would include predictions immediately following the Jan 29, 2019, earnings call, and later actual stock performance that could be used to evaluate predictions.\n",
      " \n"
     ]
    }
   ],
   "source": [
    "for ti, topic_dict in topics.items():\n",
    "\n",
    "    print(\"Topic {} {}: {}\".format(ti, topic_dict['query'], topic_dict['description']))\n",
    "    top_episodes = get_topic_episodes(topics, ti, tf_idf, ix2episode)\n",
    "    i2episode = [t for t in top_episodes for sd in training_sub[t]['segments']]\n",
    "    i2segnum = [sd['segNum'] for t in top_episodes for sd in training_sub[t]['segments']]\n",
    "    i2transcript = [sd['transcript'] for t in top_episodes for sd in training_sub[t]['segments']]\n",
    "    i2transcript_clean = [sd['transcript_clean'] for t in top_episodes for sd in training_sub[t]['segments']]\n",
    "    i2tokens = [tokenize(x) for x in i2transcript_clean]\n",
    "    ix = list(range(len(i2segnum)))\n",
    "    \n",
    "    model = bm25.BM25Okapi(i2tokens)\n",
    "\n",
    "    tokenized_query = tokenize(topic_dict['query'])\n",
    "    tokenized_query.extend(tokenize(clean_text(topic_dict['description'])))\n",
    "    choices = model.get_top_n(tokenized_query, ix, 10)\n",
    "    \n",
    "    top10 = get_segment_details(choices, i2segnum, i2episode, i2transcript)\n",
    "    \n",
    "    compare_with_qrels(top10, qrels, ti)\n",
    "    print(\" \")"
   ]
  },
  {
   "cell_type": "code",
   "execution_count": 112,
   "metadata": {},
   "outputs": [
    {
     "name": "stdout",
     "output_type": "stream",
     "text": [
      "Topic 1 coronavirus spread: What were people saying about the spread of the novel coronavirus NCOV-19 in Wuhan at the end of 2019?\n",
      "0: It started.  Hey, welcome back. So I want to to make today's episode about this continuing spread of the Wuhan coronavirus. I think the official name for it is the 2019 novel coronavirus, but many people are referring to it as just the coronavirus the the Wuhan coronavirus Wuhan flew I've seen that go around but and I think a good place to start is just a quick recap. Where were at now of course is subject to change.\n",
      "1:  Hey, welcome back. So I want to to make today's episode about this continuing spread of the Wuhan coronavirus. I think the official name for it is the 2019 novel coronavirus, but many people are referring to it as just the coronavirus the the Wuhan coronavirus Wuhan flew I've seen that go around but and I think a good place to start is just a quick recap. Where were at now of course is subject to change.  And I'll be talking more about these numbers. But but of course this coronavirus it's new to scientists as of 2019 began in the city of Wuhan, which is in the hoobae province of China City of roughly 11 million people and it back in like November December. That's kind of when these cases first started appearing.\n",
      "2:  Is past whatever the flu kills, you know hundreds of thousands each year. I think they're really important thing to understand about that is that those hundreds of thousands? I mean you have the flu does kill them however the flu as far as we know based on current evidence and whatnot is less contagious or at least I should say has a lower are not number meaning. It's it's not spread as easily.  Compared to this novel coronavirus is mortality rate is far far lower less than 1%\n",
      "3:  Professional looking into the spread agree that it did not come from bat soup rather. This was transmitted through snakes, but this is still not 100% clear.  Most covid most coronavirus has spread the same way other cold causing viruses do through infected people coughing and sneezing touching hands or faces or touching infected objects, like doorknobs utensils shaking hands or any other things you would do as a human in your day-by-day almost everyone gets a coronavirus infection at least once in their life. Typically though as a child in the United States coronavirus has are more common in the fall and winter.\n",
      "4:  Most covid most coronavirus has spread the same way other cold causing viruses do through infected people coughing and sneezing touching hands or faces or touching infected objects, like doorknobs utensils shaking hands or any other things you would do as a human in your day-by-day almost everyone gets a coronavirus infection at least once in their life. Typically though as a child in the United States coronavirus has are more common in the fall and winter.  But anyone can catch the infection at any time these viruses also cause illnesses ranging from a common cold tumors and SARS.\n",
      "5:  And we're back. Let's talk about how Corona virus spreads infected people can share the virus by coughing sneezing or touching others diligence behind what you're doing in your everyday life can prevent a lot of infections, you know, coughing into your sleeve and not your hand washing your hands Etc. We  Know that people aren't great about keeping their germs to themselves. Yeah. So how worried should we be about Contracting coronavirus? You shouldn't be alarmed by now. There's human to human Transmission in the United States. Like that's what viruses do a recent case of Novel coronavirus in Washington state found that the virus is not only in the lung a lung excretion. So coughing and sneezing. Yes, but it was also found in this individuals fecal matter that's poop. This is another reason why hand washing\n",
      "6:  easy new round of stimulus crazier than the last round and I mean right now in January of 2020 its  It's the coronavirus that 2018 and cop 2019 novel coronavirus. That's one side. But the other side of it is hey, this is my podcast. It interests me is something I like to talk about. Right? So if you don't want to hear about it, that's fine. And you can come back when we talked precious metals and whatever but you know, if you're here for Coronavirus news, and as well as economics and markets and stuff. Yeah. This is all kind of wrapped together and what we're talking about today. So here we are.\n",
      "7:  aches cough shortness of breath or difficulty breathing and it ends in death  a newly identified coronavirus has been spreading and China and now has reached several other countries Health officials are working on all fronts to learn more about the virus in order to stop the spread as of January 24th, 2020. There are more than 1500 confirmed cases and fifty four deaths linked to the coronavirus with another eight thousand four hundred and twenty people under observation in the United States 60.\n",
      "8:  It's the coronavirus that 2018 and cop 2019 novel coronavirus. That's one side. But the other side of it is hey, this is my podcast. It interests me is something I like to talk about. Right? So if you don't want to hear about it, that's fine. And you can come back when we talked precious metals and whatever but you know, if you're here for Coronavirus news, and as well as economics and markets and stuff. Yeah. This is all kind of wrapped together and what we're talking about today. So here we are.  Friday recording this before the Big Data dump that usually occurs early morning on in China so late afternoon early evening here in the United States as of right now. We're essentially at a thousand conference are 10,000 confirmed cases pretty close to that.\n",
      "9:  But this particular virus is new. Wow, that is crazy. So a lot of us might have had one of the other coronaviruses before but not this one. This one is new. So scientists are now naming it. That's right. The Corona virus that's all over the news right now is called the 2019 in Corona virus and that in stands for novel or new. So what that means is that it is new to humans.  And it is new to the phylogenetic tree scientists use the phylogenetic tree to understand relationships. So they may ask is this virus more or less closely related to another virus based on similarity the symptoms of the 2019 novel coronavirus are cough fever shortness of breath and some patients have even reported having nausea vomiting diarrhea and in some cases symptoms progress to bronchitis or pneumonia, and now that we\n",
      " \n",
      "Topic 2 greta thunberg cross atlantic: What were people saying about Greta Thunberg’s sailing trip across the Atlantic Ocean in the fall of 2019 and its relationship to global climate change?\n",
      "0:  Way Beyond their scholarship and the cost of attendance but it's a tough tough issue and if sponsors won't pay big commercial dollars for women's soccer game on TV those women aren't likely to get paid a lot of money for playing soccer before your second trip you met what now is your husband and you got engaged to him in the middle of the Atlantic Ocean while he was back home. Did they engagement inspire you to get home quicker? Yes.  Yes, I asked him if you would marry me he had this romantic response. He said sure why not and from that point on I pretty much wrote around the clock till I get home December 3rd 1999. You completed your journey across the Atlantic at what point? Did you realize this trip was going to be a success? Yeah, probably December first when I saw Guadalupe for the first time in the middle of the ocean because at any point before that, you can always make a mistake that ends it or ends you\n",
      "1:  say it could happen this year right for the first time. I know it is the speed at which things are happening is very terrifying because that has dramatic effects. Apparently it'll mess with the currents in the Atlantic Ocean. What's that called the golfing outside of right the Gulf Stream? Okay. Yeah as it slows down the water heats up more and so you get things like not necessarily more hurricanes, but more intense hurricanes.  Because with warm water in the atmosphere is damper, that's all drawn up so that you not only get greater wind speeds. But lot more water is poured down on communities when it comes down and it would have been the past. I'm not sure where the original question was here. But I don't know either keep going. Well Greta to finger good. She's saying that that we need to panic about it because the situation is that bad and even if say we were wrong\n",
      "2:  Those right? It's like a regular thing now well water levels are rising around the world because of climate change has occurred just till now and the the speed of it is also a very concerning because I think scientists were saying we wouldn't see a ice-free Arctic North Pole for another 20 or 30 years. I think it's if I have I may be wrong about that but not for 10 or 15 years at least and some  say it could happen this year right for the first time. I know it is the speed at which things are happening is very terrifying because that has dramatic effects. Apparently it'll mess with the currents in the Atlantic Ocean. What's that called the golfing outside of right the Gulf Stream? Okay. Yeah as it slows down the water heats up more and so you get things like not necessarily more hurricanes, but more intense hurricanes.\n",
      "3:  And then the sponsors had no, no, no, we're gonna sponsor a French woman to row the Mid-Atlantic route. We want you the American to row from the United States to France going west to east across the North Atlantic. I'm like, I'm crazy, but I'm not that crazy turned out I was so there I was alone on the North Atlantic Ocean in a rowboat and I lost Communications eight days from the start and it's really important. If you're going to try to row the North Atlantic to be able to track the Gulf Stream.  Men stay in the Gulf Stream, which is a warm water current that pushes his way toward France. It's one of the things that give southern France its temperate climate is the warm water current that you know sweeps that direction and if you can stay in the Gulf Stream the North Atlantic route can be very fast. When I lost Communications the boat got pushed north of the Gulf Stream. The Gulf Stream is very predictable close to the shore of the United States, but when it goes out toward the middle of the ocean, it's a little like a fire hose it can you can you know, go a hundred miles north\n",
      "4:  Hissing and all kinds of electrical problems and other issues with the boat so we had to turn back but because I was part of that I'd be came to the attention of some sponsors that wanted to sponsor the first woman to row alone across the ocean and I said, well, I'm crazy but I'm not that crazy and sure enough turned out I was and the original plan was I was going to take the Mid-Atlantic route going east to west what I have preferred to four years as the easy way.  And then the sponsors had no, no, no, we're gonna sponsor a French woman to row the Mid-Atlantic route. We want you the American to row from the United States to France going west to east across the North Atlantic. I'm like, I'm crazy, but I'm not that crazy turned out I was so there I was alone on the North Atlantic Ocean in a rowboat and I lost Communications eight days from the start and it's really important. If you're going to try to row the North Atlantic to be able to track the Gulf Stream.\n",
      "5: Welcome to fighting for female a podcast about women of the sports industry and their Journey To Success. I'm your host Libby Gilliland.  Men had been allowed to leave the coast of the United States in rowboats Bound for Europe. They couldn't very well stop me just because I was a woman these are the wise words of Tori murden McClure 21 years ago. She became the first woman to row a boat across the Atlantic Ocean by herself rowing across the Atlantic wasn't a challenge enough Tori. Murden McClure didn't just throw her boat. She built her boat and this isn't the only record-breaking Expedition. She took she\n",
      "6:  President declared. Thank you so much for being here today. You have accomplished so much over your lifetime from skiing across the South Pole rowing the Atlantic to a vast career and education and you are now the current president of Spalding University your education and your knowledge are immense but apart from your brain, your athletic ability stands out on December 3rd, 1999. You became the first woman in American to row across the Atlantic Ocean.  This topic is the focus of your book a pearl in the storm. So let's begin with talking about that Journey. When did you first become interested in rowing? And when did you decide you wanted to row across the Atlantic? So I am was a student at Smith college and there was a woman who had been there for at least 50 years who is like the Sorting Hat of Smith college and I was walking through the athletic complex. I was going to play basketball. I'm 6 feet tall. I'm you know knew I was going to play basketball at college and\n",
      "7:  - yourself up and keep going which is resilience as you begin raising money for your second trip. You talked about the difference in the pay from females to male athletes. You said top-level basketball baseball and football players made more money in 15 minutes playing ball than it would cost me to row across the Atlantic Ocean. What are your current thoughts on the pay Gap and do you believe that the activism in our society today towards the issue is creating a real change for female athletes. Yes. So this last summer  Women, you know the US team win the world cup and there was a lot of discussion about pay for female athletes versus males and the conversation got really ugly and mean and I was asked about sexism or this past summer than I have been in my entire career. The fact is that most sporting pay isn't determined by owners or individual sponsors of teams there to try it Saturn by television.\n",
      "8:  And discipline in the same things that won't gets being part of a team or pursuing a sport with some seriousness. I think it's true of great musicians great artists if there's something that you're willing to devote a lot of time to something you're willing to suffer for something you have passion for which is Latin pot. He's suffering. So what you're passionate about you're willing to suffer for then you learn a lot from those things you learn the willingness to get knocked down and get up again.  - yourself up and keep going which is resilience as you begin raising money for your second trip. You talked about the difference in the pay from females to male athletes. You said top-level basketball baseball and football players made more money in 15 minutes playing ball than it would cost me to row across the Atlantic Ocean. What are your current thoughts on the pay Gap and do you believe that the activism in our society today towards the issue is creating a real change for female athletes. Yes. So this last summer\n",
      "9:  Ooh were fighting climate change is there it exists we have all of the tools in front of us. It's just a matter of acting like this. That's a great idea but like make it so that every new building that's built is NetZero. Like that would be amazing. Another thing that done. I don't know. It's a strange still giant, you know that and subdivision. I'll tell you why it isn't done and this relates to some of the questions you sent me. What what we can do is in relates back to Extinction rebellion, and Greta is  People have to speak up and not just to friends and family and stuff like that. They have to speak out and speak up and show up. Just imagine next Friday right have the second part of the global climate strike on this. Yes on the 27th of Millennium Park 12 to 3, but matching of thousands of people showed up for that rather than I mean probably a few hundred will come and hoping in the Thousand. Yeah, let's get a thousand but I'm saying imagine if that\n",
      " \n",
      "Topic 3 black hole image: In May 2019 astronomers released the first-ever picture of a black hole.  I would like to hear some conversations and educational discussion about the science of astronomy, black holes, and of the picture itself.\n",
      "0:  Scientists, we're actually not learning a lot about black holes from this image because it's so close to the predictions that were already made. So I guess it's kind of a good thing and a bad thing and this is sort of a picture in a goal 13 years in the making the Event Horizon telescope project was launched in 2006. So it's a pretty huge accomplishment and a question that I had sort of thought of as why did not why didn't we take a picture of the black hole in our own Galaxy that black  Liz called Sagittarius A and it's actually pretty small compared to some of the other black holes that we know of and although the m87 black hole is 50 3.5 million light years away that's actually relatively close and we were able to take a picture of it. And this also means that we can do future research about black holes by adding more dishes to get a sharper image and they also want to do more images over time to see how black holes are changing which is research that\n",
      "1:  Please know about black holes already. Guess what what in in the class we were in the morning class. Yeah, you guys see the first black hole that was like ever discovered that I was ever like like like ever photographed. Oh, wow, cool, and it was the first one. Yeah. That's right. That's right. That's happened. Pretty recently. I was the only one yeah.  I remember hearing about when that happened. I took a picture of a black hole a video of it. Well, cool. I'm sorry real black hole. Wow, that's really cool. And we also got to see one. That's how black hole works. Oh, that's cool.\n",
      "2:  Are you are you muted welcome back to launch pad astronomy. I'm Christian ready your friendly neighborhood astronomer. And you are live on telescope talk Pro where we take astronomy seriously very Souls. Um, that's right. How exciting is this we get to we are now embarking on an opportunity. Well rather rather kind of back up a little bit, but just for my viewers we have talked at Great length about black holes on this channel and we talk about black holes all the time in physics and astronomy.  And it's great to talk about black holes. We've seen tremendous evidence for black holes. We've never actually seen a black hole and that's for good reason because black holes aren't by definition black. They swallow all of the light that falls into it. So how does one actually see a black hole and the short answer is you don't but you see what is immediately surrounding or rather see the shadow of the black hole and for the first time ever astronomers are in the process of doing just that taking an image as Tony said of the\n",
      "3:  In the m87 Galaxy but I think we would be able to find how big the actual Galaxy is. So they look into that. Thank you. Another reason that this is important is because it come it confirms these ideas that scientists have had about black holes that shelf and kind of talked about with Albert Einstein. So these predictions about the theories of general relativity that are centuries older actually being finally confirmed which is pretty cool. And although this image is may be cool for those of us who aren't  Scientists, we're actually not learning a lot about black holes from this image because it's so close to the predictions that were already made. So I guess it's kind of a good thing and a bad thing and this is sort of a picture in a goal 13 years in the making the Event Horizon telescope project was launched in 2006. So it's a pretty huge accomplishment and a question that I had sort of thought of as why did not why didn't we take a picture of the black hole in our own Galaxy that black\n",
      "4:  I remember hearing about when that happened. I took a picture of a black hole a video of it. Well, cool. I'm sorry real black hole. Wow, that's really cool. And we also got to see one. That's how black hole works. Oh, that's cool.  Did I this is Milo there this summer? Yeah.\n",
      "5:  Okay, we're going to our next segment. It's my segment. I haven't qualified name for you. I'm gonna call you dare to talk to the moment eventual outcome of the more interesting name. So we're going to talk about the black hole. Okay. Well you guys want what the fuck the black hole with our most space. There's a picture coming out on April 10th. You guys can look it up online. There's a through the first picture ever of a black hole literally right now. There's pictures out there people think of what it looks.  So there's a telescope author the name of that telescope is called The Event Horizon telescope and I mean, it's real nice. I think it's in 3D or 40 or something like that. The it's supposed to show one of two circles like super massive black holes. Like Danny was just saying once called Sagittarius A from our Milky Way galaxy and then there's a m87 from our next-door Virgo a\n",
      "6:  of data has from its own boundaries by combining them to make a two-block combining them together by making a better understanding of the physics of a black hole by the daily Galaxy this  Close says that black holes are just simply a hoax that George Champion as a visit physics. Thanks and predicts. It is something that is simply does not exist having no physical proof of a black hole or any evidence that it exists where we were showing a depiction of what a black hole looks like with no actual pictures of a black hole when really look,\n",
      "7:  attracting a lot of different audiences  Okay, we're going to our next segment. It's my segment. I haven't qualified name for you. I'm gonna call you dare to talk to the moment eventual outcome of the more interesting name. So we're going to talk about the black hole. Okay. Well you guys want what the fuck the black hole with our most space. There's a picture coming out on April 10th. You guys can look it up online. There's a through the first picture ever of a black hole literally right now. There's pictures out there people think of what it looks.\n",
      "8:  Add different names for those constellations in the sky but only some of those names are in your textbook sips tea. I ain't saying but I'm just saying so in our galaxy constellations are there to help us make sense of things but there are other things in our galaxy that no matter how hard we try they may never make sense like black holes. We just got the very first picture of a black hole a couple weeks ago, and I don't know about you, but that terrified me. I don't want to see a black.  Everybody dies in the movies when there's a black hole right that black hole isn't even in our galaxy. I don't need that just rip in the space-time Continuum. Let things be as they are right and so now people say oh, yeah pretty soon. We should have a picture of the black hole in our galaxy. No, I don't want no smoke from a black hole. Listen leave it be it might not like flash photography. You need to write carry on as you were. It's like the Sasquatch. Stop looking for it black holes. I just my brain kind of\n",
      "9:  Close says that black holes are just simply a hoax that George Champion as a visit physics. Thanks and predicts. It is something that is simply does not exist having no physical proof of a black hole or any evidence that it exists where we were showing a depiction of what a black hole looks like with no actual pictures of a black hole when really look,  it's like looks like or even having it have black holes that are silent that are not anywhere to be found in the galaxy and in Compare black sum it all up black holes are one of the complex things within the galaxies having unknown properties that we are still trying to figure out like why are they made and how\n",
      " \n",
      "Topic 4 story about riding a bird: I remember hearing a podcast that had a story about a kid riding some kind of bird.  I want to find it again.\n",
      "0:  Need to do for so long to tell this story where I know I'm going to listen back to this and I'm positive that I missed at least like 50 different cool little things that happen and little story. So perhaps this is not the last podcast I'm going to do about my cross-country trip because as I was doing it, I knew I was creating a lifetime full of memories like literally as I was riding cross-country. I was jealous of myself. I was like damn I'm doing this it's happening right now.  It was incredible. The memories are insane and the pictures that I got are priceless priceless, like, you know, it was just it's just ridiculous and that's about it. So I will revisit this topic again. I'm sure and perhaps I'll remember some details I missed but I think for now.\n",
      "1:  the bikes got back. Like I received the bike back in York City before I was even ready to ride. I I'm not gonna lie. I took a good week off from motorcycles after the ride because I was just tired I was over it, but that's great. It was great. Long story short. Thank you so very much for listening to the little podcast and tool for listening to this long story. I don't even know what I was yapping about and the sad part is this is something I did.  Need to do for so long to tell this story where I know I'm going to listen back to this and I'm positive that I missed at least like 50 different cool little things that happen and little story. So perhaps this is not the last podcast I'm going to do about my cross-country trip because as I was doing it, I knew I was creating a lifetime full of memories like literally as I was riding cross-country. I was jealous of myself. I was like damn I'm doing this it's happening right now.\n",
      "2:  And now for the very best interactive parent judging my favorite segment is my kid a psycho.  All right. Here's a voicemail. Hey guys, I definitely have a story for is my kids psycho. I have been listening to your show for a while now and I get the sense that you really want to help parents, even though your shows for Dad moms. Love it too. I listen to it all the time Dad tested and approved you guys. So I'm hoping you will have some answers promise. I need help figuring out if my kids are psycho because if\n",
      "3:  All right. Here's a voicemail. Hey guys, I definitely have a story for is my kids psycho. I have been listening to your show for a while now and I get the sense that you really want to help parents, even though your shows for Dad moms. Love it too. I listen to it all the time Dad tested and approved you guys. So I'm hoping you will have some answers promise. I need help figuring out if my kids are psycho because if  That psycho then the alternative is so so much worse are my kids psycho, or are they actually Rod Stewart superfamily? Oh, wow that I have a Shyamalan twist this one little bit ago started having some Mega epic Next Level fits in the car. I have an hour commute and the boys are with me for\n",
      "4:  What bird I do like and I know you like it to that video game of a bird riding a skateboard that's coming out soon. Oh my God, that makes me want to be friends with her. What's the name of that video? Dude? There's a fucking video game of a bird riding a skateboard. You skateboard a game where you're a little bird. Oh my God. Okay, maybe I like birds that will change your mind. That's great. Yeah. What about our bats Birds?  Are there bats it would be that how about Oxford's are they are penguins birds eye on their a for flightless bird flightless bird removal load emus amused. You just scare. Those scare me fuck out of me. Have you seen the videos of those that place where you can feed them with the you use like a dustpan? Yeah. I don't like that and they fucking suck. Yeah.\n",
      "5: Hey everybody. Thanks for listening to the early years of the story Pirates podcast. If you're new to the story Pirates, we recommend starting with season 2 episode 1, which is called. I love a ghost / Fred the carrot. Thanks for listening.  It's time again for the story Pirates podcast. My name's Lee and I'm Peter and we're here to play you some of our favorite stories written by kids and then adapted into radio plays by the story Pirates IV story pirate. You're a story Pirates or you I'm a story pirate this episode story was written by a then kindergartener from Papillion, Nebraska. His name is Austin Femme. Ler and often story is called bird tornado Papillion Papillion.\n",
      "6:  Are the same friend with Lake Tahoe spot has a placed in San Francisco as well. So that's my buddy John John and that was incredible. But let's not rush ahead. So the bike I was riding was a 2006 Ducati Monster 620 and at that point I've been riding for a year and I put on a few thousand miles and I did a few mods. So the bike was ready and I was ready with it and it was like fully inspected the new tires new chain everything worked. Perfect. But actually it's a lie, because my  Almost came off, but that's later. That's later buddy. Bird was riding a brand-new Harley-Davidson Sportster 83 iron and at that point, he's also been writing it for a year and he had a few thousand miles on it. Not as many as I did he rides a lot less, you know irrelevant. So that was his bike and my third friend Greg who only mm, you know went to Tennessee with us, so he went\n",
      "7:  The white is the peed shit. Well be I mean pigeons are we you see those all around Hollywood there? Fuck. Yeah filter grosser grosser. Thought I would kick one and I'm sure any absolutely absolutely I'd go find one now. Just go find when I kick it if it like did some fucking shit to me like on a rampage like pitching ramp. Yeah. I mean, what birds do you like any bird?  What bird I do like and I know you like it to that video game of a bird riding a skateboard that's coming out soon. Oh my God, that makes me want to be friends with her. What's the name of that video? Dude? There's a fucking video game of a bird riding a skateboard. You skateboard a game where you're a little bird. Oh my God. Okay, maybe I like birds that will change your mind. That's great. Yeah. What about our bats Birds?\n",
      "8:  It's time again for the story Pirates podcast. My name's Lee and I'm Peter and we're here to play you some of our favorite stories written by kids and then adapted into radio plays by the story Pirates IV story pirate. You're a story Pirates or you I'm a story pirate this episode story was written by a then kindergartener from Papillion, Nebraska. His name is Austin Femme. Ler and often story is called bird tornado Papillion Papillion.  Leon up billion billion. Ah, all right. So before we play the story Pirates adaptation of the story from but billion billion bresca, let's hear the original story that Austin sent in to us take it away. All right Bird tornado Once Upon a Time John and his mom were driving to their new house John said mom. Is there any tornadoes here? The mom said yes, there is John said are you even\n",
      "9:  In it's starting to rain like we literally outran a storm and then the storm caught up to us. So it's about to rain or we're just screwed. We have no place to sleep 7 p.m. We've been riding all day. This is where but no planning backfires and we're standing in this gas station and the sweet sweet sweet lady. Ted it out lady in the big Dodge Ram pickup truck was just like yo, my friend has a room in the back of this bar. Are you guys interested and we're just like fog  So we hop on our bikes and we literally right back into the storm my buddy bird a bird on his right thing Moto's channel that she hasn't fantastic video one of his most popular videos actually on his Channel about riding Into the Storm and it was insane. It was the most dangerous thing. I've done because\n",
      " \n",
      "Topic 5 daniel ek interview: Someone told me about a podcast interview with Daniel Ek, CEO of Spotify, about the founding and early days of Spotify.  I would like to find the show and episode that contains that interview.  Other interviews with Ek are relevant as well.\n",
      "0:  Which one the one where he befriends it and tries to tame it. That was like the fit. No, that one's like the it's a couple episodes in I would say it's like in the teens of episodes. I think it's 14 actually something like that. But I think the first I know I know a certain Fusion who Nicki Minaj's voices. She's like episode 13. That's pretty early. No. Wait. No. Okay. I take that back. It's like episode 15. Sorry, there's two  You shouldn't go and send you back a need to know this for my next podcast. Ah when Rebecca sugars here at know. Yeah, I mean, maybe maybe I haven't sent her that you should hit up Mackenzie Atwood. Is that Mackenzie come interview me and you can interview each other should have each other on their podcast interview you because you're like a really really young kid with a podcast that talks about Steven Universe. So that's a good guess on the Steven. Here we go again. Well, you're listening you listening Mackenzie how depends easy this is\n",
      "1:  Like I didn't know that Rebecca was lgbtq and I found out that she was a non-binary bisexual which is awesome that that podcast don't listen to that. Yes, but seriously, that would be cool. If we could just seriously plugging different like things. Yeah, we've done it a couple times. We've done it. We like Spotify. We're like Spotify is a great app that you can listen to podcasts on Spotify fine brain mush on Spotify and like sponsor me and  What else do you play before we go? We want to spend your time. Hi Pendleton Ward. If you're watching this not also somebody you should interview. Yeah, if I get to him like what's gonna keep pushing one day pretend like you will fake it till you make it. Okay Stephenson towards on the next few episodes. I'm sure next listening right now by Pendleton nice to see you the first episode, but I'm pretty sure Rebecca. Hi, Rebecca Ward, Mackenzie Atwood, Daniel Radcliffe.\n",
      "2:  You shouldn't go and send you back a need to know this for my next podcast. Ah when Rebecca sugars here at know. Yeah, I mean, maybe maybe I haven't sent her that you should hit up Mackenzie Atwood. Is that Mackenzie come interview me and you can interview each other should have each other on their podcast interview you because you're like a really really young kid with a podcast that talks about Steven Universe. So that's a good guess on the Steven. Here we go again. Well, you're listening you listening Mackenzie how depends easy this is  Your fault to you were another person who inspired me to start this. Yeah. I showed her this evening Universe pod computer first the universe universe the first unit purse that's ever existed. I showed it to Amanda and she was like this reminds me of Mackenzie. Yeah, we're off topic again. I know but she she listened to it. She's like this is so interesting how she just like ask people questions. Oh, yeah the first episode I watched it was Rebecca like when I found listens sorry listen to was Rebecca.\n",
      "3:  Hello and welcome to start up. I'm Alex blumberg and we are at the third and final episode of startup ever. The last episode of the last season of the very first podcast gimlet ever launched. We're taking you inside the sale of gimlet to the streaming giant Spotify. Just a quick note here at the top. There is some swearing in this episode.  Last episode Matt and I had just come back from a whirlwind trip to Stockholm right before Thanksgiving to meet with Daniel Eck the CEO of spotify and although no one had officially told us this that trip had the feel of a final hurdle before Spotify made an official offer to buy us. And so you might be wondering what's it like to go to Thanksgiving with your entire family your aunts and uncles and cousins in the house where you grew up and your parents still live after just returning from a 22 hour round trip Excursion to Sweden where you may or may not\n",
      "4:  Last episode Matt and I had just come back from a whirlwind trip to Stockholm right before Thanksgiving to meet with Daniel Eck the CEO of spotify and although no one had officially told us this that trip had the feel of a final hurdle before Spotify made an official offer to buy us. And so you might be wondering what's it like to go to Thanksgiving with your entire family your aunts and uncles and cousins in the house where you grew up and your parents still live after just returning from a 22 hour round trip Excursion to Sweden where you may or may not  Have passed what may or may not have been the most bizarre oral exam of your entire life is fine. Just kidding is really weird. My entire family was buzzing with questions. What was it? Like, what did he say? What did you say? What does this all mean? And it's hard to know what to think for one thing. There was the money many tens of millions of dollars money that would go to our investors our employees and of course to Matt and me personally now, here's a quick review of my work history after graduation. I went\n",
      "5:  Thank you notes. If you really want to stand out and send them handwritten thank-you notes. This has to be like super super time-sensitive literally like you leave the interview, right your nose go to the post office. So like do this literally like in your car super immediate, so they get it within the next day or two and then there are other ways to stand out to in the interview process. I did an interview with Laura from the Kick-Ass in Life podcast on 523 19.  And she has some pretty interesting tips on how to stand out in the interview process as well. So I would definitely check out that episode.\n",
      "6:  One you're listening to right now on Spotify. You can follow your favorite podcast. So you never miss an episode premium users can download episodes to listen to offline wherever they are and you can easily share what you're listening to with your friends on Instagram. If you haven't done so already be sure to download the Spotify app search for ios Dev discussions on Spotify or browse the podcast in the your library tab. Also, make sure to follow me on there. So you never miss an episode of iOS Dev discussions. All right, so we're finally back to kind of a normal week. Not quite normal. We're almost done with all this.  Interview stuff more on that in a bit. Let's just dive in with Monday. So Monday, you know, if you followed along this series, you know, I've been helping interview marketing candidates for our you know, head of marketing position as we gear up towards the launch here at the middle of the year. And basically what this meeting was on Monday morning was you know, we had all the information about the four finalists and me the CEO and our our old head of marketing who's now Consulting with us all got together and kind of discussed each\n",
      "7:  This episode is sponsored by Spotify on Spotify. You can listen to all your favorite artists in podcasts in one place for free. You don't even need a premium account Spotify has a huge catalogue of podcast on every topic including the one you're listening to right now on Spotify. You can follow your favorite podcast. So you never miss an episode premium users can download episodes to let's do offline wherever they are and you can easily share what you're listening to with your friends on Instagram if you haven't done so already be sure to download the Spotify app search for ios Dev discussions on Spotify or browse the  Gasps in the your library tab also, make sure to follow me on there. So you never miss an episode of iOS Dev discussions. All right. So here's Evans question here. I just had a question about being interview ready. I'm in my first day of job a year now and it's majority of objective-c think if I wanted to interview places, I wouldn't have the swiftness knowledge. Is it really required or do you programming principles Trump language based knowledge, you nailed it at the end programming principles for job interviews are going to Trump language based knowledge.\n",
      "8:  Liam showing up on time in my mind is being early shows that you are still ready for the interview.  Hey everyone, before we continue with the show. I want to take a quick minute and talk about one of our sponsors Spotify on Spotify. You can listen to all of your favorite artists and podcasts in one place for free. You don't even need a premium account Spotify has a huge catalogue of podcasts on every topic including the one you're listening to right now. You can follow your favorite podcast. So you never miss an episode premium users can download episodes to listen to offline.\n",
      "9:  A pair for every interview preparing is going to be a huge you want to research the company you want to research that team if possible you want to research who you're going to be interviewing with you want to research you know, why you want to work there what had originally caught your interest in the company in the role. You want to be able to answer all these questions. Basically why you excited why are you at the interview? Why are you talking to the person that you're talking to and number 5 Crusher interviews, right? So part of preparing is of course doing your research.  Also getting yourself in the right mindset. So if you get up early you have your favorite breakfast you drink coffee or whatever your you know go to you know Favorite Beverages on the way to your interview. You're rocking out to your favorite music. So you're like getting yourself ready to go for your interviews. So four episodes related to interviewing. There's quite a long list here. So episode on 10 319 9 1919. So interesting number 8 619 for $25.99.\n",
      " \n",
      "Topic 6 michelle obama becoming: Former First Lady Michelle Obama’s memoir Becoming was published in early 2019.  What were people saying about it?\n",
      "0:  Kind of hard to sit through conversations with Dennis and Porsche and then we've just got Michelle Obama sprinkled throughout I thought that was the most random thing. I'm like, why is Michelle Obama being brought up every 15 minutes? I mean, I think because Michelle Obama is I feel like the Jesus. It's like she just she just is wise and I feel like she's obviously well respected, but then her own community so definitely. Yeah, and I'm Memoir but yeah, no, I agree those and  Funny of that episode title was Michelle Obama. What would a Michelle Obama do but yeah, but it was perfect. I love Michelle Obama to I think she's I mean and so many ways. I think she's almost like just the perfect first lady because she definitely has an opinion. She is not afraid to be herself. She is confident. She's active. She's got those guns and is proud of them. She dresses. Well, she's beautiful. So I mean I get it. I just don't find myself every 15 minutes thinking what would Michelle Obama did this?\n",
      "1:  First lady as well as the first African-American first lady when Barack Obama was elected as president Michelle Obama stated in a speech every day. The people I meet inspire me every day. They make me proud every day. They remind me how blessed we are to live in the greatest nation on Earth serving as your first lady is an honor and a privilege Michelle Obama has had one of the most influential present presence has not only as a former United States first lady, but also,  Also an inspirational African-American and even Global leader Michelle Obama was born Michelle of on Robinson on January 17th, 1964 and Chicago, Illinois. Michelle's father Fraser Robinson. The third was a city pump operator as well as a democratic Precinct Captain her mother Marion was the secretary but later stayed home to take care of Michelle and her older brother Craig Robinson. Who's born on April 1962.\n",
      "2:  In a small household tucked away in Chicago southside one of the most influential minds of today was raised that influential mind would grow up to not only impact a country but more specifically African-Americans women and our nation's youth. This mind is known as Michelle Lavon Robinson, otherwise known as Michelle Obama Michelle Obama's incredible determination and work. Ethic has led her to the world's highest of Education levels as well as a Juris doctor degree when first becoming the 44  First lady as well as the first African-American first lady when Barack Obama was elected as president Michelle Obama stated in a speech every day. The people I meet inspire me every day. They make me proud every day. They remind me how blessed we are to live in the greatest nation on Earth serving as your first lady is an honor and a privilege Michelle Obama has had one of the most influential present presence has not only as a former United States first lady, but also,\n",
      "3:  Me on the desert island and I'm hypothetically stranded on for the rest of my life. You're taking Marauder. I'm taking the night Rob. Yeah, I'm taking that is it but that is literally one of the questions was no wrong answer. All right, which one of these two ladies is the baddest bitch in the room Michelle Obama or Beyonce Michelle Obama, but that's also a tough one brown sugar or Lady Lady. How did you by the way wind up manage you manage the angel said? Yeah short spells, so  Dominic Kinnear God Rest his soul how many times do I say that throughout? My Memoir worked very closely with d and said, you know called me up one day and said look do you wants to train in kung fu I want you to call him and we had this conversation and it was a 90-minute conversation. He thinks we met I don't think we did and\n",
      "4:  Funny of that episode title was Michelle Obama. What would a Michelle Obama do but yeah, but it was perfect. I love Michelle Obama to I think she's I mean and so many ways. I think she's almost like just the perfect first lady because she definitely has an opinion. She is not afraid to be herself. She is confident. She's active. She's got those guns and is proud of them. She dresses. Well, she's beautiful. So I mean I get it. I just don't find myself every 15 minutes thinking what would Michelle Obama did this?  But maybe I will maybe that's where I'm going wrong in life. Maybe so we've got sort of a lot going on. I guess we could I think we should kind of start with Todd. So there's still that with Todd and Kandi. There's kind of a lot going on there. What was your take on everything? I mean my take is Todd is a dick. I really want to like him and I haven't again like this last season.\n",
      "5:  Really who is time on this? Who is the black lady? You most want to be in a sketch on a black lady? Sketch. Oh so many hmm But if you want can only pick one that's you just made that up. I can pick five. Yeah, I know but I'm not gonna pick one. It has to be Beyonce really understand. Okay, I'm gonna be I'm gonna give you three names you can only have one of these for a scale. Oh shit. It's like one gotta go so I can only pick one. You can only pick up. I got it Beyonce. Well, it depends on  A sketch. Okay. I got you pop like make this complicated Beyonce Oprah. Oh Michelle Obama only have one. That's bullshit. It's my show you right? Okay, I can only own one. That's what's the sketch about whatever I want wherever you want. Okay, Oprah Beyonce Michelle Obama. Okay. So here's the thing about Michelle Obama. I think she would be fantastic. She\n",
      "6: Hi everyone, this is Dom and Ivana. And this is Kathy Tucker. Welcome to our very first episode of brown girls read today. We are discussing her thoughts on Michelle Obama's Memoir becoming it's one of the best books. I have read so far and I can't wait to share it with you all. Come on. Do you want to share a quick synopsis? Before we start? Sure Michelle Obama is an American lawyer a university administrator and a writer who was the first lady of  the United States from 2009 to 2017 becoming is a deeply personal Memoir where she writes about her upbringing dreams marriage children and life experiences. It's sold over 10 million copies and was a best-selling book in 2018. I can see why I loved this book. I found it extremely relatable her life and her thoughts as she mentions in the book inspired me to actually get off my ass and do something.\n",
      "7:  The Firm sidley Austin and the area of marketing and intellectual property  The couple had two children. Mallya an and Natasha. Mrs. Obama is the first first lady to have given birth in the 21st century Barack Obama was then elected as a 44th President of the United States in 2004. Michelle Obama was the most noticeable first lady's woman of her era have multiple accomplishments that first started with her husband Barack being elected as the President of the United States of America in 2004. Michelle was actually first reluctant of her husband.\n",
      "8: Hi, I'm Abby. And I'm Vanessa and you're listening to the real moms of Bravo where we recap your favorite Bravo shows and 30-ish minutes or less every week and we are coming at you. Just having watched the most recent Atlanta episode and it was I think Raw on many levels. I mean there is a lot of heavy topics being discussed on there, but we've got a lot of going on between Kandi and Todd with their daughter / stepdaughter. We've got really  Kind of hard to sit through conversations with Dennis and Porsche and then we've just got Michelle Obama sprinkled throughout I thought that was the most random thing. I'm like, why is Michelle Obama being brought up every 15 minutes? I mean, I think because Michelle Obama is I feel like the Jesus. It's like she just she just is wise and I feel like she's obviously well respected, but then her own community so definitely. Yeah, and I'm Memoir but yeah, no, I agree those and\n",
      "9:  Well, let's see if there is one figure now there is a but that might be actually Michelle Kwan. Yeah. Yeah. Well, they were all actually a lot of Michelle's.  Yeah, uh-huh. What about Michelle Pfeiffer? Hey Shay. She's the lady. She played Catwoman I think in no, it's not income what it said Batman Returns. Yeah. What about so your favorite is Michelle Obama? No take-backs. Okay fair enough. She's about you. My favorite is Michelle Monaghan.\n",
      " \n",
      "Topic 7 anna delvey: Anna Sorokina moved to New York City in 2013 and posed as wealthy German heiress Anna Delvey.  In 2019 she was convicted of grand larceny, theft, and fraud.  What were people saying about her, the charges, her trial, and New York socialite society in general?\n",
      "0:  And delaying the trial over Tantrums because of her clothing Jesus amazing. Mmm style challenges. Yes.  And she often attended the trial of decked out in designer clothes picked out by The Stylist Anastasia Walker. They aren't it there you have it. That is the story fascinating of the New York socialite who tried to scam people out of 22 minutes. I think she probably story could really have succeeded. Yeah. I think Wonder are there people out there who have spoofed their way to the you know one Whopper lie, and then the\n",
      "1:  And she often attended the trial of decked out in designer clothes picked out by The Stylist Anastasia Walker. They aren't it there you have it. That is the story fascinating of the New York socialite who tried to scam people out of 22 minutes. I think she probably story could really have succeeded. Yeah. I think Wonder are there people out there who have spoofed their way to the you know one Whopper lie, and then the  Their life is on that internet is kind of like 40 Foundation. Yeah. Yeah that it doesn't even matter that they lied now that they're now floating with the lesion.\n",
      "2:  Came to move to Colorado. I that was when I identity broke. It was the hardest month of my life between having gotten that the job offer to move out of New York moved to the I mean it sounds true is a wonderful company. I have to say run by an amazing woman Tammy Simon who's one of my favorite people in the whole world, but their location was in an office Park and I was at the time working in the ABC News building in New York City on the upper west side. There was Starbucks in the lobby there were  Liberties in the line in front of you at the cafeteria and I was about to make this choice. I literally thought I was going to die. I felt like I was going to die that entire month and yet thank goodness. You know, I talked to the same friend as honey how there's certain people you probably have this to in your life who are just pivotal and the things they do. So the one who said that cart. Oh Leo that's just Buddhism was also the one who said if you don't take this job offer and try leaving, New York.\n",
      "3:  He's talking about it. In fact, I started acquiring books that were kind of in that range and and I was considered the weird one in publishing in New York. We call it. Whoo. I was in the woo world and that's sort of spirituality personal growth self-help, you know, those kinds of categories are just considered the whoo. And so I was I was embarrassed to be into the whoo, but I also was you spend so much time with these authors so much time on the books that I wanted to be doing things that I really was cared about myself, you know when the job offer  Came to move to Colorado. I that was when I identity broke. It was the hardest month of my life between having gotten that the job offer to move out of New York moved to the I mean it sounds true is a wonderful company. I have to say run by an amazing woman Tammy Simon who's one of my favorite people in the whole world, but their location was in an office Park and I was at the time working in the ABC News building in New York City on the upper west side. There was Starbucks in the lobby there were\n",
      "4:  Given how well the two women clicked. It's no wonder that Anna agreed to accompany Marta to New York City to meet a friend for dinner in December of 1984. And it's also not surprising that Anna trusted this acquaintance of Marta's implicitly. What did come as a shock to Anna at least was that the person she met that evening wasn't a friend of Marta's at all. He introduced himself as an office.  Of the Cuban intelligence service Marta revealed that she was actually a recruiter for the agency and they wanted to engage on Anna as a Cuban spy.\n",
      "5:  Coming up. We'll see how the hard-working straight-laced on a Montes trained to become a secret agent for Fidel Castro's regime now back to the story.  In December of 1984 twenty-seven-year-old Ana belén Montes agreed to travel with her friend Marta Velasquez to New York City to meet a friend for dinner when they arrived however, the man introduced himself to Anna as an officer of Cuban intelligence over the course of a quiet dinner the official convinced Anna. She had a role to play on the international stage.\n",
      "6:  Yeah, what was her charges? Okay, so she was convicted of a charges relating to a scheme where she tried to get socialites and bankers to give her more than 22 million.  The she'll serve at least she was sentenced to 12 years in prison, but she'll serve at least for her a charges are all related to Taft larceny and attempt to have to listen. He's not the last we've seen of an Adele. No, cause she still really young. Yeah, and she's and there's a book and a movie coming exactly. She yes ripe for the yeah, but she can't she won't be able to profit because like in the state's when you're convicted of felony you cannot\n",
      "7:  Now back to the story.  On February 11th, 1929 23 year old Anna Marie fills ER arrived in New York City to start the next leg of her journey. She left behind her young son and the stigma that surrounded his out-of-wedlock. Birth Annamarie boarded the Cincinnati limited A train running overnight from the Big Apple to Cincinnati. 74 year old Max daschle wasn't up to making the trip to the train station to greet his stepney's in his place.\n",
      "8:  Actually read the book The Power of Now by Eckhart Tolle and I said to a friend who is older and wiser. I want church for this if there was just church for this and she said oh this is just Buddhism which it's not but anyway, it was you know lucky for me that she said that and I went and found the New York Shambhala Center and it became my church, you know, it sort of was the thing that I ground into when I was in New York not happy but didn't know what I was going to do. I mean publishing is  a funny business where they you kind of believe there's nothing but New York, you know, it's like these New York is the center of everything. There's just no other place you could live maybe La if you want to do the film side of the business, but otherwise you have no options and so I believe that and was struggling and and found the Shambhala Center and I just was there every single weekend. I coordinated the weekend Retreats. I was a participant and I started in the daily meditation practice and that time and so to ask like what actually changed\n",
      "9:  In December of 1984 twenty-seven-year-old Ana belén Montes agreed to travel with her friend Marta Velasquez to New York City to meet a friend for dinner when they arrived however, the man introduced himself to Anna as an officer of Cuban intelligence over the course of a quiet dinner the official convinced Anna. She had a role to play on the international stage.  With her education work ethic and high-level security clearance. She could gain access to top-secret information. And if she shared that information with the Cubans, they could use it to assist the disadvantaged people on a cared so much about the nicaraguans. This may sound like a bit of a stretch to the average listener. But to Anna it made perfect sense. She knew the Cubans supported the\n",
      " \n",
      "Topic 8 facebook stock prediction: After Facebook’s Q4 2018 earnings call, what were experts’ predictions and expectations for its stock price in 2019?  How did these predictions fare over time?  Relevant material would include predictions immediately following the Jan 29, 2019, earnings call, and later actual stock performance that could be used to evaluate predictions.\n",
      "0:  Personally abandoned the model and and jump to stock to flow is 2 things first. The parameters are not stable. So the first time model is actually made in 2014 is it's a classical chart. I have it somewhere in my I will tweet it out later. It's a green line green Priceline with a red curved logarithmic curve in it.  It and I think it was updated later by to the maester. So yes, this is a well-known one to a shared it I think yeah, you share that as well. I think and and what you see there is the prediction that was made in 2014 and it was much higher than the actual price that we see right now. So the red prediction line is way above the green real price in the updated chart bye-bye to you. So\n",
      "1:  It and I think it was updated later by to the maester. So yes, this is a well-known one to a shared it I think yeah, you share that as well. I think and and what you see there is the prediction that was made in 2014 and it was much higher than the actual price that we see right now. So the red prediction line is way above the green real price in the updated chart bye-bye to you. So  And if you look at the model that was fitted on all the data, so including the the data from 2014 until today that a Cheeburger is using then you see much lower model. So the model came down significantly and of course now it really fits well, but my prediction would be that it will have to be updated again after 2020 for huffing. And so the stability of the parameters is a key thing for me.\n",
      "2:  Bet actually the run-up will come in 2021 would you say that's a fair statement or what's your view there? Yeah, I think that's a fair statement. But but formerly the model does not say anything about it. So there's no short term prediction. There is no prediction of the all-time high or the next Peak. There's also no prediction of the low the only thing that you can take from the model, is that you  You have the cointegration and it will stick very close to the stock to flow level. And so somewhere before say Christmas 2021. The price should be above a hundred thousand if we take that third last model or above fifty fifty five thousand if you take the original model, so that's in fact, the only thing that you can you can take from the model and where the next half inning is or where the next all-time highest. Sorry.\n",
      "3:  I began modeling as well before March this year. So the very first models I made were the exact same models s HC burger that with it with the time and we have the same parameters as well. So so it's yeah, it's definitely interest. It's interesting model. The only thing is first there is a big difference in predictions between stock to flow model and this  This time based model. Like you said the time based models are lower in prediction so in it's very interesting to see maybe not this whole thing. But especially after 2020 for housing the models really deviate from each other. So we'll see which one is right very exciting but more importantly now, is that what I don't like about the time model and why?\n",
      "4:  Talk about the timing. So typically what we have seen looking historically is the first having was roughly mid 2012 and then 2013 was where we saw the big bull runs happen. Then the next one was in mid-2016. And then again, we saw the bull runs happen in 2017 or what rather one big bull run. Let's call it. So would you say then that if you were to copy paste that same pattern the having next time around will be mid 2020s.  Bet actually the run-up will come in 2021 would you say that's a fair statement or what's your view there? Yeah, I think that's a fair statement. But but formerly the model does not say anything about it. So there's no short term prediction. There is no prediction of the all-time high or the next Peak. There's also no prediction of the low the only thing that you can take from the model, is that you\n",
      "5:  Buddy knows what a sock is definitely going to do. So we need to take out that prediction in the first place. I think where a lot of people go wrong is they jump into something thinking that well, you know, I recognize this company or you know, I've heard people talk about it or it's making a big move and I'm going to jump in here and by the end of the day it's going to be there. Well, you can't you could that's not a reliable strategy. You can't get in on something. So random that  You're relying on that prediction to come true. What we need to do is rather than to try and predict what the stock is going to do. We need to react to what it is doing and there are ways of doing that when there are strategies that you can Implement that basically a disregard all of the ones are speculative, you know Gamble's and only focus on the type of stock setups that are more likely to work where the the difficulty comes.\n",
      "6:  NG the prediction out of the trade and the reason for that is that nobody knows what a stock is definitely going to do there is no crystal ball. There's no guesswork or there shouldn't be any guesswork in the in the equation if anybody tells you that a stock is definitely going to get to this point then they're either perhaps slightly deluded or they're lying or they just want to come across in a certain way for whatever whatever the case may be. No.  Buddy knows what a sock is definitely going to do. So we need to take out that prediction in the first place. I think where a lot of people go wrong is they jump into something thinking that well, you know, I recognize this company or you know, I've heard people talk about it or it's making a big move and I'm going to jump in here and by the end of the day it's going to be there. Well, you can't you could that's not a reliable strategy. You can't get in on something. So random that\n",
      "7:  This time based model. Like you said the time based models are lower in prediction so in it's very interesting to see maybe not this whole thing. But especially after 2020 for housing the models really deviate from each other. So we'll see which one is right very exciting but more importantly now, is that what I don't like about the time model and why?  Personally abandoned the model and and jump to stock to flow is 2 things first. The parameters are not stable. So the first time model is actually made in 2014 is it's a classical chart. I have it somewhere in my I will tweet it out later. It's a green line green Priceline with a red curved logarithmic curve in it.\n",
      "8:  Comments on that. Yes. It's an interesting study as well. And we talked to the time all those are classic. So instead of stock to flow you take a look at time as an explanation every variable for the price of Bitcoin and and the narrative then it's like adopt adoption that takes time to play out and that's what you what you see in the price, which is very reasonable. And in fact, it's  I began modeling as well before March this year. So the very first models I made were the exact same models s HC burger that with it with the time and we have the same parameters as well. So so it's yeah, it's definitely interest. It's interesting model. The only thing is first there is a big difference in predictions between stock to flow model and this\n",
      "9:  And if you look at the model that was fitted on all the data, so including the the data from 2014 until today that a Cheeburger is using then you see much lower model. So the model came down significantly and of course now it really fits well, but my prediction would be that it will have to be updated again after 2020 for huffing. And so the stability of the parameters is a key thing for me.  Me because I don't want to update the model every year because I like to use it for prediction and investing and like I said that the model that I prefer the third incarnation of the sock to flow model if you will is made only on 2012 Data before there was any halfing and is still working today. So without any change on parameters, so that's for me. Is it crucial thing? Yeah, that is a really fascinating thing and it speaks to whether there is some kind.\n",
      " \n"
     ]
    }
   ],
   "source": [
    "for ti, topic_dict in topics.items():\n",
    "\n",
    "    print(\"Topic {} {}: {}\".format(ti, topic_dict['query'], topic_dict['description']))\n",
    "    top_episodes = get_topic_episodes(topics, ti, tf_idf, ix2episode)\n",
    "    i2episode = [t for t in top_episodes for sd in training_sub[t]['segments']]\n",
    "    i2segnum = [sd['segNum'] for t in top_episodes for sd in training_sub[t]['segments']]\n",
    "    i2transcript = [sd['transcript'] for t in top_episodes for sd in training_sub[t]['segments']]\n",
    "    i2transcript_clean = [sd['transcript_clean'] for t in top_episodes for sd in training_sub[t]['segments']]\n",
    "    i2tokens = [tokenize(x) for x in i2transcript_clean]\n",
    "    ix = list(range(len(i2segnum)))\n",
    "    \n",
    "    model = bm25.BM25Okapi(i2tokens)\n",
    "\n",
    "    tokenized_query = tokenize(topic_dict['query'])\n",
    "    tokenized_query.extend(tokenize(clean_text(topic_dict['description'])))\n",
    "    choices = model.get_top_n(tokenized_query, ix, 10)\n",
    "    \n",
    "    top10 = get_segment_details(choices, i2segnum, i2episode, i2transcript)\n",
    "    \n",
    "    for k, res in top10.items(): \n",
    "        print(\"{}: {}\".format(res['rank'], res['transcript']))\n",
    "    print(\" \")"
   ]
  },
  {
   "cell_type": "code",
   "execution_count": null,
   "metadata": {},
   "outputs": [],
   "source": []
  }
 ],
 "metadata": {
  "kernelspec": {
   "display_name": "Python 3",
   "language": "python",
   "name": "python3"
  },
  "language_info": {
   "codemirror_mode": {
    "name": "ipython",
    "version": 3
   },
   "file_extension": ".py",
   "mimetype": "text/x-python",
   "name": "python",
   "nbconvert_exporter": "python",
   "pygments_lexer": "ipython3",
   "version": "3.8.5"
  }
 },
 "nbformat": 4,
 "nbformat_minor": 4
}
