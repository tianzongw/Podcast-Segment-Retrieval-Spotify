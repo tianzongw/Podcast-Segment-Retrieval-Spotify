{
 "cells": [
  {
   "cell_type": "code",
   "execution_count": 1,
   "metadata": {},
   "outputs": [
    {
     "name": "stderr",
     "output_type": "stream",
     "text": [
      "[nltk_data] Downloading package wordnet to /home/mimig/nltk_data...\n",
      "[nltk_data]   Package wordnet is already up-to-date!\n"
     ]
    }
   ],
   "source": [
    "import json\n",
    "import os\n",
    "from sklearn.feature_extraction.text import TfidfVectorizer\n",
    "import rank_bm25 as bm25\n",
    "import pandas as pd\n",
    "import numpy as np\n",
    "import re\n",
    "import string\n",
    "from gensim.parsing.preprocessing import remove_stopwords\n",
    "from nltk.stem import WordNetLemmatizer\n",
    "from nltk.stem.porter import PorterStemmer\n",
    "import nltk\n",
    "nltk.download('wordnet')\n",
    "import xmltodict"
   ]
  },
  {
   "cell_type": "code",
   "execution_count": 2,
   "metadata": {},
   "outputs": [],
   "source": [
    "# from rank_bm25 import BM25Okapi"
   ]
  },
  {
   "cell_type": "code",
   "execution_count": 3,
   "metadata": {},
   "outputs": [],
   "source": [
    "wd = '/media/sf_year2/DD2430-Project/Podcast-Segment-Retrieval-Spotify/'\n",
    "os.chdir(wd)\n",
    "files = os.listdir('./data/training_episodes')\n",
    "files = [f for f in files if f != 'place_holder']\n",
    "#files"
   ]
  },
  {
   "cell_type": "code",
   "execution_count": 4,
   "metadata": {},
   "outputs": [
    {
     "name": "stderr",
     "output_type": "stream",
     "text": [
      "[nltk_data] Downloading package wordnet to /home/mimig/nltk_data...\n",
      "[nltk_data]   Package wordnet is already up-to-date!\n"
     ]
    }
   ],
   "source": [
    "from utils_stats import *"
   ]
  },
  {
   "cell_type": "code",
   "execution_count": 5,
   "metadata": {},
   "outputs": [],
   "source": [
    "metadata_file = \"./data/metadata.tsv\"\n",
    "metadata = pd.read_csv(metadata_file, sep=\"\\t\")\n",
    "metadata['show_id'] = metadata.apply(lambda x: x['show_uri'].split(\":\")[2], axis=1)\n",
    "metadata['episode_id'] = metadata.apply(lambda x: x['episode_uri'].split(\":\")[2], axis=1)\n",
    "metadata.set_index('episode_id', inplace=True)\n",
    "# metadata.head()"
   ]
  },
  {
   "cell_type": "code",
   "execution_count": 6,
   "metadata": {},
   "outputs": [
    {
     "data": {
      "text/html": [
       "<div>\n",
       "<style scoped>\n",
       "    .dataframe tbody tr th:only-of-type {\n",
       "        vertical-align: middle;\n",
       "    }\n",
       "\n",
       "    .dataframe tbody tr th {\n",
       "        vertical-align: top;\n",
       "    }\n",
       "\n",
       "    .dataframe thead th {\n",
       "        text-align: right;\n",
       "    }\n",
       "</style>\n",
       "<table border=\"1\" class=\"dataframe\">\n",
       "  <thead>\n",
       "    <tr style=\"text-align: right;\">\n",
       "      <th></th>\n",
       "      <th>topic</th>\n",
       "      <th>1</th>\n",
       "      <th>episode_start</th>\n",
       "      <th>score</th>\n",
       "      <th>episode</th>\n",
       "      <th>start</th>\n",
       "      <th>end</th>\n",
       "      <th>interval</th>\n",
       "    </tr>\n",
       "  </thead>\n",
       "  <tbody>\n",
       "    <tr>\n",
       "      <th>0</th>\n",
       "      <td>1</td>\n",
       "      <td>0</td>\n",
       "      <td>spotify:episode:0E2nqCXMkS218SE72APmNr_240.0</td>\n",
       "      <td>2</td>\n",
       "      <td>0E2nqCXMkS218SE72APmNr</td>\n",
       "      <td>240</td>\n",
       "      <td>360</td>\n",
       "      <td>(240, 360)</td>\n",
       "    </tr>\n",
       "    <tr>\n",
       "      <th>1</th>\n",
       "      <td>1</td>\n",
       "      <td>0</td>\n",
       "      <td>spotify:episode:0E2nqCXMkS218SE72APmNr_300.0</td>\n",
       "      <td>2</td>\n",
       "      <td>0E2nqCXMkS218SE72APmNr</td>\n",
       "      <td>300</td>\n",
       "      <td>420</td>\n",
       "      <td>(300, 420)</td>\n",
       "    </tr>\n",
       "    <tr>\n",
       "      <th>2</th>\n",
       "      <td>1</td>\n",
       "      <td>0</td>\n",
       "      <td>spotify:episode:0E2nqCXMkS218SE72APmNr_360.0</td>\n",
       "      <td>2</td>\n",
       "      <td>0E2nqCXMkS218SE72APmNr</td>\n",
       "      <td>360</td>\n",
       "      <td>480</td>\n",
       "      <td>(360, 480)</td>\n",
       "    </tr>\n",
       "    <tr>\n",
       "      <th>3</th>\n",
       "      <td>1</td>\n",
       "      <td>0</td>\n",
       "      <td>spotify:episode:0Th494DvnO5dU8vTi3QHm2_120.0</td>\n",
       "      <td>1</td>\n",
       "      <td>0Th494DvnO5dU8vTi3QHm2</td>\n",
       "      <td>120</td>\n",
       "      <td>240</td>\n",
       "      <td>(120, 240)</td>\n",
       "    </tr>\n",
       "    <tr>\n",
       "      <th>4</th>\n",
       "      <td>1</td>\n",
       "      <td>0</td>\n",
       "      <td>spotify:episode:199bOiXL0l4YsRaSNDNXvP_1200.0</td>\n",
       "      <td>2</td>\n",
       "      <td>199bOiXL0l4YsRaSNDNXvP</td>\n",
       "      <td>1200</td>\n",
       "      <td>1320</td>\n",
       "      <td>(1200, 1320)</td>\n",
       "    </tr>\n",
       "    <tr>\n",
       "      <th>...</th>\n",
       "      <td>...</td>\n",
       "      <td>...</td>\n",
       "      <td>...</td>\n",
       "      <td>...</td>\n",
       "      <td>...</td>\n",
       "      <td>...</td>\n",
       "      <td>...</td>\n",
       "      <td>...</td>\n",
       "    </tr>\n",
       "    <tr>\n",
       "      <th>604</th>\n",
       "      <td>8</td>\n",
       "      <td>0</td>\n",
       "      <td>spotify:episode:7MnlmF9PV3WUOPI8IjGd0y_720.0</td>\n",
       "      <td>0</td>\n",
       "      <td>7MnlmF9PV3WUOPI8IjGd0y</td>\n",
       "      <td>720</td>\n",
       "      <td>840</td>\n",
       "      <td>(720, 840)</td>\n",
       "    </tr>\n",
       "    <tr>\n",
       "      <th>605</th>\n",
       "      <td>8</td>\n",
       "      <td>0</td>\n",
       "      <td>spotify:episode:7MnlmF9PV3WUOPI8IjGd0y_780.0</td>\n",
       "      <td>0</td>\n",
       "      <td>7MnlmF9PV3WUOPI8IjGd0y</td>\n",
       "      <td>780</td>\n",
       "      <td>900</td>\n",
       "      <td>(780, 900)</td>\n",
       "    </tr>\n",
       "    <tr>\n",
       "      <th>606</th>\n",
       "      <td>8</td>\n",
       "      <td>0</td>\n",
       "      <td>spotify:episode:7wJUUYWcHm7YwEoCmTGFoD_240.0</td>\n",
       "      <td>1</td>\n",
       "      <td>7wJUUYWcHm7YwEoCmTGFoD</td>\n",
       "      <td>240</td>\n",
       "      <td>360</td>\n",
       "      <td>(240, 360)</td>\n",
       "    </tr>\n",
       "    <tr>\n",
       "      <th>607</th>\n",
       "      <td>8</td>\n",
       "      <td>0</td>\n",
       "      <td>spotify:episode:7wJUUYWcHm7YwEoCmTGFoD_300.0</td>\n",
       "      <td>1</td>\n",
       "      <td>7wJUUYWcHm7YwEoCmTGFoD</td>\n",
       "      <td>300</td>\n",
       "      <td>420</td>\n",
       "      <td>(300, 420)</td>\n",
       "    </tr>\n",
       "    <tr>\n",
       "      <th>608</th>\n",
       "      <td>8</td>\n",
       "      <td>0</td>\n",
       "      <td>spotify:episode:7yzpqVjoQqFh5k9W7esm29_360.0</td>\n",
       "      <td>0</td>\n",
       "      <td>7yzpqVjoQqFh5k9W7esm29</td>\n",
       "      <td>360</td>\n",
       "      <td>480</td>\n",
       "      <td>(360, 480)</td>\n",
       "    </tr>\n",
       "  </tbody>\n",
       "</table>\n",
       "<p>609 rows × 8 columns</p>\n",
       "</div>"
      ],
      "text/plain": [
       "     topic  1                                  episode_start  score  \\\n",
       "0        1  0   spotify:episode:0E2nqCXMkS218SE72APmNr_240.0      2   \n",
       "1        1  0   spotify:episode:0E2nqCXMkS218SE72APmNr_300.0      2   \n",
       "2        1  0   spotify:episode:0E2nqCXMkS218SE72APmNr_360.0      2   \n",
       "3        1  0   spotify:episode:0Th494DvnO5dU8vTi3QHm2_120.0      1   \n",
       "4        1  0  spotify:episode:199bOiXL0l4YsRaSNDNXvP_1200.0      2   \n",
       "..     ... ..                                            ...    ...   \n",
       "604      8  0   spotify:episode:7MnlmF9PV3WUOPI8IjGd0y_720.0      0   \n",
       "605      8  0   spotify:episode:7MnlmF9PV3WUOPI8IjGd0y_780.0      0   \n",
       "606      8  0   spotify:episode:7wJUUYWcHm7YwEoCmTGFoD_240.0      1   \n",
       "607      8  0   spotify:episode:7wJUUYWcHm7YwEoCmTGFoD_300.0      1   \n",
       "608      8  0   spotify:episode:7yzpqVjoQqFh5k9W7esm29_360.0      0   \n",
       "\n",
       "                    episode  start   end      interval  \n",
       "0    0E2nqCXMkS218SE72APmNr    240   360    (240, 360)  \n",
       "1    0E2nqCXMkS218SE72APmNr    300   420    (300, 420)  \n",
       "2    0E2nqCXMkS218SE72APmNr    360   480    (360, 480)  \n",
       "3    0Th494DvnO5dU8vTi3QHm2    120   240    (120, 240)  \n",
       "4    199bOiXL0l4YsRaSNDNXvP   1200  1320  (1200, 1320)  \n",
       "..                      ...    ...   ...           ...  \n",
       "604  7MnlmF9PV3WUOPI8IjGd0y    720   840    (720, 840)  \n",
       "605  7MnlmF9PV3WUOPI8IjGd0y    780   900    (780, 900)  \n",
       "606  7wJUUYWcHm7YwEoCmTGFoD    240   360    (240, 360)  \n",
       "607  7wJUUYWcHm7YwEoCmTGFoD    300   420    (300, 420)  \n",
       "608  7yzpqVjoQqFh5k9W7esm29    360   480    (360, 480)  \n",
       "\n",
       "[609 rows x 8 columns]"
      ]
     },
     "execution_count": 6,
     "metadata": {},
     "output_type": "execute_result"
    }
   ],
   "source": [
    "qrels_file = \"./data/podcasts_2020_train.1-8.qrels.txt\"\n",
    "qrels = pd.read_csv(qrels_file, sep=\"\\t\", header=None)#\n",
    "qrels.set_axis(['topic', '1', 'episode_start', 'score'], axis=1, inplace=True)\n",
    "qrels['episode'] = qrels.apply(lambda x: x['episode_start'].split(\":\")[2].split(\"_\")[0], axis=1)\n",
    "qrels['start'] = qrels.apply(lambda x: int(x['episode_start'].split(\"_\")[1].split(\".\")[0]), axis=1)\n",
    "qrels['end'] = qrels.apply(lambda x: int(x['start'] + 120), axis=1)\n",
    "qrels['interval'] = qrels.apply(lambda x: (x['start'], x['end']), axis=1)\n",
    "# qrels = qrels[qrels.score>0]\n",
    "qrels"
   ]
  },
  {
   "cell_type": "code",
   "execution_count": 29,
   "metadata": {},
   "outputs": [],
   "source": [
    "with open(\"./data/all_data_files.txt\", \"r\") as f:\n",
    "    files = f.readlines()\n",
    "    \n",
    "files = [f.replace(\"\\n\", \"\") for f in files]\n",
    "# files"
   ]
  },
  {
   "cell_type": "code",
   "execution_count": 7,
   "metadata": {},
   "outputs": [],
   "source": [
    "def is_overlapping(x, y):\n",
    "    return x[0] <= y[1] and y[0] <= x[1]"
   ]
  },
  {
   "cell_type": "code",
   "execution_count": 8,
   "metadata": {},
   "outputs": [],
   "source": [
    "# training_sub = {}\n",
    "\n",
    "# for filename in files: \n",
    "#     training_sub[os.path.splitext(filename)[0]] = extract_segments(os.path.join(\"./data/training_episodes\", filename))\n",
    "\n",
    "# with open(\"./data/training_sub_cleaned.json\", \"w\") as f:\n",
    "#     json.dump(training_sub, f)\n",
    "\n",
    "with open(\"./data/training_sub_cleaned.json\", \"r\") as f:\n",
    "    training_sub = json.load(f)"
   ]
  },
  {
   "cell_type": "code",
   "execution_count": 9,
   "metadata": {},
   "outputs": [],
   "source": [
    "tf_idf, ix2episode, full_texts = get_tf_idf(training_sub)\n",
    "topics = extract_topics(\"./data/podcasts_2020_topics_train.xml\")"
   ]
  },
  {
   "cell_type": "code",
   "execution_count": 10,
   "metadata": {},
   "outputs": [
    {
     "name": "stdout",
     "output_type": "stream",
     "text": [
      "Topic 8 facebook stock prediction: After Facebook’s Q4 2018 earnings call, what were experts’ predictions and expectations for its stock price in 2019?  How did these predictions fare over time?  Relevant material would include predictions immediately following the Jan 29, 2019, earnings call, and later actual stock performance that could be used to evaluate predictions.\n"
     ]
    }
   ],
   "source": [
    "# for ti, topic_dict in topics.items():\n",
    "#     print(\"Topic {} {}: {}\".format(ti, topic_dict['query'], topic_dict['description']))\n",
    "# #     print(\"The topic is: {}\".format(topic))\n",
    "#     top_episodes = get_topic_episodes(topics, ti, tf_idf, ix2episode)\n",
    "#     for ei, e in enumerate(top_episodes):\n",
    "        \n",
    "#         print(\"Result {}: \\n{}: {}\".format(ei, metadata.episode_name[e], metadata.episode_description[e]))\n",
    "#     print(\"\\n\")\n",
    "ti = 8\n",
    "topic_dict = topics[ti]\n",
    "print(\"Topic {} {}: {}\".format(ti, topic_dict['query'], topic_dict['description']))\n",
    "#     print(\"The topic is: {}\".format(topic))\n",
    "top_episodes = get_topic_episodes(topics, ti, tf_idf, ix2episode, n_episodes=60)\n",
    "# for ei, e in enumerate(top_episodes):\n",
    "\n",
    "#     print(\"Result {}: \\n{}: {}\".format(ei, metadata.episode_name[e], metadata.episode_description[e]))\n",
    "# print(\"\\n\")"
   ]
  },
  {
   "cell_type": "code",
   "execution_count": 11,
   "metadata": {},
   "outputs": [],
   "source": [
    "# flatten = lambda l: [item for sublist in l for item in sublist]\n",
    "# flat_segments = flatten(all_segments)\n",
    "# tokenized_segments = [x.split(\" \") for x in flat_segments]\n",
    "# tokenized_segments"
   ]
  },
  {
   "cell_type": "code",
   "execution_count": 12,
   "metadata": {},
   "outputs": [
    {
     "name": "stdout",
     "output_type": "stream",
     "text": [
      "5798 5798 5798 5798 5798\n"
     ]
    }
   ],
   "source": [
    "i2episode = [t for t in top_episodes for sd in training_sub[t]['segments']]\n",
    "i2segnum = [sd['segNum'] for t in top_episodes for sd in training_sub[t]['segments']]\n",
    "i2transcript = [sd['transcript'] for t in top_episodes for sd in training_sub[t]['segments']]\n",
    "i2transcript_clean = [sd['transcript_clean'] for t in top_episodes for sd in training_sub[t]['segments']]\n",
    "i2tokens = [tokenize(x) for x in i2transcript_clean]\n",
    "ix = list(range(len(i2segnum)))\n",
    "\n",
    "print(len(i2episode), len(i2segnum), len(i2transcript), len(i2transcript_clean), len(i2tokens))"
   ]
  },
  {
   "cell_type": "code",
   "execution_count": 13,
   "metadata": {},
   "outputs": [],
   "source": [
    "# bm25 = BM25Okapi(tokenized_segments)\n",
    "\n",
    "# query = \"climate change strike\"\n",
    "# tokenized_query = query.split(\" \")\n",
    "\n",
    "# bm25.get_top_n(tokenized_query, flat_segments, n=2)"
   ]
  },
  {
   "cell_type": "code",
   "execution_count": 14,
   "metadata": {},
   "outputs": [],
   "source": [
    "model = bm25.BM25Okapi(i2tokens)\n",
    "\n",
    "tokenized_query = tokenize(topic_dict['query'])\n",
    "tokenized_query.extend(tokenize(clean_text(topic_dict['description'])))\n",
    "choices = model.get_top_n(tokenized_query, ix, 10)"
   ]
  },
  {
   "cell_type": "code",
   "execution_count": 23,
   "metadata": {},
   "outputs": [],
   "source": [
    "def get_segment_details(choices, i2segnum, i2episode, i2transcript):\n",
    "    result = {}\n",
    "    for ix, i in enumerate(choices):\n",
    "        result[\"spotify:episode:{}_{}.0\".format(i2episode[i], 30*i2segnum[i])] = {\n",
    "            \"episode\": i2episode[i],\n",
    "            \"start\": 30*i2segnum[i],\n",
    "            \"end\": 30*i2segnum[i] + 120,\n",
    "            \"interval\": (30*i2segnum[i], 30*i2segnum[i] + 120),\n",
    "            \"transcript\": i2transcript[i],\n",
    "            \"rank\": ix\n",
    "        }\n",
    "        \n",
    "    return result\n",
    "        "
   ]
  },
  {
   "cell_type": "code",
   "execution_count": 16,
   "metadata": {},
   "outputs": [],
   "source": [
    "top10 = get_segment_details(choices, i2segnum, i2episode, i2transcript)"
   ]
  },
  {
   "cell_type": "code",
   "execution_count": 17,
   "metadata": {},
   "outputs": [
    {
     "data": {
      "text/plain": [
       "['spotify:episode:55VfynKK09foFInjoBjldC_150.0',\n",
       " 'spotify:episode:48l0QwtlZ51o4mN054oDKD_60.0',\n",
       " 'spotify:episode:3xCPl3x84m2DD7AEOIpeiV_1200.0',\n",
       " 'spotify:episode:722IsuRAc4dAcW0wwwUsN2_1290.0',\n",
       " 'spotify:episode:48l0QwtlZ51o4mN054oDKD_90.0',\n",
       " 'spotify:episode:722IsuRAc4dAcW0wwwUsN2_1320.0',\n",
       " 'spotify:episode:3xCPl3x84m2DD7AEOIpeiV_2280.0',\n",
       " 'spotify:episode:48l0QwtlZ51o4mN054oDKD_600.0',\n",
       " 'spotify:episode:3xCPl3x84m2DD7AEOIpeiV_960.0',\n",
       " 'spotify:episode:7yzpqVjoQqFh5k9W7esm29_270.0']"
      ]
     },
     "execution_count": 17,
     "metadata": {},
     "output_type": "execute_result"
    }
   ],
   "source": [
    "list(top10.keys())"
   ]
  },
  {
   "cell_type": "code",
   "execution_count": 18,
   "metadata": {},
   "outputs": [
    {
     "data": {
      "text/plain": [
       "{1: {'query': 'coronavirus spread',\n",
       "  'type': 'topical',\n",
       "  'description': 'What were people saying about the spread of the novel coronavirus NCOV-19 in Wuhan at the end of 2019?',\n",
       "  'description_clean': 'people saying spread novel coronavirus ncov wuhan end '},\n",
       " 2: {'query': 'greta thunberg cross atlantic',\n",
       "  'type': 'topical',\n",
       "  'description': 'What were people saying about Greta Thunberg’s sailing trip across the Atlantic Ocean in the fall of 2019 and its relationship to global climate change?',\n",
       "  'description_clean': 'people saying greta thunberg’s sailing trip atlantic ocean fall  relationship global climate change'},\n",
       " 3: {'query': 'black hole image',\n",
       "  'type': 'topical',\n",
       "  'description': 'In May 2019 astronomers released the first-ever picture of a black hole.  I would like to hear some conversations and educational discussion about the science of astronomy, black holes, and of the picture itself.',\n",
       "  'description_clean': ' astronomer released firstever picture black hole like hear conversation educational discussion science astronomy black hole picture'},\n",
       " 4: {'query': 'story about riding a bird',\n",
       "  'type': 'refinding',\n",
       "  'description': 'I remember hearing a podcast that had a story about a kid riding some kind of bird.  I want to find it again.',\n",
       "  'description_clean': 'remember hearing podcast story kid riding kind bird want'},\n",
       " 5: {'query': 'daniel ek interview',\n",
       "  'type': 'known item',\n",
       "  'description': 'Someone told me about a podcast interview with Daniel Ek, CEO of Spotify, about the founding and early days of Spotify.  I would like to find the show and episode that contains that interview.  Other interviews with Ek are relevant as well.',\n",
       "  'description_clean': 'told podcast interview daniel ek ceo spotify founding early day spotify like episode contains interview interview ek relevant'},\n",
       " 6: {'query': 'michelle obama becoming',\n",
       "  'type': 'topical',\n",
       "  'description': 'Former First Lady Michelle Obama’s memoir Becoming was published in early 2019.  What were people saying about it?',\n",
       "  'description_clean': 'lady michelle obama’s memoir published early  people saying'},\n",
       " 7: {'query': 'anna delvey',\n",
       "  'type': 'topical',\n",
       "  'description': 'Anna Sorokina moved to New York City in 2013 and posed as wealthy German heiress Anna Delvey.  In 2019 she was convicted of grand larceny, theft, and fraud.  What were people saying about her, the charges, her trial, and New York socialite society in general?',\n",
       "  'description_clean': 'anna sorokina moved new york city  posed wealthy german heiress anna delvey  convicted grand larceny theft fraud people saying charge trial new york socialite society general'},\n",
       " 8: {'query': 'facebook stock prediction',\n",
       "  'type': 'topical',\n",
       "  'description': 'After Facebook’s Q4 2018 earnings call, what were experts’ predictions and expectations for its stock price in 2019?  How did these predictions fare over time?  Relevant material would include predictions immediately following the Jan 29, 2019, earnings call, and later actual stock performance that could be used to evaluate predictions.',\n",
       "  'description_clean': 'facebook’s q  earnings experts’ prediction expectation stock price  prediction fare time relevant material include prediction immediately following jan   earnings later actual stock performance evaluate prediction'}}"
      ]
     },
     "execution_count": 18,
     "metadata": {},
     "output_type": "execute_result"
    }
   ],
   "source": [
    "topics"
   ]
  },
  {
   "cell_type": "code",
   "execution_count": 19,
   "metadata": {},
   "outputs": [],
   "source": [
    "def compare_with_qrels(results, qrels, topic):\n",
    "    df = qrels[qrels.topic == topic]\n",
    "    for k, v in results.items():\n",
    "        e = v['episode']\n",
    "        i = v['interval']\n",
    "#         print(np.sum(df.episode==e))\n",
    "        if np.sum(df.episode==e)>0:\n",
    "            ixs = df.episode == e\n",
    "            for episode, interval, score in zip(df.episode_start[ixs], df.interval[ixs], df.score[ixs]):\n",
    "                if is_overlapping(i, interval):\n",
    "                    print(\"{} is overlapping with choice in qrels with score {}\".format(k, score))"
   ]
  },
  {
   "cell_type": "code",
   "execution_count": 20,
   "metadata": {},
   "outputs": [
    {
     "name": "stdout",
     "output_type": "stream",
     "text": [
      "spotify:episode:55VfynKK09foFInjoBjldC_150.0 is overlapping with choice in qrels with score 3\n",
      "spotify:episode:55VfynKK09foFInjoBjldC_150.0 is overlapping with choice in qrels with score 1\n",
      "spotify:episode:48l0QwtlZ51o4mN054oDKD_60.0 is overlapping with choice in qrels with score 1\n",
      "spotify:episode:722IsuRAc4dAcW0wwwUsN2_1290.0 is overlapping with choice in qrels with score 0\n",
      "spotify:episode:722IsuRAc4dAcW0wwwUsN2_1290.0 is overlapping with choice in qrels with score 0\n",
      "spotify:episode:48l0QwtlZ51o4mN054oDKD_90.0 is overlapping with choice in qrels with score 1\n",
      "spotify:episode:722IsuRAc4dAcW0wwwUsN2_1320.0 is overlapping with choice in qrels with score 0\n",
      "spotify:episode:722IsuRAc4dAcW0wwwUsN2_1320.0 is overlapping with choice in qrels with score 0\n",
      "spotify:episode:3xCPl3x84m2DD7AEOIpeiV_960.0 is overlapping with choice in qrels with score 0\n",
      "spotify:episode:7yzpqVjoQqFh5k9W7esm29_270.0 is overlapping with choice in qrels with score 0\n"
     ]
    }
   ],
   "source": [
    "compare_with_qrels(top10, qrels, ti)"
   ]
  },
  {
   "cell_type": "code",
   "execution_count": 21,
   "metadata": {},
   "outputs": [
    {
     "name": "stdout",
     "output_type": "stream",
     "text": [
      "Topic 1 coronavirus spread: What were people saying about the spread of the novel coronavirus NCOV-19 in Wuhan at the end of 2019?\n",
      "spotify:episode:6qbgrdPtRuEAvaOUfOdYMY_510.0 is overlapping with choice in qrels with score 2\n",
      "spotify:episode:6qbgrdPtRuEAvaOUfOdYMY_510.0 is overlapping with choice in qrels with score 2\n",
      "spotify:episode:2tJJuf3cRuHpsCrEEZqshR_60.0 is overlapping with choice in qrels with score 2\n",
      "spotify:episode:2tJJuf3cRuHpsCrEEZqshR_60.0 is overlapping with choice in qrels with score 2\n",
      "spotify:episode:6qbgrdPtRuEAvaOUfOdYMY_690.0 is overlapping with choice in qrels with score 2\n",
      "spotify:episode:1sbXZEnTGyGKNfpEogahoP_90.0 is overlapping with choice in qrels with score 2\n",
      " \n",
      "Topic 2 greta thunberg cross atlantic: What were people saying about Greta Thunberg’s sailing trip across the Atlantic Ocean in the fall of 2019 and its relationship to global climate change?\n",
      "spotify:episode:4wUoprlBs9yTXD2wkLULGB_270.0 is overlapping with choice in qrels with score 2\n",
      "spotify:episode:7L30QEifwZCmIb96osCZ1C_780.0 is overlapping with choice in qrels with score 0\n",
      "spotify:episode:2yvHwjrpq6u2mwP3s6DJnZ_90.0 is overlapping with choice in qrels with score 3\n",
      " \n",
      "Topic 3 black hole image: In May 2019 astronomers released the first-ever picture of a black hole.  I would like to hear some conversations and educational discussion about the science of astronomy, black holes, and of the picture itself.\n",
      "spotify:episode:4p3nEUCYXDIG9WuvIdVSQj_270.0 is overlapping with choice in qrels with score 3\n",
      "spotify:episode:4p3nEUCYXDIG9WuvIdVSQj_270.0 is overlapping with choice in qrels with score 0\n",
      "spotify:episode:4p3nEUCYXDIG9WuvIdVSQj_270.0 is overlapping with choice in qrels with score 2\n",
      "spotify:episode:4p3nEUCYXDIG9WuvIdVSQj_270.0 is overlapping with choice in qrels with score 2\n",
      "spotify:episode:2TuhNEB0nQtFGvfzSRhEMT_90.0 is overlapping with choice in qrels with score 2\n",
      "spotify:episode:1vFKe9QLhcMQNvjDdePjq8_840.0 is overlapping with choice in qrels with score 0\n",
      "spotify:episode:2TuhNEB0nQtFGvfzSRhEMT_150.0 is overlapping with choice in qrels with score 2\n",
      "spotify:episode:58608SLCnt70sfgrI3gJZK_240.0 is overlapping with choice in qrels with score 3\n",
      "spotify:episode:58608SLCnt70sfgrI3gJZK_240.0 is overlapping with choice in qrels with score 1\n",
      "spotify:episode:58608SLCnt70sfgrI3gJZK_240.0 is overlapping with choice in qrels with score 2\n",
      "spotify:episode:58608SLCnt70sfgrI3gJZK_240.0 is overlapping with choice in qrels with score 3\n",
      "spotify:episode:49fQqhrIxoO5ymTaYrokEs_1440.0 is overlapping with choice in qrels with score 3\n",
      "spotify:episode:49fQqhrIxoO5ymTaYrokEs_1440.0 is overlapping with choice in qrels with score 2\n",
      " \n",
      "Topic 4 story about riding a bird: I remember hearing a podcast that had a story about a kid riding some kind of bird.  I want to find it again.\n",
      "spotify:episode:4hN3ddwNLNnE71v2VbCgzg_2190.0 is overlapping with choice in qrels with score 0\n",
      "spotify:episode:7xZSeIeBkjUKVlCmj9x5HM_1080.0 is overlapping with choice in qrels with score 0\n",
      " \n",
      "Topic 5 daniel ek interview: Someone told me about a podcast interview with Daniel Ek, CEO of Spotify, about the founding and early days of Spotify.  I would like to find the show and episode that contains that interview.  Other interviews with Ek are relevant as well.\n",
      "spotify:episode:1BiKHTv0TSGwVk5Clll7pX_660.0 is overlapping with choice in qrels with score 0\n",
      "spotify:episode:1BiKHTv0TSGwVk5Clll7pX_660.0 is overlapping with choice in qrels with score 0\n",
      "spotify:episode:1BiKHTv0TSGwVk5Clll7pX_690.0 is overlapping with choice in qrels with score 0\n",
      "spotify:episode:1BiKHTv0TSGwVk5Clll7pX_690.0 is overlapping with choice in qrels with score 0\n",
      "spotify:episode:7EeIdvZw7OYhrczeA6Mnt6_360.0 is overlapping with choice in qrels with score 0\n",
      " \n",
      "Topic 6 michelle obama becoming: Former First Lady Michelle Obama’s memoir Becoming was published in early 2019.  What were people saying about it?\n",
      "spotify:episode:6dAVj3XauzZWloCyfWMwxx_810.0 is overlapping with choice in qrels with score 2\n",
      "spotify:episode:6dAVj3XauzZWloCyfWMwxx_810.0 is overlapping with choice in qrels with score 2\n",
      "spotify:episode:7MoDXZze6ru7yKm1Aq9vwP_30.0 is overlapping with choice in qrels with score 0\n",
      "spotify:episode:04P7on6BaQikQsMmTVlMNB_0.0 is overlapping with choice in qrels with score 3\n",
      "spotify:episode:7MoDXZze6ru7yKm1Aq9vwP_60.0 is overlapping with choice in qrels with score 0\n",
      "spotify:episode:4DlwsSGwNHv7mzr7sAOvXn_2880.0 is overlapping with choice in qrels with score 0\n",
      "spotify:episode:4DlwsSGwNHv7mzr7sAOvXn_2880.0 is overlapping with choice in qrels with score 0\n",
      " \n",
      "Topic 7 anna delvey: Anna Sorokina moved to New York City in 2013 and posed as wealthy German heiress Anna Delvey.  In 2019 she was convicted of grand larceny, theft, and fraud.  What were people saying about her, the charges, her trial, and New York socialite society in general?\n",
      " \n",
      "Topic 8 facebook stock prediction: After Facebook’s Q4 2018 earnings call, what were experts’ predictions and expectations for its stock price in 2019?  How did these predictions fare over time?  Relevant material would include predictions immediately following the Jan 29, 2019, earnings call, and later actual stock performance that could be used to evaluate predictions.\n",
      "spotify:episode:48l0QwtlZ51o4mN054oDKD_60.0 is overlapping with choice in qrels with score 1\n",
      "spotify:episode:5UGPiylWqD8IXIRflWXJEg_1620.0 is overlapping with choice in qrels with score 0\n",
      "spotify:episode:3xCPl3x84m2DD7AEOIpeiV_960.0 is overlapping with choice in qrels with score 0\n",
      "spotify:episode:48l0QwtlZ51o4mN054oDKD_90.0 is overlapping with choice in qrels with score 1\n",
      "spotify:episode:5UGPiylWqD8IXIRflWXJEg_1650.0 is overlapping with choice in qrels with score 0\n",
      " \n"
     ]
    }
   ],
   "source": [
    "for ti, topic_dict in topics.items():\n",
    "\n",
    "    print(\"Topic {} {}: {}\".format(ti, topic_dict['query'], topic_dict['description']))\n",
    "    top_episodes = get_topic_episodes(topics, ti, tf_idf, ix2episode)\n",
    "    i2episode = [t for t in top_episodes for sd in training_sub[t]['segments']]\n",
    "    i2segnum = [sd['segNum'] for t in top_episodes for sd in training_sub[t]['segments']]\n",
    "    i2transcript = [sd['transcript'] for t in top_episodes for sd in training_sub[t]['segments']]\n",
    "    i2transcript_clean = [sd['transcript_clean'] for t in top_episodes for sd in training_sub[t]['segments']]\n",
    "    i2tokens = [tokenize(x) for x in i2transcript_clean]\n",
    "    ix = list(range(len(i2segnum)))\n",
    "    \n",
    "    model = bm25.BM25Okapi(i2tokens)\n",
    "\n",
    "    tokenized_query = tokenize(topic_dict['query'])\n",
    "    tokenized_query.extend(tokenize(clean_text(topic_dict['description'])))\n",
    "    choices = model.get_top_n(tokenized_query, ix, 10)\n",
    "    \n",
    "    top10 = get_segment_details(choices, i2segnum, i2episode, i2transcript)\n",
    "    \n",
    "    compare_with_qrels(top10, qrels, ti)\n",
    "    print(\" \")"
   ]
  },
  {
   "cell_type": "code",
   "execution_count": 24,
   "metadata": {},
   "outputs": [
    {
     "name": "stdout",
     "output_type": "stream",
     "text": [
      "Topic 1 coronavirus spread: What were people saying about the spread of the novel coronavirus NCOV-19 in Wuhan at the end of 2019?\n",
      "0:  Novel coronavirus infective pneumonia the acronym for that is NC i-- P so I want you to understand this we're going to be referring to it from now on is now I want to first of all remind you that there is a relationship of the current novel coronavirus. In fact of pneumonia and CIP and previous epidemics coronaviruses, or see small ovie's enveloped positive.\n",
      "1:  You could potentially get infected. Oh, wow, but Catherine says that other similar coronaviruses that we know about. They mostly don't spread through the air. She thinks this disease is spreading a different way. So most Corona viruses are spread through droplets, somebody coughs or sneezes, they form a respiratory droplet and that comes in contact with someone their eyes. They breathe it in they touch their mouth something like that with droplet transmission the droplets fall pretty quickly there.\n",
      "2:  Huh. Now there's lots of Corona viruses circulating in the world. So there's human coronaviruses and there's lots of different animal coronaviruses that don't infect humans very well or at all.\n",
      "3:  But this particular virus is new. Wow, that is crazy. So a lot of us might have had one of the other coronaviruses before but not this one. This one is new. So scientists are now naming it. That's right. The Corona virus that's all over the news right now is called the 2019 in Corona virus and that in stands for novel or new. So what that means is that it is new to humans.\n",
      "4:  Hey, welcome back. So I want to to make today's episode about this continuing spread of the Wuhan coronavirus. I think the official name for it is the 2019 novel coronavirus, but many people are referring to it as just the coronavirus the the Wuhan coronavirus Wuhan flew I've seen that go around but and I think a good place to start is just a quick recap. Where were at now of course is subject to change.\n",
      "5:  You are saying bye for now from authentic biochemistry. Listen up in the next day or two. I'm going to finish off on coronaviruses.\n",
      "6:  And those include things like viral protease Azure or the host Proteus has because their receptors Halima races like the polymerase for the Corona virus and even the in Tripoli like Spike protein. So vaccines have only been approved for a few of these viruses the IV be the tgv and the canine coronavirus, but those vaccines are out are not always used because of Novel pathogenic coronaviruses that arise because of recombination of circulating.\n",
      "7:  It could become more and more infectious to a human. So thinking about that, right? The first documented case of 2019 in coronavirus was reported in Wuhan China at an Open Marketplace. And there are a variety of ways that it could have infected people there. The second thing is how do you get a bat and a human physically close enough to transfer the virus, you know, you can pick up bat poop in a cave and sequence tons of coronaviruses. I mean, so anyway,\n",
      "8:  And RNA viruses course, they're characterized by this club like spikes that project from their surface because of that under a microscope that can look like the sun's Corona like an eclipse. So either called coronaviruses. They have an unusually large RNA genome and the replication strategy is in the cytosol.\n",
      "9:  This virus was that it would survive floating around in the air. That is it would be airborne if true it would mean that you could get infected from someone just breathing new. Some other viruses act like this. So for measles for example, if you walk into a room where someone with measles has been even within two hours, you could potentially get infected. Oh wow, but Catherine says that other similar coronaviruses that we know about they mostly\n",
      " \n",
      "Topic 2 greta thunberg cross atlantic: What were people saying about Greta Thunberg’s sailing trip across the Atlantic Ocean in the fall of 2019 and its relationship to global climate change?\n",
      "0:  See if like I found my true group and everything and I it wasn't they weren't necessarily the right people for me. And I think sometimes you can't force that on, you know, you have to really find those things for real and know when they are for real because you know not unlike this falling for these relationships were talking about where your radar is not catching. But it again why I think about Adam and Greta and Francis being a kind of but a happy thing that was because I did feel like\n",
      "1:  Time especially in Show Business Keller was already famous and David bacon had his eyes set on being a movie star in the 1940s. Even being suspected of being gay could be a career-ending scandal. However, it's likely that David and Greta did have some affinity for one another this is evidenced by the fact that by the fall of 1943 Greta was pregnant with David's child the two lived in a mansion on Lookout Mountain and David would often make the long drive.\n",
      "2:  Improving our sustainability records globally. We he will be doing the right thing and time will only tell now it's interesting that one thing that you know, Greta is doing is obviously going by boat around and saying no one should fly probably I think it's unrealistic with the the need for for Global connectivity. I think but you know as a frequent flyer self myself to we're both kind of guilty. What are you doing to reduce your carbon footprint?\n",
      "3:  Side so that the Paris agreement goal is to keep a global temperature rise to Century. Well below 2 degrees Celsius above pre-industrial levels and to pursue efforts to limit the temperature increase even further to 1.5 degrees Celsius, even the youth are getting involved such as the famous Greta. Thunbergii Greta is a 15 year old student from Sweden who's a climate change activists in a community and even brought in her efforts into our local area starting some climate strikes in San Francisco.\n",
      "4:  So they went on and left Greta behind but when they were out of sight over the hill and when the shoe was mended Greta went back to the den well place to have enough room there for himself.\n",
      "5:  Greta saying\n",
      "6:  Still here David always took them when he went to the beach Greta's account of the last time. She saw her husband definitely paints a picture of someone who is trying to keep a low profile David wanted to go to the beach with Greta Greta citing health concerns over her pregnancy chose not to go David considered staying but left after Greta rejected his sexual advances presumably he went to the beach alone, but he left behind.\n",
      "7:  This is the end of chapter 3 of Greta Saga.\n",
      "8:  Vigils need to understand the climate change is real and it's here to stay and therefore there has to be an energy transition in place in order for us to achieve the goals that Greta is now amplifying globally. I'll get back to that dear the whole issue of the transition if you like because obviously this isn't going to happen overnight, but why do you think it's taken a 16 year old girl to change the world in this way?\n",
      "9:  Life, I'd really happy incident. Well, I think I mean movie wise or just personally personal but this is a graduated from high school or something just easy. I'm trying to do and I was in a particularly happy. Well, I was to say, you know working with Greta. I mean knowing Greta meeting Greta but working together with her on Francis because and and also meeting Adam on Francis. I mean both that movie in a way\n",
      " \n",
      "Topic 3 black hole image: In May 2019 astronomers released the first-ever picture of a black hole.  I would like to hear some conversations and educational discussion about the science of astronomy, black holes, and of the picture itself.\n",
      "0:  and Einstein proved that theory and it's because when you're closer to a black hole like the planet is so much heavier in density where so whereas the black hole and I think the fact like there are some but they're so far away because like if you think about it, so how did you test that? How did he figure out that if you're closer to a black hole time? Buckle up boys.\n",
      "1:  I remember hearing about when that happened. I took a picture of a black hole a video of it. Well, cool. I'm sorry real black hole. Wow, that's really cool. And we also got to see one. That's how black hole works. Oh, that's cool.\n",
      "2:  And it's great to talk about black holes. We've seen tremendous evidence for black holes. We've never actually seen a black hole and that's for good reason because black holes aren't by definition black. They swallow all of the light that falls into it. So how does one actually see a black hole and the short answer is you don't but you see what is immediately surrounding or rather see the shadow of the black hole and for the first time ever astronomers are in the process of doing just that taking an image as Tony said of the\n",
      "3:  So if we go to that dark hole, okay, if we go to Sagittarius A and we go to the event horizon of that black hole we can basically at that moment because you got the thing about black holes is the black holes are I'm not going to explain what a black holes are right. Now this one I did next episode. Okay. So black holes have such high gravity and is one more thing that comes in general relativity, which I'm going to create a different episode. I will\n",
      "4:  we are now moving on and talking about mass and boundaries of a black hole by Cornell University this article discuss with multiband observation of black holes boundaries where black holes could be the part of different types of a galaxy or even multi-version measuring the mass and black holes of space and ground it has\n",
      "5:  like T said if what happens if you fall into a black hole how many of us are going to fall into a black hole will never know what happens because if somebody does fall in a black hole they will die and you won't know the answer.\n",
      "6:  Okay, so in our galaxy, I don't know how many years probably 3,500 years light years away. We are around 3,500 light is of a from the center of the Galaxy and at the center of a galaxy there's a black hole and although the black on the name of that black hole is called Sagittarius A. There's a name of our black hole together black hole of our galaxy and that's the closest one we have.\n",
      "7:  Close says that black holes are just simply a hoax that George Champion as a visit physics. Thanks and predicts. It is something that is simply does not exist having no physical proof of a black hole or any evidence that it exists where we were showing a depiction of what a black hole looks like with no actual pictures of a black hole when really look,\n",
      "8:  Dated by a black hole system, they found the first concentrate proof of black holes existence. That's cool. I didn't realize that you know, this has been something that they've had theories about four years, but they didn't really have any proof until so recently so cool. Thanks. Johan speaking about recently. There has been some major breakthroughs in current events with black holes, seeing as the first-ever photo of a black hole well photo in air quotes of a black hole blue.\n",
      "9:  gets a little too hot when I try to make sense of black holes black holes are massive pits where gravitational force is so strong. It sucks in everything in its path debris dust planets light and the way a black hole is formed is when a star dies and collapses in on itself. I got some stuff to throw in a black hole. I've got plenty of stuff to throw in the black hole. Take mine with you the Milky Way our galaxy we have our own\n",
      " \n",
      "Topic 4 story about riding a bird: I remember hearing a podcast that had a story about a kid riding some kind of bird.  I want to find it again.\n",
      "0:  Common, enemy for this giant. What the fuck kind of bird is that we talk about that bird.\n",
      "1:  He's laughing. That was yeah, I think that was kind of a bird Ground Zero because if you watch the story of that is like they're like, we don't know these birds just wake up. They go on this crazy journey to somewhere. They don't have any supposedly any kind of internal like GPS or system that tells them how to get to where they go. They just go to this place and then a lot of their behaviors\n",
      "2:  Really? The best said mrs. Bird. I want to stay here for ever. Mr. Byrd was very happy to he flew to the top of his house. He sang his song again. I love our house. I love our nest in all the world. Our next is best. He was so busy singing. He didn't even see me.\n",
      "3:  He's our family that had pet what what's a parakeet is that like the famous bird to have as a pet? I think so my cousins always would have won and they like died every other week and just get a new pair of key. You know, how you have to put a sheet over it? Yeah, it's nice because I don't like bug you. Yeah, my buddy had one I forget what kind of bird it was. It was a fucking dick and then he would like try and get us to hold it and like I don't want to touch that filthy. Don't get me started on this.\n",
      "4:  Okay. Okay, so they're sort of drones that can last indefinitely. Yeah, and I think they're less likely to because I mean the kinds of birds that you're typically that I think the government is typically sending to these Behind Enemy Lines. If you will are not it's not like a pheasant or a turkey that they're going to want to kill and eat. It's just a bird. It's like, you know a cardinal or something like that. That's just like oh there's a bird you don't think anything of it. It's over and the pheasants and turkeys are real. I think those yeah, I think a lot of\n",
      "5:  The Drone Army as as they are is that it's expensive to have there's only certain drone birds that produce poop and seagulls are known for that. And so it became a thing where they had to build that technology into them. Mmm just so they could keep doing that people be like assholes Eagles have seagulls have a shit around here in forever. If he will catch up here at the seagull stop pooping Alexis. Do you've any birds you want to know about hmm? Okay, this is really interesting. So\n",
      "6:  they spend a lot of time in the woods together like going through and looking looking for different animals and she says singing bird taught taught me how to do like this kind of bird call and you know, they have this very like sensory relationship where they just go out and experience nature together. So that kind of bond may not require as you're saying verbal communication like drawing each other pictures of scenes in nature like they use the sun to tell time and make set a time for their next meeting.\n",
      "7:  I am yeah, it's a lot of I didn't get all this information at once like you did. So I understand mean it's like I don't even remember who I was an hour ago. Yeah, it's overwhelming. Yeah, so if you can just eat up a little bit of Mike time, I can talk about anything you want for like a minute and a half while I wow quietly. Yeah, probably not even that probably about 30 seconds, but the mic is yours. If you want to talk about birds if you want to talk about Schmutz, if you want to talk about your cats other stuff you're into yeah. Sure. I'll talk about\n",
      "8:  One of the main characters but a bird in the Angry Birds movie two drinks piss confirmed confirmed. I'm not as lucky place a confirmed. I'm not a scientist, but confirmed. Thank you having what your what your first thoughts on the trailer Claire. I'm excited that my kids have moved past. Angry Birds probably won't be heading back to the theater bucket. I'm looking forward to you milking this for another few hundred podcast episode my\n",
      "9:  Flying, like evenly you were like, I'm gonna get down there. I'm gonna check out this car like the odds of being hit by a car would seem to be astronomical. Can I quickly touch on the fact that that as Mary mentioned this is not the first time we've discussed this this is the type of conversations Mary and I like to have often is about things like bird serious. Well, I wanted to call it natural selection, but I'm like swell is a car hitting an animal really natural selection because like we I'm a human I'm gonna create something and\n",
      " \n",
      "Topic 5 daniel ek interview: Someone told me about a podcast interview with Daniel Ek, CEO of Spotify, about the founding and early days of Spotify.  I would like to find the show and episode that contains that interview.  Other interviews with Ek are relevant as well.\n",
      "0:  EK\n",
      "1:  No, Michael, Wacha is what our wow Micah Enoch. I had the keynote naive on the character. Who do I know in Kapolei? Hawaii Eliza Micah? EK L. EK moral Decay what you okay? Okay, okay in the a cock or not, Mia, Hawaii\n",
      "2:  Hey mom, and my uncle you know that you all could evolve my more colloquium a couple more panicky, Hawaii. Although the Hawaii for know I had a kid. No, EK Kay could not occur here. Wow.\n",
      "3:  Thank you notes. If you really want to stand out and send them handwritten thank-you notes. This has to be like super super time-sensitive literally like you leave the interview, right your nose go to the post office. So like do this literally like in your car super immediate, so they get it within the next day or two and then there are other ways to stand out to in the interview process. I did an interview with Laura from the Kick-Ass in Life podcast on 523 19.\n",
      "4:  quick rundown on Robert bardos crime and we're going to go ahead and jump to the interview. This is one part of the interview. If you want to hear the second part, you can head over to patreon.com slash criminal perspective and we'll have it up over there when we get done with the interview. We're going to address some things that are said in the interview and after we get done, I think anything regarding this case that you might be a little fuzzy on we might be able to clear some stuff up so\n",
      "5:  Li ke car kohana me out paper a cow in a chemically queuing up Kapolei Hawaii. Could you cannot be called a come over here? We get all the who the hell leaked it all the whole EK kakaako and Anime, Hawaii\n",
      "6:  You get to see what it's like to work with them because right you know, I always say this to remember in the interviews, you're interviewing them almost just as much as they're interviewing you because number you spend, you know, eight hours a day with these people you got to make sure you like it. So that's why I also like the contract to hire maybe like a trial period some people call it but I've seen that in startups as well. And I really like that. I guess you can call that an interview. It's kind of weird to call that an interview but it is a hiring process that companies do and I'm a big fan of that one as well in another.\n",
      "7:  Be that could really help you number three. If you are asked a question that you can't answer because there was a lack of preparation own it. I know that's not always easy and I know we want our like knee-jerk reaction maybe to kind of talk our way through it and kind of bullshit our way through it, but really just own it. I've definitely said this in interviews before when I was being interviewed and I have said, you know, honestly I haven't had the time to take the Deep dive that I really would want.\n",
      "8:  To Iowa like that's kind of weird. But when I was looking up like promotions to leave, you know looking at other jobs and I was leaving Florida state which I got a lot of great experience down there actually interviewed with the Philadelphia Eagles like two days before I interviewed here at Iowa. And when I left like the interview at Philly, I was like man like this is going to be awesome. Like I need to give me the job. I'm going to take if it's offered to me and two days later. I fly out to Iowa and it was an awesome awesome.\n",
      "9:  Dean corll case which he's obsessed with and knows absolutely more than anybody in the fucking world about other than Wayne. Hey Wayne Henley or David Brooks and such an interesting guy to talk to on the first part of our interview. We interview we talked a lot about Jay-Z his first visit to death row a lot of his interactions with Casey and what that time was like we also talked about how he got the opportunity to go see the Cielo Drive Bungalow where the infamous state\n",
      " \n",
      "Topic 6 michelle obama becoming: Former First Lady Michelle Obama’s memoir Becoming was published in early 2019.  What were people saying about it?\n",
      "0:  Okay, what's your favorite book? Oh, that's hard. I would say my favorite book is my favorite book. I would say is becoming by Michelle Obama. That's her Memoir Michelle Obama the Obamas in general just have a special place in my heart. Of course. They're like Mom and Dad, you know, yeah, so I just like really enjoyed reading that and I really enjoyed kind of getting like the beside beside behind the scenes look like\n",
      "1:  Kind of hard to sit through conversations with Dennis and Porsche and then we've just got Michelle Obama sprinkled throughout I thought that was the most random thing. I'm like, why is Michelle Obama being brought up every 15 minutes? I mean, I think because Michelle Obama is I feel like the Jesus. It's like she just she just is wise and I feel like she's obviously well respected, but then her own community so definitely. Yeah, and I'm Memoir but yeah, no, I agree those and\n",
      "2:  Since this is a pockets for an intelligent oration. We just want to recommend some things to cope with your with your entitlements. So Charlie, what do you have for us this time? I want to recommend you guys to read Michelle Obama's Memoir becoming because there's no Nostalgia like Obama Nostalgia when you live in Washington DC. Yep, and also I want you two guys to watch your favorite Disney movie just because you owe it to\n",
      "3: Hi everyone, this is Dom and Ivana. And this is Kathy Tucker. Welcome to our very first episode of brown girls read today. We are discussing her thoughts on Michelle Obama's Memoir becoming it's one of the best books. I have read so far and I can't wait to share it with you all. Come on. Do you want to share a quick synopsis? Before we start? Sure Michelle Obama is an American lawyer a university administrator and a writer who was the first lady of\n",
      "4:  actually tell her she was right to like a week later. But yeah, so we ended up going with the Memoir and as far as far as you know me being vulnerable and and talking about all these like self-consciousness is and anxieties and insecurities whatever the way I figure it is like yo, I'm not Michelle Obama like, you know, no one gives a shit about my biography about where I went to school or where my first date with my wife like no one gives a shit about that for me. So\n",
      "5:  Funny of that episode title was Michelle Obama. What would a Michelle Obama do but yeah, but it was perfect. I love Michelle Obama to I think she's I mean and so many ways. I think she's almost like just the perfect first lady because she definitely has an opinion. She is not afraid to be herself. She is confident. She's active. She's got those guns and is proud of them. She dresses. Well, she's beautiful. So I mean I get it. I just don't find myself every 15 minutes thinking what would Michelle Obama did this?\n",
      "6:  And maybe for the people that already think of us as a celebrity. So I always say this at one of the types of memories that are Memoirs that really works is celebrity Memoir, but you are a celebrity everyone every single person listening to this is a celebrity to your family and your friends and your co-workers and the people that you work with all of those those people want to know your story. So great go to town right a celebrity Memoir about yourself for those people. They will want to read it. But if you want to make the leap to the people that don't know you you must provide\n",
      "7:  Alright now let's talk about her relationship and marriage what I found super hilarious was Barack Obama's introduction in the book you remember his first mention is Barack Obama was late on day one. This made me laugh so much, you know partly because it feels like a romantic comedy set up where we are introduced to the main lead and also because it describes my husband. I'm not\n",
      "8:  Why is it not industry-standard to say hey, I paid Kelly notaras to write my book for me, right? You know, I think it's because of the you said something earlier like it was like a fraud or something like that. I think there's a way that that has kind of entered the culture like I when I dropped the bomb about Michelle Obama, I called it the Michelle Obama and I and you know, the really there was one student in class who was very upset very upset. She came up to me and she said what do you mean like I went to this\n",
      "9:  Jeez, so sorry why is a memoir the highest bar? It's the highest bar. I and you know again, is it really the highest bar? I think novels and Memoirs are both very high bars. The reason why it's a high bar is because it it needs to engage the reader just as much as a really excellent novel would and novels are generally not written by amateur writers almost that are red. Yeah and puppy.\n",
      " \n",
      "Topic 7 anna delvey: Anna Sorokina moved to New York City in 2013 and posed as wealthy German heiress Anna Delvey.  In 2019 she was convicted of grand larceny, theft, and fraud.  What were people saying about her, the charges, her trial, and New York socialite society in general?\n",
      "0:  I think that that's absolutely the case and I can't even remember sometimes in my own life, you know in different creative Endeavors that I wanted to be a part of and this actually goes back to the story of me leaving New York in the year the year to two years before I left New York. I was meditating but I also started drawing and playing the guitar cool and it was an interesting thing and I was journaling because I'd always been a journal or so. My I was actually working with my crew.\n",
      "1:  Actually read the book The Power of Now by Eckhart Tolle and I said to a friend who is older and wiser. I want church for this if there was just church for this and she said oh this is just Buddhism which it's not but anyway, it was you know lucky for me that she said that and I went and found the New York Shambhala Center and it became my church, you know, it sort of was the thing that I ground into when I was in New York not happy but didn't know what I was going to do. I mean publishing is\n",
      "2:  a funny business where they you kind of believe there's nothing but New York, you know, it's like these New York is the center of everything. There's just no other place you could live maybe La if you want to do the film side of the business, but otherwise you have no options and so I believe that and was struggling and and found the Shambhala Center and I just was there every single weekend. I coordinated the weekend Retreats. I was a participant and I started in the daily meditation practice and that time and so to ask like what actually changed\n",
      "3: Oh my gosh, you were here. Welcome back the long-distance love bombs podcast. I am your host. Dr. Jeremy Goldberg. Today's episode super cool Kelly. No Taurus is on the podcast. Kelly is a badass book publishing editing genius. She edited bunch of New York Times Best Sellers. She started her own literary agency. She spent years working in New York at all the big\n",
      "4:  Came to move to Colorado. I that was when I identity broke. It was the hardest month of my life between having gotten that the job offer to move out of New York moved to the I mean it sounds true is a wonderful company. I have to say run by an amazing woman Tammy Simon who's one of my favorite people in the whole world, but their location was in an office Park and I was at the time working in the ABC News building in New York City on the upper west side. There was Starbucks in the lobby there were\n",
      "5:  Eloquent in your description of complexity. I mean, I'm a book editor. Yeah. I mean I'm whoever word person actually touch touch on that that's on that piece yet as we get distracted by the medicine haven't really okay. So you're a book person you spent time in New York working for the biggest biggest houses. I would say. Yeah. Yep. Totally edited New York Times bestsellers. Yep. You are an expert right? I mean, you know and so much to do.\n",
      "6:  And she often attended the trial of decked out in designer clothes picked out by The Stylist Anastasia Walker. They aren't it there you have it. That is the story fascinating of the New York socialite who tried to scam people out of 22 minutes. I think she probably story could really have succeeded. Yeah. I think Wonder are there people out there who have spoofed their way to the you know one Whopper lie, and then the\n",
      "7:  So according to the course who've done like a really really good. There's with a couple of really big pieces out of Del V. Obviously the cost in the new the New York the New Yorker had Vanity Fair a lot of this is pieced together from all those things because there's so many interesting perspectives from this story. Right? Anyway, Anna and architect. Ron cast Costello know who was a friend of one of her purple colleagues.\n",
      "8:  Given how well the two women clicked. It's no wonder that Anna agreed to accompany Marta to New York City to meet a friend for dinner in December of 1984. And it's also not surprising that Anna trusted this acquaintance of Marta's implicitly. What did come as a shock to Anna at least was that the person she met that evening wasn't a friend of Marta's at all. He introduced himself as an office.\n",
      "9:  In December of 1984 twenty-seven-year-old Ana belén Montes agreed to travel with her friend Marta Velasquez to New York City to meet a friend for dinner when they arrived however, the man introduced himself to Anna as an officer of Cuban intelligence over the course of a quiet dinner the official convinced Anna. She had a role to play on the international stage.\n",
      " \n",
      "Topic 8 facebook stock prediction: After Facebook’s Q4 2018 earnings call, what were experts’ predictions and expectations for its stock price in 2019?  How did these predictions fare over time?  Relevant material would include predictions immediately following the Jan 29, 2019, earnings call, and later actual stock performance that could be used to evaluate predictions.\n",
      "0:  In this technique, you can relatively accurately tell we're stock will be priced in the future in about 18 to 24 months. So this is kind of jumping ahead for a lot of you who have been following. This is really one of the last things you're going to want to do when you're trying to figure out where the price of a stock should be and whether or not you want to buy that stock but it's it's something that I'm actually doing right now because I'm ready to buy a stock. I noticed prices are dipping a lot. And so I thought it's a good time to jump.\n",
      "1:  Personally abandoned the model and and jump to stock to flow is 2 things first. The parameters are not stable. So the first time model is actually made in 2014 is it's a classical chart. I have it somewhere in my I will tweet it out later. It's a green line green Priceline with a red curved logarithmic curve in it.\n",
      "2:  It was at that point that you know, you have a very interesting situation as an investor because you've got a very very dislocated stock price.\n",
      "3:  oftentimes you can have big fundamental changes occur in the economic reality of the business, but those fundamental changes are not reflected in the stock price.\n",
      "4:  Annualized should equal the price over earnings ratio. If it's under that means that the stock should be priced higher than what it is. If it's if it's over then that means that it's overpriced. So we're going to take that number here, which is six point three percent. Okay, so 5 is a price to earnings ratio 5 /\n",
      "5:  Financials and then I got delisted. So you had these subsequent events that caused the stock price to just have these little Cliff Dives. Yeah, so you got to about a dollar.\n",
      "6:  Jump in and buy one of these stocks when the price so low and so what I have here like this list that you see right here is the list of all the stocks that I looked at all 14th out. Approximately 14,000 stocks in June. I do that every June once a year. I take a look at all the stocks and I when I'm looking for small caps, this is my small caps list. So all these here are those that have met the vast majority of the requirements that I have had for how\n",
      "7:  You had a case of Osiris a bunch of shorts attacking the company pointing out Channel stuffing the stock price dropping as that occur that the executive team was fired. The company had to couldn't post financials Had To Do List Etc stock went from like 25-30 down to a few box.\n",
      "8:  It and I think it was updated later by to the maester. So yes, this is a well-known one to a shared it I think yeah, you share that as well. I think and and what you see there is the prediction that was made in 2014 and it was much higher than the actual price that we see right now. So the red prediction line is way above the green real price in the updated chart bye-bye to you. So\n",
      "9:  on and my thoughts on it are your cooking the books and your financial still are terrible. I mean that that's the first thing that came to mind. It's like really you're going to commit fraud and still be terrible. I mean, I was Enron did it where their stock prices went up and up and then they got exposed but I mean like for this to come out now, I mean GE is the like the problems are just piling on if this stuff actually comes to fruition and turns out they are correct and fraud. I\n",
      " \n"
     ]
    }
   ],
   "source": [
    "for ti, topic_dict in topics.items():\n",
    "\n",
    "    print(\"Topic {} {}: {}\".format(ti, topic_dict['query'], topic_dict['description']))\n",
    "    top_episodes = get_topic_episodes(topics, ti, tf_idf, ix2episode)\n",
    "    i2episode = [t for t in top_episodes for sd in training_sub[t]['segments']]\n",
    "    i2segnum = [sd['segNum'] for t in top_episodes for sd in training_sub[t]['segments']]\n",
    "    i2transcript = [sd['transcript'] for t in top_episodes for sd in training_sub[t]['segments']]\n",
    "    i2transcript_clean = [sd['transcript_clean'] for t in top_episodes for sd in training_sub[t]['segments']]\n",
    "    i2tokens = [tokenize(x) for x in i2transcript_clean]\n",
    "    ix = list(range(len(i2segnum)))\n",
    "    \n",
    "    model = bm25.BM25Okapi(i2tokens)\n",
    "\n",
    "    tokenized_query = tokenize(topic_dict['query'])\n",
    "    tokenized_query.extend(tokenize(clean_text(topic_dict['description'])))\n",
    "    choices = model.get_top_n(tokenized_query, ix, 10)\n",
    "    \n",
    "    top10 = get_segment_details(choices, i2segnum, i2episode, i2transcript)\n",
    "    \n",
    "    for k, res in top10.items(): \n",
    "        print(\"{}: {}\".format(res['rank'], res['transcript']))\n",
    "    print(\" \")"
   ]
  },
  {
   "cell_type": "code",
   "execution_count": null,
   "metadata": {},
   "outputs": [],
   "source": []
  }
 ],
 "metadata": {
  "kernelspec": {
   "display_name": "Python 3",
   "language": "python",
   "name": "python3"
  },
  "language_info": {
   "codemirror_mode": {
    "name": "ipython",
    "version": 3
   },
   "file_extension": ".py",
   "mimetype": "text/x-python",
   "name": "python",
   "nbconvert_exporter": "python",
   "pygments_lexer": "ipython3",
   "version": "3.8.5"
  }
 },
 "nbformat": 4,
 "nbformat_minor": 4
}
