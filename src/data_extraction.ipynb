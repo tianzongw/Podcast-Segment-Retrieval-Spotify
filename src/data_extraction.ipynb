{
 "metadata": {
  "language_info": {
   "codemirror_mode": {
    "name": "ipython",
    "version": 3
   },
   "file_extension": ".py",
   "mimetype": "text/x-python",
   "name": "python",
   "nbconvert_exporter": "python",
   "pygments_lexer": "ipython3",
   "version": "3.8.3-final"
  },
  "orig_nbformat": 2,
  "kernelspec": {
   "name": "python_defaultSpec_1599660467338",
   "display_name": "Python 3.8.3 64-bit ('base': conda)"
  }
 },
 "nbformat": 4,
 "nbformat_minor": 2,
 "cells": [
  {
   "cell_type": "markdown",
   "metadata": {},
   "source": [
    "What the data looks like \n",
    "\n",
    "for each episode there is a json-file with following structure\n",
    "\n",
    "{\"results\":[{\"alternatives\":[{\"transcript\":\"Hi, this is transcript of first segment\",\"confidence\":0.91,\"words\":[{\n",
    "                     \"startTime\":\"0s\",\n",
    "                     \"endTime\":\"0.300s\",\n",
    "                     \"word\":\"Hi,\"\n",
    "                  },\n",
    "                  {\"startTime\":\"0.500s\",\n",
    "                     \"endTime\":\"0.900s\",\n",
    "                     \"word\":\"this\"}]}]}]}\n",
    "\n",
    "\n",
    "\n",
    "\n",
    "What I want the data to look like (kind of)\n",
    "\n",
    "for each show there shoud be one dict containing show id, show name and all episodes of show split into segments\n",
    "\n",
    "[{'show-id':'123','show-name':'alex & sigge','episodes':[{'name':'first episode','date':'2020-01-01','segmentTranscripts':[{'segNo':0,'startTime':'00:00s','endTime':'00:20s','transcript':'......',},{},]}]},{},]\n",
    "\n",
    "- show name would have to be looked up in the metadata.tsv"
   ]
  },
  {
   "cell_type": "code",
   "execution_count": null,
   "metadata": {
    "tags": []
   },
   "outputs": [],
   "source": [
    "import json\n",
    "\n",
    "def extract_segments(path):\n",
    "    with open(path, \"r\") as read_file:\n",
    "        episode = json.load(read_file)\n",
    "    segments=[]\n",
    "    #had to do \"manual\" iteration due to irregularities in data\n",
    "    iter=0\n",
    "    for segment in episode[\"results\"]:\n",
    "        seg_result={}\n",
    "        #make sure there is only one dict in this list\n",
    "        assert len(segment[\"alternatives\"])==1\n",
    "        segment_dict=segment[\"alternatives\"][0]\n",
    "        #sometimes \"alternatives\" dict is empty...\n",
    "        if \"words\" and \"transcript\"  in segment_dict:\n",
    "            #add segment number\n",
    "            seg_result[\"segNum\"]=iter\n",
    "            #add timestamp of the first word in this segment\n",
    "            seg_result[\"startTime\"]=segment_dict[\"words\"][0][\"startTime\"]\n",
    "            #add timestamp of the last word in this segment\n",
    "            seg_result[\"endTime\"]=segment_dict[\"words\"][-1][\"endTime\"]\n",
    "            #add transcript of this segment \n",
    "            seg_result[\"transcript\"]=segment_dict[\"transcript\"]\n",
    "            segments.append(seg_result)\n",
    "            iter+=1\n",
    "\n",
    "    return segments\n",
    "\n",
    "\n",
    "\n"
   ]
  },
  {
   "cell_type": "code",
   "execution_count": 81,
   "metadata": {
    "tags": []
   },
   "outputs": [],
   "source": [
    "import os\n",
    "\n",
    "base_dir=\"/Users/Simpan/spotify/spotify-podcasts-2020/podcasts-transcripts\"\n",
    "data=[]\n",
    "for sub_dir in os.listdir(base_dir):\n",
    "    for sub_sub_dir in os.listdir(base_dir+'/'+sub_dir):\n",
    "        for show_dir in os.listdir(base_dir+'/'+sub_dir+'/'+sub_sub_dir):\n",
    "            show_dict={}\n",
    "            show_dict[\"showId\"]=show_dir\n",
    "            show_dict[\"episodes\"]=[]\n",
    "            for i,episode in enumerate(os.listdir(base_dir+'/'+sub_dir+'/'+sub_sub_dir+'/'+show_dir)):\n",
    "                episode_dict={}\n",
    "                #remove .json ending\n",
    "                episode_dict[\"episodeId\"]=episode[:-5]\n",
    "                episode_dict[\"episodeNo\"]=i\n",
    "                episode_path=base_dir+'/'+sub_dir+'/'+sub_sub_dir+'/'+show_dir+'/'+episode\n",
    "                episode_dict[\"episodeSegments\"]=extract_segments(episode_path)\n",
    "                show_dict[\"episodes\"].append(episode_dict)\n",
    "            data.append(show_dict)\n",
    "with open(\"test.json\", \"w+\") as write_file:\n",
    "    json.dump(data, write_file)"
   ]
  }
 ]
}