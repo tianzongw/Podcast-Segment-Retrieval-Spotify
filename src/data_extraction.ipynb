{
 "metadata": {
  "language_info": {
   "codemirror_mode": {
    "name": "ipython",
    "version": 3
   },
   "file_extension": ".py",
   "mimetype": "text/x-python",
   "name": "python",
   "nbconvert_exporter": "python",
   "pygments_lexer": "ipython3",
   "version": "3.8.3-final"
  },
  "orig_nbformat": 2,
  "kernelspec": {
   "name": "python_defaultSpec_1600859073486",
   "display_name": "Python 3.8.3 64-bit ('base': conda)"
  }
 },
 "nbformat": 4,
 "nbformat_minor": 2,
 "cells": [
  {
   "cell_type": "markdown",
   "metadata": {},
   "source": [
    "What the data looks like \n",
    "\n",
    "for each episode there is a json-file with following structure\n",
    "\n",
    "{\"results\":[{\"alternatives\":[{\"transcript\":\"Hi, this is transcript of first segment\",\"confidence\":0.91,\"words\":[{\n",
    "                     \"startTime\":\"0s\",\n",
    "                     \"endTime\":\"0.300s\",\n",
    "                     \"word\":\"Hi,\"\n",
    "                  },\n",
    "                  {\"startTime\":\"0.500s\",\n",
    "                     \"endTime\":\"0.900s\",\n",
    "                     \"word\":\"this\"}]}]}]}\n",
    "\n",
    "\n",
    "\n",
    "\n",
    "What I want the data to look like (kind of)\n",
    "\n",
    "for each show there shoud be one dict containing show id, show name and all episodes of show split into segments\n",
    "\n",
    "[{'show-id':'123','show-name':'alex & sigge','episodes':[{'name':'first episode','date':'2020-01-01','segmentTranscripts':[{'segNo':0,'startTime':'00:00s','endTime':'00:20s','transcript':'......',},{},]}]},{},]\n",
    "\n",
    "- show name would have to be looked up in the metadata.tsv"
   ]
  },
  {
   "cell_type": "code",
   "execution_count": 1,
   "metadata": {
    "tags": []
   },
   "outputs": [],
   "source": [
    "import json\n",
    "\n",
    "#for each episode extract {word:'hello',timestamp:'00.00s'} \n",
    "    \n",
    "\n",
    "def extract_segments(path):\n",
    "    with open(path, \"r\") as read_file:\n",
    "        episode = json.load(read_file)\n",
    "    segments=[]\n",
    "    #had to do \"manual\" iteration due to irregularities in data\n",
    "    iter=0\n",
    "    for segment in episode[\"results\"]:\n",
    "        seg_result={}\n",
    "        #make sure there is only one dict in this list (should be true according to dataset description)\n",
    "        assert len(segment[\"alternatives\"])==1\n",
    "        segment_dict=segment[\"alternatives\"][0]\n",
    "        #sometimes \"alternatives\" dict is empty...\n",
    "        if \"words\" and \"transcript\"  in segment_dict:\n",
    "            #add segment number\n",
    "            seg_result[\"segNum\"]=iter\n",
    "            #add timestamp of the first word in this segment\n",
    "            seg_result[\"startTime\"]=segment_dict[\"words\"][0][\"startTime\"]\n",
    "            #add timestamp of the last word in this segment\n",
    "            seg_result[\"endTime\"]=segment_dict[\"words\"][-1][\"endTime\"]\n",
    "            #add transcript of this segment \n",
    "            seg_result[\"transcript\"]=segment_dict[\"transcript\"]\n",
    "            segments.append(seg_result)\n",
    "            iter+=1\n",
    "\n",
    "    return segments\n"
   ]
  },
  {
   "cell_type": "code",
   "execution_count": 2,
   "metadata": {
    "tags": []
   },
   "outputs": [
    {
     "output_type": "stream",
     "name": "stdout",
     "text": "344\n"
    }
   ],
   "source": [
    "from training_data_collection import collect_training_episodes\n",
    "\n",
    "input_file = '../data/podcasts_2020_train.1-8.qrels.txt'\n",
    "root_dir = '../data/podcasts-no-audio-13GB'\n",
    "training_episodes = collect_training_episodes(root_dir, input_file)\n",
    "training_segments = []\n",
    "for episode in training_episodes:\n",
    "    training_segments.append(extract_segments(episode))\n",
    "\n",
    "with open('../data/training_sub.json', 'w') as fout:\n",
    "        json.dump(training_segments , fout)"
   ]
  },
  {
   "source": [
    "\n",
    "The Physics of Black Holes\tIn this episode Zhao fan, Christoff, and Pascale discuss the physics behind the recently released photo of a black hole in the M87 galaxy.\n",
    "\"\"\"\n",
    "<topic>\n",
    "<num>3</num>\n",
    "<query>black hole image</query>\n",
    "<type>topical</type>\n",
    "<description>In May 2019 astronomers released the first-ever picture of a black hole.  I would like to hear some conversations and educational discussion about the science of astronomy, black holes, and of the picture itself.</description>\n",
    "</topic>\n",
    "\"\"\""
   ],
   "cell_type": "markdown",
   "metadata": {}
  },
  {
   "cell_type": "code",
   "execution_count": 6,
   "metadata": {
    "tags": []
   },
   "outputs": [],
   "source": [
    "\n",
    "from sentence_transformers import SentenceTransformer\n",
    "import scipy.spatial\n",
    "import numpy as np\n",
    "\n",
    "\n",
    "episode_path=\"/Users/Simpan/spotify/spotify-podcasts-2020/podcasts-transcripts/7/K/show_7KjIumXpDzE8vj47JUpInQ/58608SLCnt70sfgrI3gJZK.json\"\n",
    "\n",
    "embedder = SentenceTransformer('bert-base-nli-mean-tokens')\n",
    "segments_l=[dict[\"transcript\"] for dict in extract_segments(episode_path)]\n",
    "#extract_segments(episode_path)"
   ]
  },
  {
   "cell_type": "code",
   "execution_count": 7,
   "metadata": {},
   "outputs": [
    {
     "output_type": "execute_result",
     "data": {
      "text/plain": "[\"I said get it out now or something to be doing that later. Nobody wants that. Did you hit the Wow Let's Go Kristoff. Hi, welcome to the physics of almost everything podcast where we talk about.\",\n 'thing physics',\n \" Oh, I'm Pascal. I'm Joe Van and I'm Christoph. They were talking about black holes. There's face. You better watch out. Um black holes are actually planes in space in which the gravitational pull is so strong that it can even suck in lights. Yeah, though, they're called black holes. They actually created when a star dies and a supernova is produced which is a large explosion and then when it come packs and comes back together in\",\n \" Relatively small space relatively small compared to the star that it was before the large amount of density and mass of that volume actually causes it to collapse in on itself and then sucks everything else in there are also three types of black holes miniature which are Fun Size Stellar which are normal and supermassive which you can assume but no one's actually ever found.\",\n \" Definitive a hundred percent proof of a miniature black hole. So that's not really guaranteed. Does anybody have any questions? Yeah. I have a question Kristoff. Do we know the difference between a miniature versus like a supermassive black hole or is that something we need to figure out in the clarification station? Um, we'll figure that I'm clarification station. I'll get right back to you. Okay, cool. Thank you. So the first concept of black hole was introduced in.\",\n \" 1784 by Joe Mitchell Mitchell use Newton's gravity law successfully calculated the escape velocity of light from a body and predicted that there are starts out there which are so dense that even light cannot escape from them. Mitchell called them dark stars in 1801 light was discovered as a form of wave. It was unclear how wave could be affected by gravitational field. The Dark Star series was dropped. It was not until 1915 a hundred fifteen years. Later.\",\n \" I do to Albert Einstein's theory of general relativity that explained how light would behave differently under the influence of gravitational field. The dog star was swapped back again on September 1st 1939 on the same day Nazi Germany invaded Poland. The first academic paper about black holes were published to American physicist Jay Roberts open her Mio and Heartland Cinder.\",\n ' Predicted that when the star continues contraction under the influence of own of its own gravitational field a body can be created with very strong attraction force that even light cannot escape. This is the first modern concept of the black hole an object that is so intense that it can only be detected according to its gravitational field. Even though black holes have been discovered since then. It was not until 2015 when the scientists were able to measure the gravitational wave created.',\n \" Dated by a black hole system, they found the first concentrate proof of black holes existence. That's cool. I didn't realize that you know, this has been something that they've had theories about four years, but they didn't really have any proof until so recently so cool. Thanks. Johan speaking about recently. There has been some major breakthroughs in current events with black holes, seeing as the first-ever photo of a black hole well photo in air quotes of a black hole blue.\",\n \" Up and has been going all over social media a couple weeks ago. What they did is that they took a bunch of radio telescopes which measure the radio frequencies emitted by astrological objects and anomalies and they were able to make a formula that created an image which is practically blurry orange circle. It's very unclear, but that's actually the light reflecting off of the back of the black hole.\",\n ' And so the center itself would be what you would presume to be the black hole. They were also able to get some predictions about the size and the mass the mass is predicted to be 6.5 billion solar masses now solar mass is the mass of our sun. So 6.5 billion times the mass of our sun and also 38 billion kilometers in diameter, which is insane.',\n \" Cool. Thanks Krista. You're welcome. So now that we know a little bit more black about black holes in this photo that was taken. The question is kind of pose. What's the big deal? Why does this matter? There's a few reasons why this picture of the black hole is important the first being that it confirms the theories about a black hole being in the center of the m87 Galaxy, which is not our own Galaxy. It's actually fifty three point five million.\",\n \" Years away from Earth and this is the largest supermassive black hole that we know of so, it's kind of cool that we were able to get a photo of it. I'm Pasco. I have two questions. Yes one. How big is the m87 galaxy and where does the name Lightyear even come from because isn't that distance? Not time? Yeah, so I think these are things that we have to follow up about in the clarification station, but you did talk about the mass of the black hole.\",\n \" In the m87 Galaxy but I think we would be able to find how big the actual Galaxy is. So they look into that. Thank you. Another reason that this is important is because it come it confirms these ideas that scientists have had about black holes that shelf and kind of talked about with Albert Einstein. So these predictions about the theories of general relativity that are centuries older actually being finally confirmed which is pretty cool. And although this image is may be cool for those of us who aren't\",\n \" Scientists, we're actually not learning a lot about black holes from this image because it's so close to the predictions that were already made. So I guess it's kind of a good thing and a bad thing and this is sort of a picture in a goal 13 years in the making the Event Horizon telescope project was launched in 2006. So it's a pretty huge accomplishment and a question that I had sort of thought of as why did not why didn't we take a picture of the black hole in our own Galaxy that black\",\n \" Liz called Sagittarius A and it's actually pretty small compared to some of the other black holes that we know of and although the m87 black hole is 50 3.5 million light years away that's actually relatively close and we were able to take a picture of it. And this also means that we can do future research about black holes by adding more dishes to get a sharper image and they also want to do more images over time to see how black holes are changing which is research that\",\n \" We haven't really been able to see so I guess you have been will tell us a bit about why we should care about this in our own lives. Yes. It is true. That black hole is addition concept that high school students might not have a chance to deep studying. However, understanding black holes can be very beneficial for all humankind. The general relativity was much better than the student from studying black holes and that gave us the global positioning satellites known as GPS studying black hole not only can provide us better.\",\n \" Being of the universe but also potentially increases life quality when the physics series got applied cool. So if no one else has any other questions were going to take a break and think about some of the things we've had questions about and we'll be back for the clarification station.\",\n \" Welcome to the clarification station in this section. We're going to answer the questions that we asked in the previous section.\",\n ' The difference between a miniature and a supermassive black hole. So do you have the answer to that? I can tell you the difference between a stellar and a supermassive physically a stellar is 3 to 10 times roughly the mass of the Sun whereas supermassive hence the name supermassive are about 10 to the fifth or ten to the tenth times the mass of the Sun and seeing as',\n \" Stellar's are usually formed from a collapsing star scientists have now found that they believe that super masses though. We don't know exactly how they're made are too large to be made from the collapsing of a star but we don't know a hundred percent how these supermassive black holes were made and it's believed that most Galaxies have a supermassive black holes that are in the center of them.\",\n \" Nice. Yeah. Yeah, but you're welcome. Now past go back in the previous section I ask you. How big is the m87 galaxy because you myself I only live in Rhode Island, which is pretty small compared to the entire galaxy. Yeah. So the m87 Galaxy is two thousand four hundred billion times the mass of the Sun where the actual black hole that we were talking about is 6.5.\",\n \" A billion times the mass of the Sun so a bit of a difference you would also ask me where Lightyear comes from like where the name comes from. So a light year is the distance of beam can of light can travel in one year which is about 6 trillion miles and a little fun fact is that light travels at 670 million miles per hour, which is pretty crazy. It's crazy. Yeah.\",\n \" I ask you another question. I know I seem like a bit of a burden but it huh. Sorry, I asked you where does the name Sagittarius A come from? Like who or how do these galaxies get named? So there isn't like a universal system for naming black holes are galaxies Universal.\",\n \" Some are named for the constellations around them in this case or sometimes they're made for the people who have discovered them or things like that. So there's not really a uniform way of naming black holes are galaxies. But yeah, that's it for today's physics of almost everything podcast. Thanks for listening.\",\n \" We'll be back soon, hopefully.\",\n ' keep on']"
     },
     "metadata": {},
     "execution_count": 7
    }
   ],
   "source": [
    "segments_l"
   ]
  },
  {
   "cell_type": "code",
   "execution_count": null,
   "metadata": {
    "tags": []
   },
   "outputs": [],
   "source": [
    "import os\n",
    "\n",
    "base_dir=\"/Users/Simpan/spotify/spotify-podcasts-2020/podcasts-transcripts\"\n",
    "data=[]\n",
    "for sub_dir in os.listdir(base_dir):\n",
    "    for sub_sub_dir in os.listdir(base_dir+'/'+sub_dir):\n",
    "        for show_dir in os.listdir(base_dir+'/'+sub_dir+'/'+sub_sub_dir):\n",
    "            show_dict={}\n",
    "            show_dict[\"showId\"]=show_dir\n",
    "            show_dict[\"episodes\"]=[]\n",
    "            for i,episode in enumerate(os.listdir(base_dir+'/'+sub_dir+'/'+sub_sub_dir+'/'+show_dir)):\n",
    "                episode_dict={}\n",
    "                #remove .json ending\n",
    "                episode_dict[\"episodeId\"]=episode[:-5]\n",
    "                episode_dict[\"episodeNo\"]=i\n",
    "                episode_path=base_dir+'/'+sub_dir+'/'+sub_sub_dir+'/'+show_dir+'/'+episode\n",
    "                episode_dict[\"episodeSegments\"]=extract_segments(episode_path)\n",
    "                show_dict[\"episodes\"].append(episode_dict)\n",
    "            data.append(show_dict)\n",
    "with open(\"test.json\", \"w+\") as write_file:\n",
    "    json.dump(data, write_file)"
   ]
  }
 ]
}