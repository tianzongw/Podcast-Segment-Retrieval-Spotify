{
 "metadata": {
  "language_info": {
   "codemirror_mode": {
    "name": "ipython",
    "version": 3
   },
   "file_extension": ".py",
   "mimetype": "text/x-python",
   "name": "python",
   "nbconvert_exporter": "python",
   "pygments_lexer": "ipython3",
   "version": "3.8.3-final"
  },
  "orig_nbformat": 2,
  "kernelspec": {
   "name": "Python 3.8.3 64-bit ('base': conda)",
   "display_name": "Python 3.8.3 64-bit ('base': conda)",
   "metadata": {
    "interpreter": {
     "hash": "5d193e1ef6fbafc665c8c62e822e45e442b287181202de3962b8677ec437b5c4"
    }
   }
  }
 },
 "nbformat": 4,
 "nbformat_minor": 2,
 "cells": [
  {
   "cell_type": "markdown",
   "metadata": {},
   "source": [
    "What the data looks like \n",
    "\n",
    "for each episode there is a json-file with following structure\n",
    "\n",
    "{\"results\":[{\"alternatives\":[{\"transcript\":\"Hi, this is transcript of first segment\",\"confidence\":0.91,\"words\":[{\n",
    "                     \"startTime\":\"0s\",\n",
    "                     \"endTime\":\"0.300s\",\n",
    "                     \"word\":\"Hi,\"\n",
    "                  },\n",
    "                  {\"startTime\":\"0.500s\",\n",
    "                     \"endTime\":\"0.900s\",\n",
    "                     \"word\":\"this\"}]}]}]}\n",
    "\n",
    "\n",
    "\n",
    "\n",
    "What I want the data to look like (kind of)\n",
    "\n",
    "for each show there shoud be one dict containing show id, show name and all episodes of show split into segments\n",
    "\n",
    "[{'show-id':'123','show-name':'alex & sigge','episodes':[{'name':'first episode','date':'2020-01-01','segmentTranscripts':[{'segNo':0,'startTime':'00:00s','endTime':'00:20s','transcript':'......',},{},]}]},{},]\n",
    "\n",
    "- show name would have to be looked up in the metadata.tsv"
   ]
  },
  {
   "cell_type": "code",
   "execution_count": 4,
   "metadata": {
    "tags": []
   },
   "outputs": [],
   "source": [
    "import json\n",
    "\n",
    "#for each episode extract {word:'hello',timestamp:'00.00s'} \n",
    "    \n",
    "\n",
    "def extract_segments(path):\n",
    "    with open(path, \"r\") as read_file:\n",
    "        episode = json.load(read_file)\n",
    "    segments=[]\n",
    "    #had to do \"manual\" iteration due to irregularities in data\n",
    "    iter=0\n",
    "    for segment in episode[\"results\"]:\n",
    "        seg_result={}\n",
    "        #make sure there is only one dict in this list (should be true according to dataset description)\n",
    "        assert len(segment[\"alternatives\"])==1\n",
    "        segment_dict=segment[\"alternatives\"][0]\n",
    "        #sometimes \"alternatives\" dict is empty...\n",
    "        if \"words\" and \"transcript\"  in segment_dict:\n",
    "            #add segment number\n",
    "            seg_result[\"segNum\"]=iter\n",
    "            #add timestamp of the first word in this segment\n",
    "            seg_result[\"startTime\"]=segment_dict[\"words\"][0][\"startTime\"]\n",
    "            #add timestamp of the last word in this segment\n",
    "            seg_result[\"endTime\"]=segment_dict[\"words\"][-1][\"endTime\"]\n",
    "            #add transcript of this segment \n",
    "            seg_result[\"transcript\"]=segment_dict[\"transcript\"]\n",
    "            segments.append(seg_result)\n",
    "            iter+=1\n",
    "\n",
    "    return segments\n"
   ]
  },
  {
   "cell_type": "code",
   "execution_count": 17,
   "metadata": {},
   "outputs": [
    {
     "output_type": "execute_result",
     "data": {
      "text/plain": "dict_keys(['3GsS8PAYL6u3ClsZFnW3RZ'])"
     },
     "metadata": {},
     "execution_count": 17
    }
   ],
   "source": [
    "extract_segments('/Users/Simpan/spotify/spotify-podcasts-2020/podcasts-transcripts/7/0/show_70AtBgIej68YuFXDt6l0aB/3GsS8PAYL6u3ClsZFnW3RZ.json').keys()"
   ]
  },
  {
   "cell_type": "code",
   "execution_count": 7,
   "metadata": {
    "tags": []
   },
   "outputs": [
    {
     "output_type": "stream",
     "name": "stdout",
     "text": "{'3NHTGeZoLLIfoHnlwtOu6w': [{'segNum': 0, 'startTime': '0s', 'endTime': '14.900s', 'transcript': \"Hi, I'm Kenya and I am one year in you're listening to the GC youth Ministries podcast. You plus me plus we welcome welcome pull up a chair grab a seed and listening.\"}, {'segNum': 1, 'startTime': '29.800s', 'endTime': '57.300s', 'transcript': \" All right, so welcome. I'm Anya. Hi Kenya. Are you feeling tired tired? You don't know dying. Hmm. I can assure you that much. I can only imagine so hello to everyone that's listening in welcome. Hey, how are you sir? How are y'all? How are you doing? Kenya? You asked me how I was doing. Yeah. Look at that politeness.\"}, {'segNum': 2, 'startTime': '58.400s', 'endTime': '87.300s', 'transcript': \" Not that person. I'm doing good doing better feeling excited. I'm excited about this. Me too. Yeah, because I feel like this is fine like our baby. Hmm. I think Kenny and I have been trying to do a podcast for like a year outside of thousands of years and then and then pasta gay was like go ahead and gave us the green light because that's what it's all about. Right supporting our young people and letting them just like Flex their wings like the wings of they\"}, {'segNum': 3, 'startTime': '88.300s', 'endTime': '117.800s', 'transcript': \" Spread their wings as a thing he'll but okay. Alright. So in this podcast we want to just have an open conversation. I think that one of the main things we were focusing on was the importance of having a three-way conversation with the you being not you mañana not you whoever is listening, but you God and we want to make sure that we are not just asking ourselves why God isn't like talking to us, but also making sure that we are seeking his voice each and every day.\"}, {'segNum': 4, 'startTime': '118.400s', 'endTime': '148.200s', 'transcript': \" There's also the me part of the equation whose that me is me me me me gummy is yummy as me? No actually, it's me that he liked me better already. So the me is us is who me when Nia me Kenya me Paul wherever you are the Jill Hey Joe, how you doing? What's up? So me is who the perp wherever the person is.\"}, {'segNum': 5, 'startTime': '148.300s', 'endTime': '178.200s', 'transcript': \" The individual who's living life going through life understanding life struggling with life. Hmm because overall goals its adult life in jail life is hard and then we have we who's we what so we well we this is the third part of our equation the third part of our conversation is what is the church the we is the church or we as a people, who are we as Seventh-Day Adventists? Who are we as the young people of this generation?\"}, {'segNum': 6, 'startTime': '178.400s', 'endTime': '208.100s', 'transcript': \" And of the church and we want to make sure that we remember that we are a community we need to act like one and we need to move like one and we need to worry for each other like a community does worry for each other. So I think that that's an important piece of our conversation because as a community just because we're moving together in one sentiment does not mean that we're always going to see eye-to-eye that were not that were always going to agree because we come from different backgrounds and experience different things but the importance of having a conversation like this.\"}, {'segNum': 7, 'startTime': '208.300s', 'endTime': '238.200s', 'transcript': ' This is that as a community we can come and we can be kind to each other and listen to each other stories and opinions true dat. Hmm. I like so Kenya. What does God I mean to you who is God was Jesus? Who is the Holy Spirit? Yeah. Are they? Who is them singular? Well, the Bible goes on and on about who they are. Right God is the beginning in the end. He is the Alpha and the Omega he is the all-mighty the all-knowing he is omnipotent omnipresent.'}, {'segNum': 8, 'startTime': '238.300s', 'endTime': '268.200s', 'transcript': \" Isn't all nations. Oh, yeah, they words all of the Omni. All of them. He is the creator he is life. Um, he is the the way right? I'll truth and the light. Yes, and he is I for like my life, I knew that and he is our creator and our heavenly father but going on to a more personal level. I'm a person with just a lot going on all the time a lot.\"}, {'segNum': 9, 'startTime': '268.300s', 'endTime': '298.200s', 'transcript': \" Hang on outwardly a lot going on inwardly. There's just so much in my head so much in my heart and I've gone through so many things experience so many sometimes very chaotic moments in my life and through it. All. God has been my peace. God has been the one thing that just kind of like grabbed me by the shoulders and it's like all right. It's time to just chill. Yeah, no stop it. Calm down. Looks like we need a moment stand still and I mean in the Bible, there's Psalms 46:10.\"}, {'segNum': 10, 'startTime': '298.300s', 'endTime': '328.100s', 'transcript': \" It says be still and know that I am God and I think that's one of my favorite affirmations where God is like just stand there and watch me work my wonders watch me be God watch me be able to work my wonders in your life and just show you of everything. You know, I'm capable of and I think that God for me has definitely been that still Small Voice that still whisper that we know from First Kings where it's like he didn't come in the fire. He didn't come in the strong wind. He came in the small whisper and to me he's constantly\"}, {'segNum': 11, 'startTime': '328.200s', 'endTime': '352.600s', 'transcript': \" My small was burned I depend on him for all my piece all your calmness all of them. All the comments made need. So I'm just thinking God. This is our mom someone. Yeah, who is God to you and yours? Jesús Cristo El espíritu Santo karate.\"}, {'segNum': 12, 'startTime': '355.200s', 'endTime': '368.300s', 'transcript': \" Letsa, yes, I didn't M1 is pretty good Multicultural multilingual dealing with everything multicolored all of the things.\"}, {'segNum': 13, 'startTime': '370.800s', 'endTime': '399.900s', 'transcript': ' So I said God loves me. I know because I was the first that could come into my head about God and but pray for me my mom. So who is God to me God to me out of everything that we can think of when we think about God the word that comes to me is provider God is the person I look for when I am in need of things and in need of something and not'}, {'segNum': 14, 'startTime': '400.100s', 'endTime': '429.300s', 'transcript': \" Always necessarily as in God, I need money God. I need a new iPhone because my speaker is messed up. Oh God, I need furniture for my apartment because it has none but outside of those things. I think to look to God for when I'm in I'm lacking Joy. I need to join God fills me in that way and God when I am like whatever I'm lacking in God is always there and\"}, {'segNum': 15, 'startTime': '430s', 'endTime': '459.900s', 'transcript': \" that brought me can you actually reminded me of Psalms 23 where it says the Lord is my shepherd. I shall not want and it's not the want of a child where it's like Mommy I need I want this and I want a new bar because Barbies are cute and I like pink but it's the the living without we actually look this up and in the Hebrew, it's not lacking not not in need of anything else your your fulfilled to the most.\"}, {'segNum': 16, 'startTime': '460s', 'endTime': '489.800s', 'transcript': \" You could be and there's nothing else that you seek because God is there and God has filled everything that you could think of he provided the money, but he also provided the joy and the love that you're seeking and he fills all of that. So that's who God is to me that reminds me of my favorite biblical verse when you said like we're not lacking of like have enough of something is in 2nd Corinthians 9 12. I'm not mistaken Second Corinthians says his grace is\"}, {'segNum': 17, 'startTime': '490s', 'endTime': '505.400s', 'transcript': \" sufficient for me is enough. Yeah, it's more everything. It's literally all-encompassing. I do not lack of anything and I think that it's a great point that you bring up that in Psalms 23. It's literally talking about like there is nothing else. I could ever want nothing you give you all your for your head.\"}, {'segNum': 18, 'startTime': '507.500s', 'endTime': '535.500s', 'transcript': \" Green Pastures shiny so I don't want to thank you, but thanks God for the intention. Okay. So now there's a second part of our mission as we just covered the you part which is God and we wanted to have a moment to just be able to say, you know, who's got to me, but I think it's a\"}, {'segNum': 19, 'startTime': '535.700s', 'endTime': '565.300s', 'transcript': \" Nice moment for you today at some point if you have an opportunity, I don't mean one. Yeah, I mean you listening you have an opportunity today to just do these things. Yeah, sit down and think about who is God to you. You can even pause this right now and just go ahead and stop it. Stop a moment and just be like who is God to me and meditate on all the Wonders and all the greatness of God, but there is a second part. Well that hmm, and it's the Meat part. So who Am she who is me? Who is me is when y'all who is Manya?\"}, {'segNum': 20, 'startTime': '565.800s', 'endTime': '595.600s', 'transcript': \" Nia nia, nia is Zambian by birth? Yes American by living. Hmm and Queens from Queens. The Boogie know why is a daughter. When is the sister? When is nice when use crazy when it's loud? When is messy when your stock itive fun? When is a good sister? She's really good. My sister's think so when he was also a good friend, my friend.\"}, {'segNum': 21, 'startTime': '595.700s', 'endTime': '624.500s', 'transcript': \" Ends tell me that Allah will check I'm gonna make some calls. My friends are always like when you're the best. Oh, he's a good friend. That's my idea is amazing when you has a song Wait what dead so I used to I used to take care of this kid, and she made me a song and it's when he's amazing when he has amazing. It's amazing when you when you yeah, and with that we're out guys filled with - amazingness.\"}, {'segNum': 22, 'startTime': '625.800s', 'endTime': '655.500s', 'transcript': \" So who is Kenya? Who is she who is Kenya? Well, Kenya is many things. I think ever revolutionising ever evolving, you know, a major definitely an English. I'm just an English everything here. But no Kenya is regular girl from the Bronx and you know born and raised born to Guatemalan mother during father raised by a wonderful stepfather. Who is Dominican surrounded by\"}, {'segNum': 23, 'startTime': '655.700s', 'endTime': '685.600s', 'transcript': \" A lot of love big sister which comes with a lot of responsibilities but also with such beautiful memories Kenya is not a wife. She's not a wife. That's a new title. Yes husband and I love is life. Shout out to her husband. And yes Kenya. I definitely love to live by what the Pathfinder lock talks about and it's you know, I'm friend.\"}, {'segNum': 24, 'startTime': '685.900s', 'endTime': '715.500s', 'transcript': \" I'll find out I'm a servant of God and a friend to man and I strive to be that I might not be that all the time, but I definitely strive to be God's Urban and everything I do and try to be a friend to everyone. Yeah, I think that's what were called to do. And I think Kenya's just someone who is passionate about life excited about life excited to learn and read and then someday hopefully right it when I read a book and stuff. Oh, you ready? Y'all remember the\"}, {'segNum': 25, 'startTime': '715.700s', 'endTime': '726.500s', 'transcript': \" This and the year 2040 call me on if I haven't read the book. It's written by Kenya vs. Lily on a memoir.\"}, {'segNum': 26, 'startTime': '729.900s', 'endTime': '758s', 'transcript': ' what happened during the GC podcast the a look behind so the next part is we it was we who is our the we of this equation will them well, like we mentioned before you know, this we want to make sure we include the community which is our church the we part of this is our our church as a whole and we want to make sure that in the conversations that we have here, which we will have many and they will be very interesting we will'}, {'segNum': 27, 'startTime': '758.200s', 'endTime': '788s', 'transcript': ' Get to hear from some great people who we have invited as guests on the show. And I think that they will give us an understanding of how different we are as a people but how much we can learn from one another so we always have to remember that although it gets tough. Sometimes being you know, young person Adventists who ever we have a community that we can always reach out to and hopefully that Community will always be able to take you in with open arms, you know, remembering what'}, {'segNum': 28, 'startTime': '788.100s', 'endTime': '817.100s', 'transcript': \" is the church what as Adventists do we believe in what we believe in as a people of the Bible. I love the word of God. You know, what do we believe in? Who are we now what is our identity as the people who are waiting for his second coming. So I think that's something that we will be able to just learn more about and hopefully we'll keep the conversation always remembering that there is a community out there with its own opinions and thoughts and love to hear about it. Yes.\"}, {'segNum': 29, 'startTime': '818.500s', 'endTime': '848.100s', 'transcript': \" I'm excited about uncovering will the church is or what the church the things that we think about and what the church stances are on those things and points of discussion and how does being part of the church being Seventh-day Adventist affect us and our daily lives. Hmm. Yeah. Yes. I did. I'm excited for all the conversations that I know we're going to have this room and for all of the people who are in good engage with us, hopefully and for all of the amazing guests that we have.\"}, {'segNum': 30, 'startTime': '848.300s', 'endTime': '878.100s', 'transcript': \" Signed up as the conversations and the stories that we will hear and hopefully you guys will also be excited. So in order to make sure you are W excited when yeah, when does it all when does it all begin? It begins? We are will be inversely or headphones. Okay. This is a teaser guy. Sorry. Oh, it's like a whole episode but it's not as it should be um, but we'll be in your headphones in your car.\"}, {'segNum': 31, 'startTime': '878.200s', 'endTime': '890.200s', 'transcript': \" Stereos and your house is on a February the 17th of 2020. I have one we have a classically I don't know no.\"}, {'segNum': 32, 'startTime': '893s', 'endTime': '894s', 'transcript': \" No, it's not it.\"}, {'segNum': 33, 'startTime': '897s', 'endTime': '925s', 'transcript': \" February 17 guys, we ready we're so wack. Um, but if after listening to all of that and you're like crazy young adults kind of makes sense and I kind of like them and I kind of want to join this conversation and be part of the part of the church be part of the we'd be part of the speed out of this community. How does one become\"}, {'segNum': 34, 'startTime': '925.100s', 'endTime': '954.800s', 'transcript': \" Part of that Kenya. How does one join the conversation shared their thoughts explain how when he was better than Kenya. How do they go ahead and do that? Well, all of that - the last part first of all, if you're not already following us on our social media Pages do so right. Now you can find us on Instagram as g c by T H Min which stands for GC youth Ministries all like, you know abbreviated. We you can also find this is GC youth\"}, {'segNum': 35, 'startTime': '955.100s', 'endTime': '985s', 'transcript': \" trees on Facebook. So make sure you follow us there you friend us there you add us there and we will be using our hashtag our official hashtag is going to be hashtag gcy podcast GC youth podcast. And if you want to give your opinion on a topic, we will definitely be present on the social media and also you can social media the social medias and also you can upload a picture of video anything you'd like and use that as a hashtag if\"}, {'segNum': 36, 'startTime': '985.100s', 'endTime': '1014.900s', 'transcript': \" Something you want to share with us and we'll definitely check it out and make mention on the next episode. We're looking forward to hearing from you guys and learning more about how us going through this Learning Journey with podcasting and understanding more about the church and who we are and who God is that we want to see your feedback and how far you're moving in this journey as well too. So right now we're excited because we're going to unveil one of our segments that we're super excited.\"}, {'segNum': 37, 'startTime': '1015s', 'endTime': '1044.900s', 'transcript': \" Excited about and being that I'm in the presence of an amazing pastor's wife. Yes. He has many much wisdom much many a lot. She has a lot of wisdom to share with us, you know. So one of the segments that we have is a pin it thought pin it we're going to pin something on to our Board of life. I know memories if you think about Pinterest and that analogy you kind of see where that train of thought is going but it's\"}, {'segNum': 38, 'startTime': '1045.100s', 'endTime': '1074.900s', 'transcript': ' Actually something that you can keep with you throughout the week throughout your month as you reflect back on this podcast. So Kenya. Hmm. What is are pinnate thought for this teaser for this for life for this month? Well are pinnate thought for today is remember to drink water. Remember to drink your water I suck at drinking water and when you were so gracious and brought me a little bit of water if you had a video. Yeah, it would see that she brought me a little bit.'}, {'segNum': 39, 'startTime': '1075s', 'endTime': '1105s', 'transcript': \" Of water definitely need to stay hydrated. It's good for you. It's good for your body and it just makes you glow from the inside out. But also remember to always come back to the Fountain of Life. Remember to always come back and drink from that living water and come back to that. Well, and that living water will make sure that you thirst no more so drink your water not just your physical water, but also your spiritual water Bibles book girls. Yes. Yes. Remember it. That's what your what your homework is.\"}, {'segNum': 40, 'startTime': '1105.100s', 'endTime': '1119.300s', 'transcript': \" For the rest of this month awesome. I'm excited. So till next time till we meet again. So basically we're leaving. Um, so that's the end shout out to Sophie and Esau for their birthdays Kampai.\"}, {'segNum': 41, 'startTime': '1105.100s', 'endTime': '1119.300s', 'transcript': \" For the rest of this month awesome. I'm excited. So till next time till we meet again. So basically we're leaving. Um, so that's the end shout out to Sophie and Esau for their birthdays Kampai.\"}]}\n"
    }
   ],
   "source": [
    "from training_data_collection import collect_training_episodes\n",
    "\n",
    "input_file = '/Users/Simpan/spotify/Podcast-Segment-Retrieval-Spotify/data/podcasts_2020_train.1-8.qrels.txt'\n",
    "root_dir = '/Users/Simpan/spotify/Podcast-Segment-Retrieval-Spotify/data/podcasts-no-audio-13GB'\n",
    "#training_episodes = collect_training_episodes(root_dir, input_file)\n",
    "training_segments = {}\n",
    "training_episodes=['/Users/Simpan/spotify/spotify-podcasts-2020/podcasts-transcripts/6/0/show_60aEckwTYs8xCEpsAasV0o/3NHTGeZoLLIfoHnlwtOu6w.json']\n",
    "for episode in training_episodes:\n",
    "    episode_id=episode.split('/')[-1].split('.json')[0]\n",
    "    training_segments[episode_id]=extract_segments(episode)\n",
    "with open('../data/training_sub_test.json', 'w') as fout:\n",
    "        json.dump(training_segments , fout)"
   ]
  },
  {
   "cell_type": "code",
   "execution_count": 4,
   "metadata": {},
   "outputs": [
    {
     "output_type": "execute_result",
     "data": {
      "text/plain": "{'segNum': 0,\n 'startTime': '14.100s',\n 'endTime': '21.400s',\n 'transcript': \"Hello, this is Zach. You're welcome to st. Patrick's podcast. This is presented to you by us Zack Caden.\"}"
     },
     "metadata": {},
     "execution_count": 4
    }
   ],
   "source": [
    "import json\n",
    "path='../data/training_sub.json'\n",
    "with open(path,'r') as f:\n",
    "    data=json.load(f)\n",
    "data[0][0]"
   ]
  },
  {
   "cell_type": "code",
   "execution_count": null,
   "metadata": {},
   "outputs": [],
   "source": [
    "#fetch queries from xml and put into list\n",
    "#def fetch_queries(path)\n",
    "import xml.etree.ElementTree as ET\n",
    "tree = ET.parse('../../podcasts_2020_topics_train.xml')\n",
    "root = tree.getroot()\n",
    "\n",
    "topics=[{'topic-no':element[0].text,'query':element[2].text,'description':element[3].text} for element in root]\n"
   ]
  },
  {
   "cell_type": "code",
   "execution_count": 34,
   "metadata": {
    "tags": []
   },
   "outputs": [
    {
     "output_type": "execute_result",
     "data": {
      "text/plain": "609"
     },
     "metadata": {},
     "execution_count": 34
    }
   ],
   "source": [
    "#fetch topic number, correct jump-in point for training set\n",
    "\n",
    "with open('../../podcasts_2020_train.1-8.qrels.txt','r') as f:\n",
    "    contents=f.readlines()\n",
    "targets=[{'episode':line.split()[2].split('_')[0].split(':')[2],'topic-no':line[0],'target-time':line.split()[2].split('_')[1]} for line in contents]\n",
    "\n",
    "len(targets)"
   ]
  },
  {
   "cell_type": "code",
   "execution_count": null,
   "metadata": {
    "tags": []
   },
   "outputs": [],
   "source": [
    "#TODO \n",
    "#match episodes, target times and queries\n",
    "#rewrite semi pseudo-code\n",
    "from sentence_transformers import SentenceTransformer, util\n",
    "import numpy as np\n",
    "\n",
    "\n",
    "embedder = SentenceTransformer('bert-base-nli-mean-tokens')\n",
    "\n",
    "\n",
    "#semi pseduo-code\n",
    "n_correct=0\n",
    "for episode in data:\n",
    "    episode_id=\n",
    "    target_time=\n",
    "    data=extract_segments(path)\n",
    "    segments=[item[\"transcript\"] for item in data]\n",
    "    timespans=[(item[\"startTime\"],item[\"stopTime\"]) for item in data]\n",
    "    query=topics[episode['episode-no']]['query']\n",
    "    episode_embeddings=embedder.encode(segments, convert_to_tensor=True)\n",
    "    query_embedding=embedder(query)\n",
    "    cos_scores = util.pytorch_cos_sim(query_embedding, corpus_embeddings)[0]\n",
    "    #if running on gpu\n",
    "    #if cuda.device()==GPU\n",
    "    #cos_scores = cos_scores.cpu()\n",
    "    top_k=5\n",
    "    top_results = np.argpartition(-cos_scores, range(top_k))[0:top_k]\n",
    "    idx_closest=top_results[0]\n",
    "    pred_timespan=timespans[idx_closest]\n",
    "    if pred_timespan[0]<=target_timespan<=pred_timespan[1]:\n",
    "        n_correct+=1\n",
    "\n",
    "\n",
    "accuracy=n_correct/len(test_dataset)\n",
    "\n",
    "\n",
    "\n"
   ]
  },
  {
   "cell_type": "code",
   "execution_count": null,
   "metadata": {},
   "outputs": [],
   "source": [
    "segments_l"
   ]
  },
  {
   "cell_type": "code",
   "execution_count": null,
   "metadata": {
    "tags": []
   },
   "outputs": [],
   "source": [
    "#dont run\n",
    "import os\n",
    "\n",
    "base_dir=\"/Users/Simpan/spotify/spotify-podcasts-2020/podcasts-transcripts\"\n",
    "data=[]\n",
    "for sub_dir in os.listdir(base_dir):\n",
    "    for sub_sub_dir in os.listdir(base_dir+'/'+sub_dir):\n",
    "        for show_dir in os.listdir(base_dir+'/'+sub_dir+'/'+sub_sub_dir):\n",
    "            show_dict={}\n",
    "            show_dict[\"showId\"]=show_dir\n",
    "            show_dict[\"episodes\"]=[]\n",
    "            for i,episode in enumerate(os.listdir(base_dir+'/'+sub_dir+'/'+sub_sub_dir+'/'+show_dir)):\n",
    "                episode_dict={}\n",
    "                #remove .json ending\n",
    "                episode_dict[\"episodeId\"]=episode[:-5]\n",
    "                episode_dict[\"episodeNo\"]=i\n",
    "                episode_path=base_dir+'/'+sub_dir+'/'+sub_sub_dir+'/'+show_dir+'/'+episode\n",
    "                episode_dict[\"episodeSegments\"]=extract_segments(episode_path)\n",
    "                show_dict[\"episodes\"].append(episode_dict)\n",
    "            data.append(show_dict)\n",
    "with open(\"test.json\", \"w+\") as write_file:\n",
    "    json.dump(data, write_file)"
   ]
  }
 ]
}